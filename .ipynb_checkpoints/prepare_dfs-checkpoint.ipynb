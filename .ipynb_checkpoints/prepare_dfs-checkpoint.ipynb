{
 "cells": [
  {
   "cell_type": "code",
   "execution_count": 2,
   "id": "c091bb50",
   "metadata": {},
   "outputs": [],
   "source": [
    "from StatsAggregation.common import get_data_for_df\n",
    "import sys\n",
    "import unicodedata\n",
    "import os\n",
    "import pandas as pd\n",
    "import nltk\n",
    "from nltk import word_tokenize\n",
    "from nltk.corpus import stopwords\n",
    "import pymorphy2"
   ]
  },
  {
   "cell_type": "code",
   "execution_count": 3,
   "id": "ceb7908a",
   "metadata": {},
   "outputs": [
    {
     "name": "stdout",
     "output_type": "stream",
     "text": [
      "C:\\Users\\annag\\Documents\\MLDS_writers\n"
     ]
    }
   ],
   "source": [
    "writers_dir = input()"
   ]
  },
  {
   "cell_type": "code",
   "execution_count": 5,
   "id": "520f683e",
   "metadata": {},
   "outputs": [],
   "source": [
    "data = {}\n",
    "for writer in os.listdir(writers_dir):\n",
    "    texts = get_data_for_df(writer, writers_dir)\n",
    "    data[writer] = texts"
   ]
  },
  {
   "cell_type": "code",
   "execution_count": 7,
   "id": "c1f027f4",
   "metadata": {},
   "outputs": [
    {
     "name": "stdout",
     "output_type": "stream",
     "text": [
      "Аверченко: 1482\n",
      "Булгаков: 1629\n",
      "Бунин: 1335\n",
      "Гоголь: 445\n",
      "Горький: 1682\n",
      "Достоевский: 4052\n",
      "Карамзин: 42\n",
      "Куприн: 1368\n",
      "Лермонтов: 134\n",
      "Мордовцев: 772\n",
      "Пушкин: 564\n",
      "Салтыков-Щедрин: 1373\n",
      "Толстой: 2217\n",
      "Тургенев: 350\n",
      "Чехов: 291\n"
     ]
    }
   ],
   "source": [
    "for k, v in data.items():\n",
    "    print(f'{k}: {len(v)}')"
   ]
  },
  {
   "cell_type": "code",
   "execution_count": 8,
   "id": "5ba71447",
   "metadata": {},
   "outputs": [],
   "source": [
    "pre_df = []\n",
    "for k in data:\n",
    "    for book, text in data[k]:\n",
    "        pre_df.append([k, book, text])\n",
    "df = pd.DataFrame(pre_df, columns=['author', 'book', 'text'])"
   ]
  },
  {
   "cell_type": "code",
   "execution_count": 9,
   "id": "c0c3b83d",
   "metadata": {},
   "outputs": [
    {
     "data": {
      "text/html": [
       "<div>\n",
       "<style scoped>\n",
       "    .dataframe tbody tr th:only-of-type {\n",
       "        vertical-align: middle;\n",
       "    }\n",
       "\n",
       "    .dataframe tbody tr th {\n",
       "        vertical-align: top;\n",
       "    }\n",
       "\n",
       "    .dataframe thead th {\n",
       "        text-align: right;\n",
       "    }\n",
       "</style>\n",
       "<table border=\"1\" class=\"dataframe\">\n",
       "  <thead>\n",
       "    <tr style=\"text-align: right;\">\n",
       "      <th></th>\n",
       "      <th>author</th>\n",
       "      <th>book</th>\n",
       "      <th>text</th>\n",
       "    </tr>\n",
       "  </thead>\n",
       "  <tbody>\n",
       "    <tr>\n",
       "      <th>0</th>\n",
       "      <td>Аверченко</td>\n",
       "      <td>Averchenko_A-T-Averchenko-Sobranie-sochineniy-...</td>\n",
       "      <td>Мы за пять лет. Материалы [к биографии]\\nКак б...</td>\n",
       "    </tr>\n",
       "    <tr>\n",
       "      <th>1</th>\n",
       "      <td>Аверченко</td>\n",
       "      <td>Averchenko_A-T-Averchenko-Sobranie-sochineniy-...</td>\n",
       "      <td>Сидел он за большим письменным столом перед де...</td>\n",
       "    </tr>\n",
       "    <tr>\n",
       "      <th>2</th>\n",
       "      <td>Аверченко</td>\n",
       "      <td>Averchenko_A-T-Averchenko-Sobranie-sochineniy-...</td>\n",
       "      <td>— Да уж, — качал головой сдержанный Ре-ми. — Н...</td>\n",
       "    </tr>\n",
       "    <tr>\n",
       "      <th>3</th>\n",
       "      <td>Аверченко</td>\n",
       "      <td>Averchenko_A-T-Averchenko-Sobranie-sochineniy-...</td>\n",
       "      <td>Поверит ли кто-нибудь, что нами за эти пять ле...</td>\n",
       "    </tr>\n",
       "    <tr>\n",
       "      <th>4</th>\n",
       "      <td>Аверченко</td>\n",
       "      <td>Averchenko_A-T-Averchenko-Sobranie-sochineniy-...</td>\n",
       "      <td>8\\nАверченко А. Избранные рассказы. М., 1985. ...</td>\n",
       "    </tr>\n",
       "  </tbody>\n",
       "</table>\n",
       "</div>"
      ],
      "text/plain": [
       "      author                                               book  \\\n",
       "0  Аверченко  Averchenko_A-T-Averchenko-Sobranie-sochineniy-...   \n",
       "1  Аверченко  Averchenko_A-T-Averchenko-Sobranie-sochineniy-...   \n",
       "2  Аверченко  Averchenko_A-T-Averchenko-Sobranie-sochineniy-...   \n",
       "3  Аверченко  Averchenko_A-T-Averchenko-Sobranie-sochineniy-...   \n",
       "4  Аверченко  Averchenko_A-T-Averchenko-Sobranie-sochineniy-...   \n",
       "\n",
       "                                                text  \n",
       "0  Мы за пять лет. Материалы [к биографии]\\nКак б...  \n",
       "1  Сидел он за большим письменным столом перед де...  \n",
       "2  — Да уж, — качал головой сдержанный Ре-ми. — Н...  \n",
       "3  Поверит ли кто-нибудь, что нами за эти пять ле...  \n",
       "4  8\\nАверченко А. Избранные рассказы. М., 1985. ...  "
      ]
     },
     "execution_count": 9,
     "metadata": {},
     "output_type": "execute_result"
    }
   ],
   "source": [
    "df.head()"
   ]
  },
  {
   "cell_type": "code",
   "execution_count": 10,
   "id": "a55a1553",
   "metadata": {},
   "outputs": [],
   "source": [
    "df.to_csv('author_text.csv', index=False)"
   ]
  },
  {
   "cell_type": "code",
   "execution_count": 11,
   "id": "aa684253",
   "metadata": {},
   "outputs": [],
   "source": [
    "punkt = ''.join([chr(i) for i in range(sys.maxunicode) if unicodedata.category(chr(i)).startswith('P')])"
   ]
  },
  {
   "cell_type": "code",
   "execution_count": 12,
   "id": "162464b7",
   "metadata": {},
   "outputs": [
    {
     "name": "stderr",
     "output_type": "stream",
     "text": [
      "[nltk_data] Downloading package stopwords to\n",
      "[nltk_data]     C:\\Users\\annag\\AppData\\Roaming\\nltk_data...\n",
      "[nltk_data]   Package stopwords is already up-to-date!\n"
     ]
    },
    {
     "data": {
      "text/plain": [
       "True"
      ]
     },
     "execution_count": 12,
     "metadata": {},
     "output_type": "execute_result"
    }
   ],
   "source": [
    "nltk.download('stopwords')"
   ]
  },
  {
   "cell_type": "code",
   "execution_count": 13,
   "id": "fc5e987e",
   "metadata": {},
   "outputs": [],
   "source": [
    "def remove_punkt(text):\n",
    "    tokens = word_tokenize(text, language='russian')\n",
    "    tokens = [token.strip(punkt) for token in tokens]\n",
    "    return ' '.join([token for token in tokens if token])"
   ]
  },
  {
   "cell_type": "code",
   "execution_count": 14,
   "id": "d52e2bbf",
   "metadata": {},
   "outputs": [],
   "source": [
    "df_no_punkt = df.copy()\n",
    "\n",
    "df_no_punkt['text_no_punkt'] = df_no_punkt['text'].apply(remove_punkt)\n",
    "df_no_punkt.drop('text', axis=1, inplace=True)"
   ]
  },
  {
   "cell_type": "code",
   "execution_count": 15,
   "id": "89d081da",
   "metadata": {},
   "outputs": [
    {
     "data": {
      "text/html": [
       "<div>\n",
       "<style scoped>\n",
       "    .dataframe tbody tr th:only-of-type {\n",
       "        vertical-align: middle;\n",
       "    }\n",
       "\n",
       "    .dataframe tbody tr th {\n",
       "        vertical-align: top;\n",
       "    }\n",
       "\n",
       "    .dataframe thead th {\n",
       "        text-align: right;\n",
       "    }\n",
       "</style>\n",
       "<table border=\"1\" class=\"dataframe\">\n",
       "  <thead>\n",
       "    <tr style=\"text-align: right;\">\n",
       "      <th></th>\n",
       "      <th>author</th>\n",
       "      <th>book</th>\n",
       "      <th>text_no_punkt</th>\n",
       "    </tr>\n",
       "  </thead>\n",
       "  <tbody>\n",
       "    <tr>\n",
       "      <th>0</th>\n",
       "      <td>Аверченко</td>\n",
       "      <td>Averchenko_A-T-Averchenko-Sobranie-sochineniy-...</td>\n",
       "      <td>Мы за пять лет Материалы к биографии Как будто...</td>\n",
       "    </tr>\n",
       "    <tr>\n",
       "      <th>1</th>\n",
       "      <td>Аверченко</td>\n",
       "      <td>Averchenko_A-T-Averchenko-Sobranie-sochineniy-...</td>\n",
       "      <td>Сидел он за большим письменным столом перед де...</td>\n",
       "    </tr>\n",
       "    <tr>\n",
       "      <th>2</th>\n",
       "      <td>Аверченко</td>\n",
       "      <td>Averchenko_A-T-Averchenko-Sobranie-sochineniy-...</td>\n",
       "      <td>Да уж качал головой сдержанный Ре-ми Нехорошо ...</td>\n",
       "    </tr>\n",
       "    <tr>\n",
       "      <th>3</th>\n",
       "      <td>Аверченко</td>\n",
       "      <td>Averchenko_A-T-Averchenko-Sobranie-sochineniy-...</td>\n",
       "      <td>Поверит ли кто-нибудь что нами за эти пять лет...</td>\n",
       "    </tr>\n",
       "    <tr>\n",
       "      <th>4</th>\n",
       "      <td>Аверченко</td>\n",
       "      <td>Averchenko_A-T-Averchenko-Sobranie-sochineniy-...</td>\n",
       "      <td>8 Аверченко А Избранные рассказы М 1985 С 7 9 ...</td>\n",
       "    </tr>\n",
       "  </tbody>\n",
       "</table>\n",
       "</div>"
      ],
      "text/plain": [
       "      author                                               book  \\\n",
       "0  Аверченко  Averchenko_A-T-Averchenko-Sobranie-sochineniy-...   \n",
       "1  Аверченко  Averchenko_A-T-Averchenko-Sobranie-sochineniy-...   \n",
       "2  Аверченко  Averchenko_A-T-Averchenko-Sobranie-sochineniy-...   \n",
       "3  Аверченко  Averchenko_A-T-Averchenko-Sobranie-sochineniy-...   \n",
       "4  Аверченко  Averchenko_A-T-Averchenko-Sobranie-sochineniy-...   \n",
       "\n",
       "                                       text_no_punkt  \n",
       "0  Мы за пять лет Материалы к биографии Как будто...  \n",
       "1  Сидел он за большим письменным столом перед де...  \n",
       "2  Да уж качал головой сдержанный Ре-ми Нехорошо ...  \n",
       "3  Поверит ли кто-нибудь что нами за эти пять лет...  \n",
       "4  8 Аверченко А Избранные рассказы М 1985 С 7 9 ...  "
      ]
     },
     "execution_count": 15,
     "metadata": {},
     "output_type": "execute_result"
    }
   ],
   "source": [
    "df_no_punkt.head()"
   ]
  },
  {
   "cell_type": "code",
   "execution_count": 16,
   "id": "8e2cecb1",
   "metadata": {},
   "outputs": [],
   "source": [
    "df_no_punkt.to_csv('author_text_no_punkt.csv', index=False)"
   ]
  },
  {
   "cell_type": "code",
   "execution_count": 24,
   "id": "e8a762e0",
   "metadata": {},
   "outputs": [],
   "source": [
    "def lemmatize_with_tags(text):\n",
    "    sw = set(stopwords.words('russian')) | set(df['author'].str.lower().unique())\n",
    "    morph = pymorphy2.MorphAnalyzer()\n",
    "    lemmas = []\n",
    "    tags = []\n",
    "    for w in text.split():\n",
    "        anls = morph.parse(w)[0]\n",
    "        if anls.normal_form not in sw:\n",
    "            lemmas.append(anls.normal_form)\n",
    "            tags.append(f'{len(w)}_{anls.tag.POS}')\n",
    "    return ' '.join(lemmas), ' '.join(tags)"
   ]
  },
  {
   "cell_type": "code",
   "execution_count": 25,
   "id": "a41df567",
   "metadata": {},
   "outputs": [],
   "source": [
    "lemmas_and_tags = list(map(lemmatize_with_tags, df_no_punkt['text_no_punkt']))"
   ]
  },
  {
   "cell_type": "code",
   "execution_count": 26,
   "id": "9de6ac44",
   "metadata": {},
   "outputs": [],
   "source": [
    "df_lemmas_and_tags = pd.DataFrame(lemmas_and_tags, columns=['lemmas', 'tags'])\n",
    "df_lemmas_and_tags['author'] = df['author']\n",
    "df_lemmas_and_tags['book'] = df['book']\n",
    "df_lemmas_and_tags = df_lemmas_and_tags[['author', 'book', 'lemmas', 'tags']]"
   ]
  },
  {
   "cell_type": "code",
   "execution_count": 27,
   "id": "1e8296d8",
   "metadata": {},
   "outputs": [
    {
     "data": {
      "text/html": [
       "<div>\n",
       "<style scoped>\n",
       "    .dataframe tbody tr th:only-of-type {\n",
       "        vertical-align: middle;\n",
       "    }\n",
       "\n",
       "    .dataframe tbody tr th {\n",
       "        vertical-align: top;\n",
       "    }\n",
       "\n",
       "    .dataframe thead th {\n",
       "        text-align: right;\n",
       "    }\n",
       "</style>\n",
       "<table border=\"1\" class=\"dataframe\">\n",
       "  <thead>\n",
       "    <tr style=\"text-align: right;\">\n",
       "      <th></th>\n",
       "      <th>author</th>\n",
       "      <th>book</th>\n",
       "      <th>lemmas</th>\n",
       "      <th>tags</th>\n",
       "    </tr>\n",
       "  </thead>\n",
       "  <tbody>\n",
       "    <tr>\n",
       "      <th>0</th>\n",
       "      <td>Аверченко</td>\n",
       "      <td>Averchenko_A-T-Averchenko-Sobranie-sochineniy-...</td>\n",
       "      <td>пять год материал биография кроваво-красный ра...</td>\n",
       "      <td>4_NUMR 3_NOUN 9_NOUN 9_NOUN 15_ADJF 6_NOUN 8_V...</td>\n",
       "    </tr>\n",
       "    <tr>\n",
       "      <th>1</th>\n",
       "      <td>Аверченко</td>\n",
       "      <td>Averchenko_A-T-Averchenko-Sobranie-sochineniy-...</td>\n",
       "      <td>сидеть больший письменный стол деревянный доск...</td>\n",
       "      <td>5_VERB 7_ADJF 10_ADJF 6_NOUN 10_ADJF 6_NOUN 6_...</td>\n",
       "    </tr>\n",
       "    <tr>\n",
       "      <th>2</th>\n",
       "      <td>Аверченко</td>\n",
       "      <td>Averchenko_A-T-Averchenko-Sobranie-sochineniy-...</td>\n",
       "      <td>качать голова сдержать ре-ми нехорошо нехорошо...</td>\n",
       "      <td>5_VERB 7_NOUN 10_PRTF 5_None 8_ADVB 8_ADVB 4_A...</td>\n",
       "    </tr>\n",
       "    <tr>\n",
       "      <th>3</th>\n",
       "      <td>Аверченко</td>\n",
       "      <td>Averchenko_A-T-Averchenko-Sobranie-sochineniy-...</td>\n",
       "      <td>поверить кто-нибудь пять год совместно м.г кор...</td>\n",
       "      <td>7_VERB 10_NPRO 4_NUMR 3_NOUN 9_ADVB 3_None 11_...</td>\n",
       "    </tr>\n",
       "    <tr>\n",
       "      <th>4</th>\n",
       "      <td>Аверченко</td>\n",
       "      <td>Averchenko_A-T-Averchenko-Sobranie-sochineniy-...</td>\n",
       "      <td>8 избранный рассказ м 1985 7 9 ежегодник 156 1...</td>\n",
       "      <td>1_None 9_ADJF 8_NOUN 1_NOUN 4_None 1_None 1_No...</td>\n",
       "    </tr>\n",
       "  </tbody>\n",
       "</table>\n",
       "</div>"
      ],
      "text/plain": [
       "      author                                               book  \\\n",
       "0  Аверченко  Averchenko_A-T-Averchenko-Sobranie-sochineniy-...   \n",
       "1  Аверченко  Averchenko_A-T-Averchenko-Sobranie-sochineniy-...   \n",
       "2  Аверченко  Averchenko_A-T-Averchenko-Sobranie-sochineniy-...   \n",
       "3  Аверченко  Averchenko_A-T-Averchenko-Sobranie-sochineniy-...   \n",
       "4  Аверченко  Averchenko_A-T-Averchenko-Sobranie-sochineniy-...   \n",
       "\n",
       "                                              lemmas  \\\n",
       "0  пять год материал биография кроваво-красный ра...   \n",
       "1  сидеть больший письменный стол деревянный доск...   \n",
       "2  качать голова сдержать ре-ми нехорошо нехорошо...   \n",
       "3  поверить кто-нибудь пять год совместно м.г кор...   \n",
       "4  8 избранный рассказ м 1985 7 9 ежегодник 156 1...   \n",
       "\n",
       "                                                tags  \n",
       "0  4_NUMR 3_NOUN 9_NOUN 9_NOUN 15_ADJF 6_NOUN 8_V...  \n",
       "1  5_VERB 7_ADJF 10_ADJF 6_NOUN 10_ADJF 6_NOUN 6_...  \n",
       "2  5_VERB 7_NOUN 10_PRTF 5_None 8_ADVB 8_ADVB 4_A...  \n",
       "3  7_VERB 10_NPRO 4_NUMR 3_NOUN 9_ADVB 3_None 11_...  \n",
       "4  1_None 9_ADJF 8_NOUN 1_NOUN 4_None 1_None 1_No...  "
      ]
     },
     "execution_count": 27,
     "metadata": {},
     "output_type": "execute_result"
    }
   ],
   "source": [
    "df_lemmas_and_tags.head()"
   ]
  },
  {
   "cell_type": "code",
   "execution_count": 28,
   "id": "3bf8a578",
   "metadata": {},
   "outputs": [],
   "source": [
    "df_lemmas_and_tags.to_csv('author_lemmas_tags.csv', index=False)"
   ]
  },
  {
   "cell_type": "code",
   "execution_count": 29,
   "id": "18f98b6c",
   "metadata": {},
   "outputs": [],
   "source": [
    "df_tokens = df.copy()\n",
    "\n",
    "df_tokens['tokens'] = [' '.join(word_tokenize(text, language='russian')) for text in df['text']]\n",
    "df_tokens.drop('text', axis=1, inplace=True)"
   ]
  },
  {
   "cell_type": "code",
   "execution_count": 31,
   "id": "d8261e10",
   "metadata": {},
   "outputs": [
    {
     "data": {
      "text/html": [
       "<div>\n",
       "<style scoped>\n",
       "    .dataframe tbody tr th:only-of-type {\n",
       "        vertical-align: middle;\n",
       "    }\n",
       "\n",
       "    .dataframe tbody tr th {\n",
       "        vertical-align: top;\n",
       "    }\n",
       "\n",
       "    .dataframe thead th {\n",
       "        text-align: right;\n",
       "    }\n",
       "</style>\n",
       "<table border=\"1\" class=\"dataframe\">\n",
       "  <thead>\n",
       "    <tr style=\"text-align: right;\">\n",
       "      <th></th>\n",
       "      <th>author</th>\n",
       "      <th>book</th>\n",
       "      <th>tokens</th>\n",
       "    </tr>\n",
       "  </thead>\n",
       "  <tbody>\n",
       "    <tr>\n",
       "      <th>0</th>\n",
       "      <td>Аверченко</td>\n",
       "      <td>Averchenko_A-T-Averchenko-Sobranie-sochineniy-...</td>\n",
       "      <td>Мы за пять лет . Материалы [ к биографии ] Как...</td>\n",
       "    </tr>\n",
       "    <tr>\n",
       "      <th>1</th>\n",
       "      <td>Аверченко</td>\n",
       "      <td>Averchenko_A-T-Averchenko-Sobranie-sochineniy-...</td>\n",
       "      <td>Сидел он за большим письменным столом перед де...</td>\n",
       "    </tr>\n",
       "    <tr>\n",
       "      <th>2</th>\n",
       "      <td>Аверченко</td>\n",
       "      <td>Averchenko_A-T-Averchenko-Sobranie-sochineniy-...</td>\n",
       "      <td>— Да уж , — качал головой сдержанный Ре-ми . —...</td>\n",
       "    </tr>\n",
       "    <tr>\n",
       "      <th>3</th>\n",
       "      <td>Аверченко</td>\n",
       "      <td>Averchenko_A-T-Averchenko-Sobranie-sochineniy-...</td>\n",
       "      <td>Поверит ли кто-нибудь , что нами за эти пять л...</td>\n",
       "    </tr>\n",
       "    <tr>\n",
       "      <th>4</th>\n",
       "      <td>Аверченко</td>\n",
       "      <td>Averchenko_A-T-Averchenko-Sobranie-sochineniy-...</td>\n",
       "      <td>8 Аверченко А. Избранные рассказы . М. , 1985 ...</td>\n",
       "    </tr>\n",
       "  </tbody>\n",
       "</table>\n",
       "</div>"
      ],
      "text/plain": [
       "      author                                               book  \\\n",
       "0  Аверченко  Averchenko_A-T-Averchenko-Sobranie-sochineniy-...   \n",
       "1  Аверченко  Averchenko_A-T-Averchenko-Sobranie-sochineniy-...   \n",
       "2  Аверченко  Averchenko_A-T-Averchenko-Sobranie-sochineniy-...   \n",
       "3  Аверченко  Averchenko_A-T-Averchenko-Sobranie-sochineniy-...   \n",
       "4  Аверченко  Averchenko_A-T-Averchenko-Sobranie-sochineniy-...   \n",
       "\n",
       "                                              tokens  \n",
       "0  Мы за пять лет . Материалы [ к биографии ] Как...  \n",
       "1  Сидел он за большим письменным столом перед де...  \n",
       "2  — Да уж , — качал головой сдержанный Ре-ми . —...  \n",
       "3  Поверит ли кто-нибудь , что нами за эти пять л...  \n",
       "4  8 Аверченко А. Избранные рассказы . М. , 1985 ...  "
      ]
     },
     "execution_count": 31,
     "metadata": {},
     "output_type": "execute_result"
    }
   ],
   "source": [
    "df_tokens.head()"
   ]
  },
  {
   "cell_type": "code",
   "execution_count": 32,
   "id": "0615453d",
   "metadata": {},
   "outputs": [],
   "source": [
    "df_tokens.to_csv('author_tokens.csv', index=False)"
   ]
  },
  {
   "cell_type": "code",
   "execution_count": 33,
   "id": "73673538",
   "metadata": {},
   "outputs": [],
   "source": [
    "aggregated_df = pd.concat([df[['author', 'book']]] + [x.iloc[:, 2:] for x in (df, df_no_punkt, df_lemmas_and_tags, df_tokens)], axis=1)"
   ]
  },
  {
   "cell_type": "code",
   "execution_count": 34,
   "id": "7b3f50eb",
   "metadata": {},
   "outputs": [
    {
     "data": {
      "text/html": [
       "<div>\n",
       "<style scoped>\n",
       "    .dataframe tbody tr th:only-of-type {\n",
       "        vertical-align: middle;\n",
       "    }\n",
       "\n",
       "    .dataframe tbody tr th {\n",
       "        vertical-align: top;\n",
       "    }\n",
       "\n",
       "    .dataframe thead th {\n",
       "        text-align: right;\n",
       "    }\n",
       "</style>\n",
       "<table border=\"1\" class=\"dataframe\">\n",
       "  <thead>\n",
       "    <tr style=\"text-align: right;\">\n",
       "      <th></th>\n",
       "      <th>author</th>\n",
       "      <th>book</th>\n",
       "      <th>text</th>\n",
       "      <th>text_no_punkt</th>\n",
       "      <th>lemmas</th>\n",
       "      <th>tags</th>\n",
       "      <th>tokens</th>\n",
       "    </tr>\n",
       "  </thead>\n",
       "  <tbody>\n",
       "    <tr>\n",
       "      <th>0</th>\n",
       "      <td>Аверченко</td>\n",
       "      <td>Averchenko_A-T-Averchenko-Sobranie-sochineniy-...</td>\n",
       "      <td>Мы за пять лет. Материалы [к биографии]\\nКак б...</td>\n",
       "      <td>Мы за пять лет Материалы к биографии Как будто...</td>\n",
       "      <td>пять год материал биография кроваво-красный ра...</td>\n",
       "      <td>4_NUMR 3_NOUN 9_NOUN 9_NOUN 15_ADJF 6_NOUN 8_V...</td>\n",
       "      <td>Мы за пять лет . Материалы [ к биографии ] Как...</td>\n",
       "    </tr>\n",
       "    <tr>\n",
       "      <th>1</th>\n",
       "      <td>Аверченко</td>\n",
       "      <td>Averchenko_A-T-Averchenko-Sobranie-sochineniy-...</td>\n",
       "      <td>Сидел он за большим письменным столом перед де...</td>\n",
       "      <td>Сидел он за большим письменным столом перед де...</td>\n",
       "      <td>сидеть больший письменный стол деревянный доск...</td>\n",
       "      <td>5_VERB 7_ADJF 10_ADJF 6_NOUN 10_ADJF 6_NOUN 6_...</td>\n",
       "      <td>Сидел он за большим письменным столом перед де...</td>\n",
       "    </tr>\n",
       "    <tr>\n",
       "      <th>2</th>\n",
       "      <td>Аверченко</td>\n",
       "      <td>Averchenko_A-T-Averchenko-Sobranie-sochineniy-...</td>\n",
       "      <td>— Да уж, — качал головой сдержанный Ре-ми. — Н...</td>\n",
       "      <td>Да уж качал головой сдержанный Ре-ми Нехорошо ...</td>\n",
       "      <td>качать голова сдержать ре-ми нехорошо нехорошо...</td>\n",
       "      <td>5_VERB 7_NOUN 10_PRTF 5_None 8_ADVB 8_ADVB 4_A...</td>\n",
       "      <td>— Да уж , — качал головой сдержанный Ре-ми . —...</td>\n",
       "    </tr>\n",
       "    <tr>\n",
       "      <th>3</th>\n",
       "      <td>Аверченко</td>\n",
       "      <td>Averchenko_A-T-Averchenko-Sobranie-sochineniy-...</td>\n",
       "      <td>Поверит ли кто-нибудь, что нами за эти пять ле...</td>\n",
       "      <td>Поверит ли кто-нибудь что нами за эти пять лет...</td>\n",
       "      <td>поверить кто-нибудь пять год совместно м.г кор...</td>\n",
       "      <td>7_VERB 10_NPRO 4_NUMR 3_NOUN 9_ADVB 3_None 11_...</td>\n",
       "      <td>Поверит ли кто-нибудь , что нами за эти пять л...</td>\n",
       "    </tr>\n",
       "    <tr>\n",
       "      <th>4</th>\n",
       "      <td>Аверченко</td>\n",
       "      <td>Averchenko_A-T-Averchenko-Sobranie-sochineniy-...</td>\n",
       "      <td>8\\nАверченко А. Избранные рассказы. М., 1985. ...</td>\n",
       "      <td>8 Аверченко А Избранные рассказы М 1985 С 7 9 ...</td>\n",
       "      <td>8 избранный рассказ м 1985 7 9 ежегодник 156 1...</td>\n",
       "      <td>1_None 9_ADJF 8_NOUN 1_NOUN 4_None 1_None 1_No...</td>\n",
       "      <td>8 Аверченко А. Избранные рассказы . М. , 1985 ...</td>\n",
       "    </tr>\n",
       "  </tbody>\n",
       "</table>\n",
       "</div>"
      ],
      "text/plain": [
       "      author                                               book  \\\n",
       "0  Аверченко  Averchenko_A-T-Averchenko-Sobranie-sochineniy-...   \n",
       "1  Аверченко  Averchenko_A-T-Averchenko-Sobranie-sochineniy-...   \n",
       "2  Аверченко  Averchenko_A-T-Averchenko-Sobranie-sochineniy-...   \n",
       "3  Аверченко  Averchenko_A-T-Averchenko-Sobranie-sochineniy-...   \n",
       "4  Аверченко  Averchenko_A-T-Averchenko-Sobranie-sochineniy-...   \n",
       "\n",
       "                                                text  \\\n",
       "0  Мы за пять лет. Материалы [к биографии]\\nКак б...   \n",
       "1  Сидел он за большим письменным столом перед де...   \n",
       "2  — Да уж, — качал головой сдержанный Ре-ми. — Н...   \n",
       "3  Поверит ли кто-нибудь, что нами за эти пять ле...   \n",
       "4  8\\nАверченко А. Избранные рассказы. М., 1985. ...   \n",
       "\n",
       "                                       text_no_punkt  \\\n",
       "0  Мы за пять лет Материалы к биографии Как будто...   \n",
       "1  Сидел он за большим письменным столом перед де...   \n",
       "2  Да уж качал головой сдержанный Ре-ми Нехорошо ...   \n",
       "3  Поверит ли кто-нибудь что нами за эти пять лет...   \n",
       "4  8 Аверченко А Избранные рассказы М 1985 С 7 9 ...   \n",
       "\n",
       "                                              lemmas  \\\n",
       "0  пять год материал биография кроваво-красный ра...   \n",
       "1  сидеть больший письменный стол деревянный доск...   \n",
       "2  качать голова сдержать ре-ми нехорошо нехорошо...   \n",
       "3  поверить кто-нибудь пять год совместно м.г кор...   \n",
       "4  8 избранный рассказ м 1985 7 9 ежегодник 156 1...   \n",
       "\n",
       "                                                tags  \\\n",
       "0  4_NUMR 3_NOUN 9_NOUN 9_NOUN 15_ADJF 6_NOUN 8_V...   \n",
       "1  5_VERB 7_ADJF 10_ADJF 6_NOUN 10_ADJF 6_NOUN 6_...   \n",
       "2  5_VERB 7_NOUN 10_PRTF 5_None 8_ADVB 8_ADVB 4_A...   \n",
       "3  7_VERB 10_NPRO 4_NUMR 3_NOUN 9_ADVB 3_None 11_...   \n",
       "4  1_None 9_ADJF 8_NOUN 1_NOUN 4_None 1_None 1_No...   \n",
       "\n",
       "                                              tokens  \n",
       "0  Мы за пять лет . Материалы [ к биографии ] Как...  \n",
       "1  Сидел он за большим письменным столом перед де...  \n",
       "2  — Да уж , — качал головой сдержанный Ре-ми . —...  \n",
       "3  Поверит ли кто-нибудь , что нами за эти пять л...  \n",
       "4  8 Аверченко А. Избранные рассказы . М. , 1985 ...  "
      ]
     },
     "execution_count": 34,
     "metadata": {},
     "output_type": "execute_result"
    }
   ],
   "source": [
    "aggregated_df.head()"
   ]
  },
  {
   "cell_type": "code",
   "execution_count": 35,
   "id": "7f8fec93",
   "metadata": {},
   "outputs": [],
   "source": [
    "aggregated_df.to_csv('aggregated_df.csv', index=False)"
   ]
  }
 ],
 "metadata": {
  "kernelspec": {
   "display_name": "Python 3 (ipykernel)",
   "language": "python",
   "name": "python3"
  },
  "language_info": {
   "codemirror_mode": {
    "name": "ipython",
    "version": 3
   },
   "file_extension": ".py",
   "mimetype": "text/x-python",
   "name": "python",
   "nbconvert_exporter": "python",
   "pygments_lexer": "ipython3",
   "version": "3.9.7"
  }
 },
 "nbformat": 4,
 "nbformat_minor": 5
}
