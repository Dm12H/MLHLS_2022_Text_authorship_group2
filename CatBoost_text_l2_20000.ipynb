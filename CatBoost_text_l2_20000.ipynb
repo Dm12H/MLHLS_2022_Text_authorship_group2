{
  "cells": [
    {
      "cell_type": "code",
      "execution_count": 1,
      "id": "1d81b062",
      "metadata": {
        "id": "1d81b062"
      },
      "outputs": [],
      "source": [
        "import pandas as pd\n",
        "import numpy as np\n",
        "import scipy as sp\n",
        "from sklearn.feature_extraction.text import TfidfVectorizer\n",
        "from sklearn.model_selection import train_test_split\n",
        "from sklearn.preprocessing import LabelEncoder\n",
        "from sklearn.linear_model import LogisticRegression\n",
        "from sklearn.metrics import f1_score"
      ]
    },
    {
      "cell_type": "code",
      "source": [
        "from google.colab import drive\n",
        "drive.mount('/content/drive')"
      ],
      "metadata": {
        "colab": {
          "base_uri": "https://localhost:8080/"
        },
        "id": "JqZ1ERBxNhWv",
        "outputId": "9d514cc7-64fd-464e-8557-9c20c2792bd9"
      },
      "id": "JqZ1ERBxNhWv",
      "execution_count": 2,
      "outputs": [
        {
          "output_type": "stream",
          "name": "stdout",
          "text": [
            "Mounted at /content/drive\n"
          ]
        }
      ]
    },
    {
      "cell_type": "code",
      "execution_count": 3,
      "id": "125ac726",
      "metadata": {
        "id": "125ac726"
      },
      "outputs": [],
      "source": [
        "DFRAME_PATH=\"/content/drive/MyDrive/Colab Notebooks/aggregated_df.csv\""
      ]
    },
    {
      "cell_type": "code",
      "execution_count": 4,
      "id": "f3eeded4",
      "metadata": {
        "scrolled": true,
        "id": "f3eeded4"
      },
      "outputs": [],
      "source": [
        "df = pd.read_csv(DFRAME_PATH)"
      ]
    },
    {
      "cell_type": "code",
      "execution_count": 31,
      "id": "29aef5d5",
      "metadata": {
        "scrolled": true,
        "colab": {
          "base_uri": "https://localhost:8080/",
          "height": 913
        },
        "id": "29aef5d5",
        "outputId": "0d05cab9-6745-42c5-a46a-ce0c9db948ba"
      },
      "outputs": [
        {
          "output_type": "execute_result",
          "data": {
            "text/plain": [
              "      author                                               book  \\\n",
              "0  Аверченко  Averchenko_A-T-Averchenko-Sobranie-sochineniy-...   \n",
              "1  Аверченко  Averchenko_A-T-Averchenko-Sobranie-sochineniy-...   \n",
              "2  Аверченко  Averchenko_A-T-Averchenko-Sobranie-sochineniy-...   \n",
              "3  Аверченко  Averchenko_A-T-Averchenko-Sobranie-sochineniy-...   \n",
              "4  Аверченко  Averchenko_A-T-Averchenko-Sobranie-sochineniy-...   \n",
              "5  Аверченко  Averchenko_A-T-Averchenko-Sobranie-sochineniy-...   \n",
              "6  Аверченко  Averchenko_A-T-Averchenko-Sobranie-sochineniy-...   \n",
              "7  Аверченко  Averchenko_A-T-Averchenko-Sobranie-sochineniy-...   \n",
              "8  Аверченко  Averchenko_A-T-Averchenko-Sobranie-sochineniy-...   \n",
              "9  Аверченко  Averchenko_A-T-Averchenko-Sobranie-sochineniy-...   \n",
              "\n",
              "                                                text  \\\n",
              "0  Мы за пять лет. Материалы [к биографии]\\nКак б...   \n",
              "1  Сидел он за большим письменным столом перед де...   \n",
              "2  — Да уж, — качал головой сдержанный Ре-ми. — Н...   \n",
              "3  Поверит ли кто-нибудь, что нами за эти пять ле...   \n",
              "4  8\\nАверченко А. Избранные рассказы. М., 1985. ...   \n",
              "5  — Помилуйте, такой праздник… Нужно, обязательн...   \n",
              "6  — Разбудить его в половине шестнадцатого.\\n* *...   \n",
              "7  Он встал, оделся, побрился и вышел на улицу.\\n...   \n",
              "8  Мозаика\\nI\\n— Я несчастный человек — вот что!\\...   \n",
              "9  — Как записываешь?\\n— В записной книжке. Хочеш...   \n",
              "\n",
              "                                       text_no_punkt  \\\n",
              "0  Мы за пять лет Материалы к биографии Как будто...   \n",
              "1  Сидел он за большим письменным столом перед де...   \n",
              "2  Да уж качал головой сдержанный Ре-ми Нехорошо ...   \n",
              "3  Поверит ли кто-нибудь что нами за эти пять лет...   \n",
              "4  8 Аверченко А Избранные рассказы М 1985 С 7 9 ...   \n",
              "5  Помилуйте такой праздник Нужно обязательно поц...   \n",
              "6  Разбудить его в половине шестнадцатого Закончи...   \n",
              "7  Он встал оделся побрился и вышел на улицу На у...   \n",
              "8  Мозаика I Я несчастный человек вот что Что за ...   \n",
              "9  Как записываешь В записной книжке Хочешь У мен...   \n",
              "\n",
              "                                              lemmas  \\\n",
              "0  пять год материал биография кроваво-красный ра...   \n",
              "1  сидеть больший письменный стол деревянный доск...   \n",
              "2  качать голова сдержать ре-ми нехорошо нехорошо...   \n",
              "3  поверить кто-нибудь пять год совместно м.г кор...   \n",
              "4  8 избранный рассказ м 1985 7 9 ежегодник 156 1...   \n",
              "5  помиловать праздник нужно обязательно поцелова...   \n",
              "6  разбудить половина шестнадцатый закончить всё ...   \n",
              "7  встать одеться побриться выйти улица улица сто...   \n",
              "8  мозаика i несчастный человек вздор поверить ув...   \n",
              "9  записывать записной книжка хотеть минута откро...   \n",
              "\n",
              "                                                tags  \\\n",
              "0  4_NUMR 3_NOUN 9_NOUN 9_NOUN 15_ADJF 6_NOUN 8_V...   \n",
              "1  5_VERB 7_ADJF 10_ADJF 6_NOUN 10_ADJF 6_NOUN 6_...   \n",
              "2  5_VERB 7_NOUN 10_PRTF 5_None 8_ADVB 8_ADVB 4_A...   \n",
              "3  7_VERB 10_NPRO 4_NUMR 3_NOUN 9_ADVB 3_None 11_...   \n",
              "4  1_None 9_ADJF 8_NOUN 1_NOUN 4_None 1_None 1_No...   \n",
              "5  9_VERB 8_NOUN 5_PRED 11_ADVB 12_INFN 7_NOUN 10...   \n",
              "6  9_INFN 8_NOUN 13_ADJF 8_GRND 3_PRCL 6_NOUN 7_N...   \n",
              "7  5_VERB 6_VERB 8_VERB 5_VERB 5_NOUN 5_NOUN 11_V...   \n",
              "8  7_NOUN 1_None 10_ADJF 7_NOUN 5_NOUN 6_VERB 6_V...   \n",
              "9  11_VERB 8_ADJF 6_NOUN 6_VERB 6_NOUN 13_NOUN 6_...   \n",
              "\n",
              "                                              tokens  \n",
              "0  Мы за пять лет . Материалы [ к биографии ] Как...  \n",
              "1  Сидел он за большим письменным столом перед де...  \n",
              "2  — Да уж , — качал головой сдержанный Ре-ми . —...  \n",
              "3  Поверит ли кто-нибудь , что нами за эти пять л...  \n",
              "4  8 Аверченко А. Избранные рассказы . М. , 1985 ...  \n",
              "5  — Помилуйте , такой праздник… Нужно , обязател...  \n",
              "6  — Разбудить его в половине шестнадцатого . * *...  \n",
              "7  Он встал , оделся , побрился и вышел на улицу ...  \n",
              "8  Мозаика I — Я несчастный человек — вот что ! —...  \n",
              "9  — Как записываешь ? — В записной книжке . Хоче...  "
            ],
            "text/html": [
              "\n",
              "  <div id=\"df-41fc3142-7801-4e47-a16a-ca31ac75e4d8\">\n",
              "    <div class=\"colab-df-container\">\n",
              "      <div>\n",
              "<style scoped>\n",
              "    .dataframe tbody tr th:only-of-type {\n",
              "        vertical-align: middle;\n",
              "    }\n",
              "\n",
              "    .dataframe tbody tr th {\n",
              "        vertical-align: top;\n",
              "    }\n",
              "\n",
              "    .dataframe thead th {\n",
              "        text-align: right;\n",
              "    }\n",
              "</style>\n",
              "<table border=\"1\" class=\"dataframe\">\n",
              "  <thead>\n",
              "    <tr style=\"text-align: right;\">\n",
              "      <th></th>\n",
              "      <th>author</th>\n",
              "      <th>book</th>\n",
              "      <th>text</th>\n",
              "      <th>text_no_punkt</th>\n",
              "      <th>lemmas</th>\n",
              "      <th>tags</th>\n",
              "      <th>tokens</th>\n",
              "    </tr>\n",
              "  </thead>\n",
              "  <tbody>\n",
              "    <tr>\n",
              "      <th>0</th>\n",
              "      <td>Аверченко</td>\n",
              "      <td>Averchenko_A-T-Averchenko-Sobranie-sochineniy-...</td>\n",
              "      <td>Мы за пять лет. Материалы [к биографии]\\nКак б...</td>\n",
              "      <td>Мы за пять лет Материалы к биографии Как будто...</td>\n",
              "      <td>пять год материал биография кроваво-красный ра...</td>\n",
              "      <td>4_NUMR 3_NOUN 9_NOUN 9_NOUN 15_ADJF 6_NOUN 8_V...</td>\n",
              "      <td>Мы за пять лет . Материалы [ к биографии ] Как...</td>\n",
              "    </tr>\n",
              "    <tr>\n",
              "      <th>1</th>\n",
              "      <td>Аверченко</td>\n",
              "      <td>Averchenko_A-T-Averchenko-Sobranie-sochineniy-...</td>\n",
              "      <td>Сидел он за большим письменным столом перед де...</td>\n",
              "      <td>Сидел он за большим письменным столом перед де...</td>\n",
              "      <td>сидеть больший письменный стол деревянный доск...</td>\n",
              "      <td>5_VERB 7_ADJF 10_ADJF 6_NOUN 10_ADJF 6_NOUN 6_...</td>\n",
              "      <td>Сидел он за большим письменным столом перед де...</td>\n",
              "    </tr>\n",
              "    <tr>\n",
              "      <th>2</th>\n",
              "      <td>Аверченко</td>\n",
              "      <td>Averchenko_A-T-Averchenko-Sobranie-sochineniy-...</td>\n",
              "      <td>— Да уж, — качал головой сдержанный Ре-ми. — Н...</td>\n",
              "      <td>Да уж качал головой сдержанный Ре-ми Нехорошо ...</td>\n",
              "      <td>качать голова сдержать ре-ми нехорошо нехорошо...</td>\n",
              "      <td>5_VERB 7_NOUN 10_PRTF 5_None 8_ADVB 8_ADVB 4_A...</td>\n",
              "      <td>— Да уж , — качал головой сдержанный Ре-ми . —...</td>\n",
              "    </tr>\n",
              "    <tr>\n",
              "      <th>3</th>\n",
              "      <td>Аверченко</td>\n",
              "      <td>Averchenko_A-T-Averchenko-Sobranie-sochineniy-...</td>\n",
              "      <td>Поверит ли кто-нибудь, что нами за эти пять ле...</td>\n",
              "      <td>Поверит ли кто-нибудь что нами за эти пять лет...</td>\n",
              "      <td>поверить кто-нибудь пять год совместно м.г кор...</td>\n",
              "      <td>7_VERB 10_NPRO 4_NUMR 3_NOUN 9_ADVB 3_None 11_...</td>\n",
              "      <td>Поверит ли кто-нибудь , что нами за эти пять л...</td>\n",
              "    </tr>\n",
              "    <tr>\n",
              "      <th>4</th>\n",
              "      <td>Аверченко</td>\n",
              "      <td>Averchenko_A-T-Averchenko-Sobranie-sochineniy-...</td>\n",
              "      <td>8\\nАверченко А. Избранные рассказы. М., 1985. ...</td>\n",
              "      <td>8 Аверченко А Избранные рассказы М 1985 С 7 9 ...</td>\n",
              "      <td>8 избранный рассказ м 1985 7 9 ежегодник 156 1...</td>\n",
              "      <td>1_None 9_ADJF 8_NOUN 1_NOUN 4_None 1_None 1_No...</td>\n",
              "      <td>8 Аверченко А. Избранные рассказы . М. , 1985 ...</td>\n",
              "    </tr>\n",
              "    <tr>\n",
              "      <th>5</th>\n",
              "      <td>Аверченко</td>\n",
              "      <td>Averchenko_A-T-Averchenko-Sobranie-sochineniy-...</td>\n",
              "      <td>— Помилуйте, такой праздник… Нужно, обязательн...</td>\n",
              "      <td>Помилуйте такой праздник Нужно обязательно поц...</td>\n",
              "      <td>помиловать праздник нужно обязательно поцелова...</td>\n",
              "      <td>9_VERB 8_NOUN 5_PRED 11_ADVB 12_INFN 7_NOUN 10...</td>\n",
              "      <td>— Помилуйте , такой праздник… Нужно , обязател...</td>\n",
              "    </tr>\n",
              "    <tr>\n",
              "      <th>6</th>\n",
              "      <td>Аверченко</td>\n",
              "      <td>Averchenko_A-T-Averchenko-Sobranie-sochineniy-...</td>\n",
              "      <td>— Разбудить его в половине шестнадцатого.\\n* *...</td>\n",
              "      <td>Разбудить его в половине шестнадцатого Закончи...</td>\n",
              "      <td>разбудить половина шестнадцатый закончить всё ...</td>\n",
              "      <td>9_INFN 8_NOUN 13_ADJF 8_GRND 3_PRCL 6_NOUN 7_N...</td>\n",
              "      <td>— Разбудить его в половине шестнадцатого . * *...</td>\n",
              "    </tr>\n",
              "    <tr>\n",
              "      <th>7</th>\n",
              "      <td>Аверченко</td>\n",
              "      <td>Averchenko_A-T-Averchenko-Sobranie-sochineniy-...</td>\n",
              "      <td>Он встал, оделся, побрился и вышел на улицу.\\n...</td>\n",
              "      <td>Он встал оделся побрился и вышел на улицу На у...</td>\n",
              "      <td>встать одеться побриться выйти улица улица сто...</td>\n",
              "      <td>5_VERB 6_VERB 8_VERB 5_VERB 5_NOUN 5_NOUN 11_V...</td>\n",
              "      <td>Он встал , оделся , побрился и вышел на улицу ...</td>\n",
              "    </tr>\n",
              "    <tr>\n",
              "      <th>8</th>\n",
              "      <td>Аверченко</td>\n",
              "      <td>Averchenko_A-T-Averchenko-Sobranie-sochineniy-...</td>\n",
              "      <td>Мозаика\\nI\\n— Я несчастный человек — вот что!\\...</td>\n",
              "      <td>Мозаика I Я несчастный человек вот что Что за ...</td>\n",
              "      <td>мозаика i несчастный человек вздор поверить ув...</td>\n",
              "      <td>7_NOUN 1_None 10_ADJF 7_NOUN 5_NOUN 6_VERB 6_V...</td>\n",
              "      <td>Мозаика I — Я несчастный человек — вот что ! —...</td>\n",
              "    </tr>\n",
              "    <tr>\n",
              "      <th>9</th>\n",
              "      <td>Аверченко</td>\n",
              "      <td>Averchenko_A-T-Averchenko-Sobranie-sochineniy-...</td>\n",
              "      <td>— Как записываешь?\\n— В записной книжке. Хочеш...</td>\n",
              "      <td>Как записываешь В записной книжке Хочешь У мен...</td>\n",
              "      <td>записывать записной книжка хотеть минута откро...</td>\n",
              "      <td>11_VERB 8_ADJF 6_NOUN 6_VERB 6_NOUN 13_NOUN 6_...</td>\n",
              "      <td>— Как записываешь ? — В записной книжке . Хоче...</td>\n",
              "    </tr>\n",
              "  </tbody>\n",
              "</table>\n",
              "</div>\n",
              "      <button class=\"colab-df-convert\" onclick=\"convertToInteractive('df-41fc3142-7801-4e47-a16a-ca31ac75e4d8')\"\n",
              "              title=\"Convert this dataframe to an interactive table.\"\n",
              "              style=\"display:none;\">\n",
              "        \n",
              "  <svg xmlns=\"http://www.w3.org/2000/svg\" height=\"24px\"viewBox=\"0 0 24 24\"\n",
              "       width=\"24px\">\n",
              "    <path d=\"M0 0h24v24H0V0z\" fill=\"none\"/>\n",
              "    <path d=\"M18.56 5.44l.94 2.06.94-2.06 2.06-.94-2.06-.94-.94-2.06-.94 2.06-2.06.94zm-11 1L8.5 8.5l.94-2.06 2.06-.94-2.06-.94L8.5 2.5l-.94 2.06-2.06.94zm10 10l.94 2.06.94-2.06 2.06-.94-2.06-.94-.94-2.06-.94 2.06-2.06.94z\"/><path d=\"M17.41 7.96l-1.37-1.37c-.4-.4-.92-.59-1.43-.59-.52 0-1.04.2-1.43.59L10.3 9.45l-7.72 7.72c-.78.78-.78 2.05 0 2.83L4 21.41c.39.39.9.59 1.41.59.51 0 1.02-.2 1.41-.59l7.78-7.78 2.81-2.81c.8-.78.8-2.07 0-2.86zM5.41 20L4 18.59l7.72-7.72 1.47 1.35L5.41 20z\"/>\n",
              "  </svg>\n",
              "      </button>\n",
              "      \n",
              "  <style>\n",
              "    .colab-df-container {\n",
              "      display:flex;\n",
              "      flex-wrap:wrap;\n",
              "      gap: 12px;\n",
              "    }\n",
              "\n",
              "    .colab-df-convert {\n",
              "      background-color: #E8F0FE;\n",
              "      border: none;\n",
              "      border-radius: 50%;\n",
              "      cursor: pointer;\n",
              "      display: none;\n",
              "      fill: #1967D2;\n",
              "      height: 32px;\n",
              "      padding: 0 0 0 0;\n",
              "      width: 32px;\n",
              "    }\n",
              "\n",
              "    .colab-df-convert:hover {\n",
              "      background-color: #E2EBFA;\n",
              "      box-shadow: 0px 1px 2px rgba(60, 64, 67, 0.3), 0px 1px 3px 1px rgba(60, 64, 67, 0.15);\n",
              "      fill: #174EA6;\n",
              "    }\n",
              "\n",
              "    [theme=dark] .colab-df-convert {\n",
              "      background-color: #3B4455;\n",
              "      fill: #D2E3FC;\n",
              "    }\n",
              "\n",
              "    [theme=dark] .colab-df-convert:hover {\n",
              "      background-color: #434B5C;\n",
              "      box-shadow: 0px 1px 3px 1px rgba(0, 0, 0, 0.15);\n",
              "      filter: drop-shadow(0px 1px 2px rgba(0, 0, 0, 0.3));\n",
              "      fill: #FFFFFF;\n",
              "    }\n",
              "  </style>\n",
              "\n",
              "      <script>\n",
              "        const buttonEl =\n",
              "          document.querySelector('#df-41fc3142-7801-4e47-a16a-ca31ac75e4d8 button.colab-df-convert');\n",
              "        buttonEl.style.display =\n",
              "          google.colab.kernel.accessAllowed ? 'block' : 'none';\n",
              "\n",
              "        async function convertToInteractive(key) {\n",
              "          const element = document.querySelector('#df-41fc3142-7801-4e47-a16a-ca31ac75e4d8');\n",
              "          const dataTable =\n",
              "            await google.colab.kernel.invokeFunction('convertToInteractive',\n",
              "                                                     [key], {});\n",
              "          if (!dataTable) return;\n",
              "\n",
              "          const docLinkHtml = 'Like what you see? Visit the ' +\n",
              "            '<a target=\"_blank\" href=https://colab.research.google.com/notebooks/data_table.ipynb>data table notebook</a>'\n",
              "            + ' to learn more about interactive tables.';\n",
              "          element.innerHTML = '';\n",
              "          dataTable['output_type'] = 'display_data';\n",
              "          await google.colab.output.renderOutput(dataTable, element);\n",
              "          const docLink = document.createElement('div');\n",
              "          docLink.innerHTML = docLinkHtml;\n",
              "          element.appendChild(docLink);\n",
              "        }\n",
              "      </script>\n",
              "    </div>\n",
              "  </div>\n",
              "  "
            ]
          },
          "metadata": {},
          "execution_count": 31
        }
      ],
      "source": [
        "df.head(10)"
      ]
    },
    {
      "cell_type": "code",
      "execution_count": null,
      "id": "a314abd0",
      "metadata": {
        "id": "a314abd0",
        "outputId": "94d32b31-33b3-42ca-8cae-c599051a1f16"
      },
      "outputs": [
        {
          "data": {
            "text/plain": [
              "(17736, 7)"
            ]
          },
          "execution_count": 5,
          "metadata": {},
          "output_type": "execute_result"
        }
      ],
      "source": [
        "df.shape"
      ]
    },
    {
      "cell_type": "code",
      "execution_count": 5,
      "id": "d460d95b",
      "metadata": {
        "id": "d460d95b"
      },
      "outputs": [],
      "source": [
        "def get_document_vectorizer(frame, n_min=1, n=2, max_count=10000, column=\"text\"):\n",
        "    texts_vector = frame[column]\n",
        "    vectorizer = TfidfVectorizer(ngram_range=(n_min,n), max_features=max_count, norm='l2')\n",
        "    vectorizer.fit(texts_vector)\n",
        "    return vectorizer\n",
        "\n",
        "def get_author_vectorizer(frame, n_min=1, n=2, max_count=10000, column=\"text\"):\n",
        "    grouped_text = frame.groupby(\"author\", as_index = False)[column].agg({column: ' '.join})\n",
        "    vectorizer = TfidfVectorizer(ngram_range=(n_min,n), max_features=max_count, norm='l2')\n",
        "    texts_vector = frame[column]\n",
        "    vectorizer.fit(texts_vector)\n",
        "    return vectorizer"
      ]
    },
    {
      "cell_type": "code",
      "execution_count": 6,
      "id": "bf3d281c",
      "metadata": {
        "id": "bf3d281c"
      },
      "outputs": [],
      "source": [
        "def get_encoder(frame, column=\"author\"):\n",
        "    encoder = LabelEncoder()\n",
        "    encoder.fit(frame[column])\n",
        "    return encoder"
      ]
    },
    {
      "cell_type": "markdown",
      "id": "4e4f4ad7",
      "metadata": {
        "id": "4e4f4ad7"
      },
      "source": [
        "### Попробуем в лоб:\n",
        "возьмем лемматизированные отрезки текста, векторизируем их и попробуем предсказать"
      ]
    },
    {
      "cell_type": "code",
      "execution_count": 7,
      "id": "0a9aebe8",
      "metadata": {
        "id": "0a9aebe8"
      },
      "outputs": [],
      "source": [
        "label_encoder = get_encoder(frame=df)"
      ]
    },
    {
      "cell_type": "code",
      "execution_count": 9,
      "id": "4db92480",
      "metadata": {
        "id": "4db92480"
      },
      "outputs": [],
      "source": [
        "y = label_encoder.transform(df[\"author\"])\n",
        "df_train, df_test, y_train, y_test = train_test_split(df, y, train_size=0.33)"
      ]
    },
    {
      "cell_type": "code",
      "execution_count": 11,
      "id": "7420aae1",
      "metadata": {
        "id": "7420aae1"
      },
      "outputs": [],
      "source": [
        "vectorizer = get_author_vectorizer(df_train, max_count=20000)\n",
        "x_train = vectorizer.transform(df_train[\"text\"])\n",
        "x_test = vectorizer.transform(df_test[\"text\"])"
      ]
    },
    {
      "cell_type": "code",
      "execution_count": null,
      "id": "8aeb101f",
      "metadata": {
        "id": "8aeb101f"
      },
      "outputs": [],
      "source": [
        "clf = LogisticRegression(class_weight=\"balanced\",\n",
        "                        max_iter=500)\n",
        "clf.fit(x_train, y_train)"
      ]
    },
    {
      "cell_type": "code",
      "execution_count": null,
      "id": "68e33e9c",
      "metadata": {
        "id": "68e33e9c",
        "outputId": "9030f48e-11ad-4b0b-c2ff-8a9787e7cb46"
      },
      "outputs": [
        {
          "data": {
            "text/plain": [
              "0.971622641509434"
            ]
          },
          "execution_count": 79,
          "metadata": {},
          "output_type": "execute_result"
        }
      ],
      "source": [
        "f1_score(clf.predict(x_test), y_test, average=\"micro\")"
      ]
    },
    {
      "cell_type": "markdown",
      "id": "67666aba",
      "metadata": {
        "id": "67666aba"
      },
      "source": [
        "Если играться с параметрами, точность колеблется около 96-97%"
      ]
    },
    {
      "cell_type": "markdown",
      "id": "9eaf1865",
      "metadata": {
        "id": "9eaf1865"
      },
      "source": [
        "### Попробуем на частях речи"
      ]
    },
    {
      "cell_type": "code",
      "execution_count": null,
      "id": "47d9b4c5",
      "metadata": {
        "id": "47d9b4c5"
      },
      "outputs": [],
      "source": [
        "label_encoder = get_encoder(frame=df)\n",
        "y = label_encoder.transform(df[\"author\"])\n",
        "df_train, df_test, y_train, y_test = train_test_split(df, y, train_size=0.5)"
      ]
    },
    {
      "cell_type": "code",
      "execution_count": null,
      "id": "c6fd0294",
      "metadata": {
        "id": "c6fd0294"
      },
      "outputs": [],
      "source": [
        "vectorizer = get_author_vectorizer(df_train, max_count=10000, column=\"tags\", n_min=1, n=3)\n",
        "x_train = vectorizer.transform(df_train[\"tags\"])\n",
        "x_test = vectorizer.transform(df_test[\"tags\"])"
      ]
    },
    {
      "cell_type": "code",
      "execution_count": null,
      "id": "29f03d2d",
      "metadata": {
        "id": "29f03d2d",
        "outputId": "0364161b-ec40-4531-d109-54608f613cf8"
      },
      "outputs": [
        {
          "data": {
            "text/plain": [
              "LogisticRegression(class_weight='balanced', max_iter=500)"
            ]
          },
          "execution_count": 104,
          "metadata": {},
          "output_type": "execute_result"
        }
      ],
      "source": [
        "clf = LogisticRegression(class_weight=\"balanced\",\n",
        "                         warm_start=False,\n",
        "                         max_iter=500)\n",
        "clf.fit(x_train, y_train)"
      ]
    },
    {
      "cell_type": "code",
      "execution_count": null,
      "id": "3b9afdd6",
      "metadata": {
        "id": "3b9afdd6",
        "outputId": "632253b0-e523-4bf9-d290-24d5b1102463"
      },
      "outputs": [
        {
          "data": {
            "text/plain": [
              "0.6599245283018867"
            ]
          },
          "execution_count": 105,
          "metadata": {},
          "output_type": "execute_result"
        }
      ],
      "source": [
        "f1_score(clf.predict(x_test), y_test, average=\"micro\")"
      ]
    },
    {
      "cell_type": "code",
      "execution_count": null,
      "id": "8c6a2aba",
      "metadata": {
        "id": "8c6a2aba",
        "outputId": "9d05ac43-53a3-444c-d204-bc87868fc29b"
      },
      "outputs": [
        {
          "data": {
            "text/plain": [
              "0.8221618357487923"
            ]
          },
          "execution_count": 106,
          "metadata": {},
          "output_type": "execute_result"
        }
      ],
      "source": [
        "f1_score(clf.predict(x_train), y_train, average=\"micro\")"
      ]
    },
    {
      "cell_type": "markdown",
      "id": "3cc6915d",
      "metadata": {
        "id": "3cc6915d"
      },
      "source": [
        "Через перебор n-gram и длины вектора точность на тесте не выше 0.66"
      ]
    },
    {
      "cell_type": "markdown",
      "id": "f4308165",
      "metadata": {
        "id": "f4308165"
      },
      "source": [
        "### комбинируем"
      ]
    },
    {
      "cell_type": "code",
      "execution_count": null,
      "id": "f6e362d0",
      "metadata": {
        "id": "f6e362d0"
      },
      "outputs": [],
      "source": [
        "vectorizer1 = get_author_vectorizer(df_train, max_count=30000)\n",
        "vectorizer2 = get_author_vectorizer(df_train, max_count=5000, column=\"tags\", n_min=1, n=3)\n",
        "\n",
        "x_train1 = vectorizer1.transform(df_train[\"lemmas\"])\n",
        "x_train2 = vectorizer2.transform(df_train[\"tags\"])\n",
        "\n",
        "x_test1 = vectorizer1.transform(df_test[\"lemmas\"])\n",
        "x_test2 = vectorizer2.transform(df_test[\"tags\"])\n",
        "\n",
        "x_train = sp.sparse.hstack([x_train1, x_train2])\n",
        "x_test = sp.sparse.hstack([x_test1, x_test2])"
      ]
    },
    {
      "cell_type": "code",
      "execution_count": null,
      "id": "6f1e1c7c",
      "metadata": {
        "id": "6f1e1c7c",
        "outputId": "c06551f5-bd59-478b-cc29-263233efa8ff"
      },
      "outputs": [
        {
          "data": {
            "text/plain": [
              "LogisticRegression(class_weight='balanced', max_iter=500)"
            ]
          },
          "execution_count": 117,
          "metadata": {},
          "output_type": "execute_result"
        }
      ],
      "source": [
        "clf = LogisticRegression(class_weight=\"balanced\",\n",
        "                         warm_start=False,\n",
        "                         max_iter=500)\n",
        "clf.fit(x_train, y_train)"
      ]
    },
    {
      "cell_type": "code",
      "execution_count": null,
      "id": "d48dc3c2",
      "metadata": {
        "id": "d48dc3c2",
        "outputId": "ea9d0d74-d333-44b4-c718-cf774f894dee"
      },
      "outputs": [
        {
          "data": {
            "text/plain": [
              "0.9559245283018868"
            ]
          },
          "execution_count": 118,
          "metadata": {},
          "output_type": "execute_result"
        }
      ],
      "source": [
        "f1_score(clf.predict(x_test), y_test, average=\"micro\")"
      ]
    },
    {
      "cell_type": "code",
      "execution_count": null,
      "id": "3b3bbe40",
      "metadata": {
        "id": "3b3bbe40"
      },
      "outputs": [],
      "source": []
    },
    {
      "cell_type": "markdown",
      "id": "75209b1d",
      "metadata": {
        "id": "75209b1d"
      },
      "source": [
        "комбинация ничего особо не дает. Не похоже на переобучение, при снижении количества параметров мы ничего особо не выигрываем"
      ]
    },
    {
      "cell_type": "markdown",
      "id": "a66bd1dc",
      "metadata": {
        "id": "a66bd1dc"
      },
      "source": [
        "Если поможет то гуд \n",
        "TfIdf для нескольких колонок"
      ]
    },
    {
      "cell_type": "code",
      "execution_count": null,
      "id": "54b41fc4",
      "metadata": {
        "id": "54b41fc4"
      },
      "outputs": [],
      "source": [
        "TfIdf для нескольких колонок\n",
        "In [9]:\n",
        "class MultiTfidf(TransformerMixin):\n",
        "    def __init__(self, cols=None, tfidf_type='classic'):\n",
        "        self.cols = cols\n",
        "        self.tfidf_type = tfidf_type\n",
        "    \n",
        "    def fit(self, X, y=None):\n",
        "        if self.tfidf_type == 'classic':\n",
        "            get_vectorizer = get_document_vectorizer\n",
        "        elif self.tfidf_type == 'class_based':\n",
        "            get_vectorizer = get_author_vectorizer\n",
        "        else:\n",
        "            raise ValueError(\"Unknown vectorizer\")\n",
        "        self.vectorizers_ = [get_vectorizer(X, column=col) for col in self.cols]\n",
        "        return self\n",
        "    \n",
        "    def transform(self, X, y=None):\n",
        "        results = []\n",
        "        for vec, col in zip(self.vectorizers_, self.cols):\n",
        "            results.append(vec.transform(X[col]))\n",
        "        return sp.hstack(results)"
      ]
    },
    {
      "cell_type": "markdown",
      "id": "4c819412",
      "metadata": {
        "id": "4c819412"
      },
      "source": [
        "базовый пайплайн"
      ]
    },
    {
      "cell_type": "code",
      "execution_count": null,
      "id": "b40ffdac",
      "metadata": {
        "id": "b40ffdac"
      },
      "outputs": [],
      "source": [
        "def get_base_estimator(cols, vec_type='classic'):\n",
        "    pipe = Pipeline([\n",
        "        ('vectorizer', MultiTfidf(cols=cols, tfidf_type=vec_type)),\n",
        "        ('model', LogisticRegression(class_weight='balanced', max_iter=500, C=1000))\n",
        "    ])\n",
        "    return pipe"
      ]
    },
    {
      "cell_type": "markdown",
      "id": "ebdb1143",
      "metadata": {
        "id": "ebdb1143"
      },
      "source": [
        "## CATBOOST"
      ]
    },
    {
      "cell_type": "code",
      "execution_count": 12,
      "id": "16a86d82",
      "metadata": {
        "scrolled": true,
        "colab": {
          "base_uri": "https://localhost:8080/"
        },
        "id": "16a86d82",
        "outputId": "e53c22b9-d85d-41a3-859e-c0dacd92c05e"
      },
      "outputs": [
        {
          "output_type": "stream",
          "name": "stdout",
          "text": [
            "Looking in indexes: https://pypi.org/simple, https://us-python.pkg.dev/colab-wheels/public/simple/\n",
            "Collecting catboost\n",
            "  Downloading catboost-1.1.1-cp38-none-manylinux1_x86_64.whl (76.6 MB)\n",
            "\u001b[K     |████████████████████████████████| 76.6 MB 1.2 MB/s \n",
            "\u001b[?25hRequirement already satisfied: pandas>=0.24.0 in /usr/local/lib/python3.8/dist-packages (from catboost) (1.3.5)\n",
            "Requirement already satisfied: graphviz in /usr/local/lib/python3.8/dist-packages (from catboost) (0.10.1)\n",
            "Requirement already satisfied: matplotlib in /usr/local/lib/python3.8/dist-packages (from catboost) (3.2.2)\n",
            "Requirement already satisfied: scipy in /usr/local/lib/python3.8/dist-packages (from catboost) (1.7.3)\n",
            "Requirement already satisfied: six in /usr/local/lib/python3.8/dist-packages (from catboost) (1.15.0)\n",
            "Requirement already satisfied: numpy>=1.16.0 in /usr/local/lib/python3.8/dist-packages (from catboost) (1.21.6)\n",
            "Requirement already satisfied: plotly in /usr/local/lib/python3.8/dist-packages (from catboost) (5.5.0)\n",
            "Requirement already satisfied: pytz>=2017.3 in /usr/local/lib/python3.8/dist-packages (from pandas>=0.24.0->catboost) (2022.6)\n",
            "Requirement already satisfied: python-dateutil>=2.7.3 in /usr/local/lib/python3.8/dist-packages (from pandas>=0.24.0->catboost) (2.8.2)\n",
            "Requirement already satisfied: cycler>=0.10 in /usr/local/lib/python3.8/dist-packages (from matplotlib->catboost) (0.11.0)\n",
            "Requirement already satisfied: kiwisolver>=1.0.1 in /usr/local/lib/python3.8/dist-packages (from matplotlib->catboost) (1.4.4)\n",
            "Requirement already satisfied: pyparsing!=2.0.4,!=2.1.2,!=2.1.6,>=2.0.1 in /usr/local/lib/python3.8/dist-packages (from matplotlib->catboost) (3.0.9)\n",
            "Requirement already satisfied: tenacity>=6.2.0 in /usr/local/lib/python3.8/dist-packages (from plotly->catboost) (8.1.0)\n",
            "Installing collected packages: catboost\n",
            "Successfully installed catboost-1.1.1\n"
          ]
        }
      ],
      "source": [
        "!pip install catboost"
      ]
    },
    {
      "cell_type": "code",
      "execution_count": 14,
      "id": "37e26d19",
      "metadata": {
        "id": "37e26d19"
      },
      "outputs": [],
      "source": [
        "from catboost import Pool, CatBoostClassifier"
      ]
    },
    {
      "cell_type": "code",
      "execution_count": 15,
      "id": "229c1e50",
      "metadata": {
        "id": "229c1e50"
      },
      "outputs": [],
      "source": [
        "df = df[[\"text\"]]\n"
      ]
    },
    {
      "cell_type": "code",
      "execution_count": 17,
      "id": "b7c370ca",
      "metadata": {
        "id": "b7c370ca"
      },
      "outputs": [],
      "source": [
        "df_train, df_test, y_train, y_test = train_test_split(df, y, train_size=0.33)"
      ]
    },
    {
      "cell_type": "code",
      "execution_count": 33,
      "id": "d136590f",
      "metadata": {
        "id": "d136590f"
      },
      "outputs": [],
      "source": [
        "train_pool = Pool(\n",
        "    df_train, \n",
        "    y_train, \n",
        "    text_features=[\"text\"],\n",
        "    \n",
        "   \n",
        ")\n",
        "valid_pool = Pool(\n",
        "    df_test, \n",
        "    y_test,\n",
        "    text_features=[\"text\"], \n",
        "   \n",
        ")\n",
        "\n",
        "catboost_params = {\n",
        "    'iterations': 20000,\n",
        "    'learning_rate': 0.01,\n",
        "    'eval_metric': 'Accuracy',\n",
        "    'task_type': 'GPU',\n",
        "    'early_stopping_rounds': 2000,\n",
        "    'use_best_model': True,\n",
        "    'verbose': 2000,\n",
        "    'l2_leaf_reg': 1\n",
        "    \n",
        "}\n",
        "model = CatBoostClassifier(**catboost_params,random_seed = 43)\n",
        "\n"
      ]
    },
    {
      "cell_type": "code",
      "execution_count": 34,
      "id": "3709be9c",
      "metadata": {
        "colab": {
          "base_uri": "https://localhost:8080/"
        },
        "id": "3709be9c",
        "outputId": "60d6528c-e685-4fab-c293-2e5ddaf75d43"
      },
      "outputs": [
        {
          "output_type": "stream",
          "name": "stdout",
          "text": [
            "0:\tlearn: 0.6925837\ttest: 0.7470549\tbest: 0.7470549 (0)\ttotal: 35.9ms\tremaining: 11m 57s\n",
            "2000:\tlearn: 0.9519822\ttest: 0.9484180\tbest: 0.9485022 (1920)\ttotal: 42.8s\tremaining: 6m 25s\n",
            "4000:\tlearn: 0.9854751\ttest: 0.9518681\tbest: 0.9521205 (3890)\ttotal: 1m 27s\tremaining: 5m 51s\n",
            "6000:\tlearn: 0.9981203\ttest: 0.9542242\tbest: 0.9543083 (5788)\ttotal: 2m 8s\tremaining: 4m 59s\n",
            "8000:\tlearn: 0.9998291\ttest: 0.9559071\tbest: 0.9559912 (7825)\ttotal: 2m 47s\tremaining: 4m 11s\n",
            "10000:\tlearn: 1.0000000\ttest: 0.9568327\tbest: 0.9568327 (9960)\ttotal: 3m 28s\tremaining: 3m 28s\n",
            "12000:\tlearn: 1.0000000\ttest: 0.9575900\tbest: 0.9577583 (11437)\ttotal: 4m 8s\tremaining: 2m 45s\n",
            "14000:\tlearn: 1.0000000\ttest: 0.9580949\tbest: 0.9583474 (13444)\ttotal: 4m 52s\tremaining: 2m 5s\n",
            "16000:\tlearn: 1.0000000\ttest: 0.9585157\tbest: 0.9585157 (14791)\ttotal: 5m 32s\tremaining: 1m 23s\n",
            "18000:\tlearn: 1.0000000\ttest: 0.9587681\tbest: 0.9587681 (16494)\ttotal: 6m 12s\tremaining: 41.4s\n",
            "19999:\tlearn: 1.0000000\ttest: 0.9590205\tbest: 0.9591047 (19825)\ttotal: 6m 52s\tremaining: 0us\n",
            "bestTest = 0.9591046786\n",
            "bestIteration = 19825\n",
            "Shrink model to first 19826 iterations.\n"
          ]
        },
        {
          "output_type": "execute_result",
          "data": {
            "text/plain": [
              "<catboost.core.CatBoostClassifier at 0x7f860ee75bb0>"
            ]
          },
          "metadata": {},
          "execution_count": 34
        }
      ],
      "source": [
        "model.fit(train_pool, eval_set=valid_pool)"
      ]
    },
    {
      "cell_type": "code",
      "execution_count": null,
      "id": "7d0cd2d5",
      "metadata": {
        "id": "7d0cd2d5"
      },
      "outputs": [],
      "source": []
    }
  ],
  "metadata": {
    "kernelspec": {
      "display_name": "Python 3 (ipykernel)",
      "language": "python",
      "name": "python3"
    },
    "language_info": {
      "codemirror_mode": {
        "name": "ipython",
        "version": 3
      },
      "file_extension": ".py",
      "mimetype": "text/x-python",
      "name": "python",
      "nbconvert_exporter": "python",
      "pygments_lexer": "ipython3",
      "version": "3.9.12"
    },
    "colab": {
      "provenance": []
    },
    "accelerator": "GPU",
    "gpuClass": "standard"
  },
  "nbformat": 4,
  "nbformat_minor": 5
}