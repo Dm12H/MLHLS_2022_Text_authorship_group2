{
 "cells": [
  {
   "cell_type": "code",
   "execution_count": 108,
   "id": "1d81b062",
   "metadata": {},
   "outputs": [],
   "source": [
    "import pandas as pd\n",
    "import numpy as np\n",
    "import scipy as sp\n",
    "from sklearn.feature_extraction.text import TfidfVectorizer\n",
    "from sklearn.model_selection import train_test_split\n",
    "from sklearn.preprocessing import LabelEncoder\n",
    "from sklearn.linear_model import LogisticRegression\n",
    "from sklearn.metrics import f1_score"
   ]
  },
  {
   "cell_type": "code",
   "execution_count": 119,
   "id": "125ac726",
   "metadata": {},
   "outputs": [],
   "source": [
    "DFRAME_PATH=\"/home/dm12h/authorship/temp/aggregated_df.csv\""
   ]
  },
  {
   "cell_type": "code",
   "execution_count": null,
   "id": "f3eeded4",
   "metadata": {
    "scrolled": true
   },
   "outputs": [],
   "source": [
    "df = pd.read_csv(DFRAME_PATH)"
   ]
  },
  {
   "cell_type": "code",
   "execution_count": 4,
   "id": "29aef5d5",
   "metadata": {
    "scrolled": true
   },
   "outputs": [
    {
     "data": {
      "text/html": [
       "<div>\n",
       "<style scoped>\n",
       "    .dataframe tbody tr th:only-of-type {\n",
       "        vertical-align: middle;\n",
       "    }\n",
       "\n",
       "    .dataframe tbody tr th {\n",
       "        vertical-align: top;\n",
       "    }\n",
       "\n",
       "    .dataframe thead th {\n",
       "        text-align: right;\n",
       "    }\n",
       "</style>\n",
       "<table border=\"1\" class=\"dataframe\">\n",
       "  <thead>\n",
       "    <tr style=\"text-align: right;\">\n",
       "      <th></th>\n",
       "      <th>author</th>\n",
       "      <th>text</th>\n",
       "      <th>text_no_punkt</th>\n",
       "      <th>lemmas</th>\n",
       "      <th>tags</th>\n",
       "      <th>tokens</th>\n",
       "    </tr>\n",
       "  </thead>\n",
       "  <tbody>\n",
       "    <tr>\n",
       "      <th>0</th>\n",
       "      <td>Аверченко</td>\n",
       "      <td>Мы за пять лет. Материалы [к биографии]\\nКак б...</td>\n",
       "      <td>Мы за пять лет Материалы к биографии Как будто...</td>\n",
       "      <td>мы пять год материал биография как кроваво-кра...</td>\n",
       "      <td>2_NPRO 4_NUMR 3_NOUN 9_NOUN 9_NOUN 3_CONJ 15_A...</td>\n",
       "      <td>Мы за пять лет . Материалы [ к биографии ] Как...</td>\n",
       "    </tr>\n",
       "    <tr>\n",
       "      <th>1</th>\n",
       "      <td>Аверченко</td>\n",
       "      <td>Сидел он за большим письменным столом перед де...</td>\n",
       "      <td>Сидел он за большим письменным столом перед де...</td>\n",
       "      <td>сидеть больший письменный стол деревянный доск...</td>\n",
       "      <td>5_VERB 7_ADJF 10_ADJF 6_NOUN 10_ADJF 6_NOUN 6_...</td>\n",
       "      <td>Сидел он за большим письменным столом перед де...</td>\n",
       "    </tr>\n",
       "    <tr>\n",
       "      <th>2</th>\n",
       "      <td>Аверченко</td>\n",
       "      <td>— Да уж, — качал головой сдержанный Ре-ми. — Н...</td>\n",
       "      <td>Да уж качал головой сдержанный Ре-ми Нехорошо ...</td>\n",
       "      <td>да качать голова сдержать ре-ми нехорошо нехор...</td>\n",
       "      <td>2_PRCL 5_VERB 7_NOUN 10_PRTF 5_None 8_ADVB 8_A...</td>\n",
       "      <td>— Да уж , — качал головой сдержанный Ре-ми . —...</td>\n",
       "    </tr>\n",
       "    <tr>\n",
       "      <th>3</th>\n",
       "      <td>Аверченко</td>\n",
       "      <td>Поверит ли кто-нибудь, что нами за эти пять ле...</td>\n",
       "      <td>Поверит ли кто-нибудь что нами за эти пять лет...</td>\n",
       "      <td>поверить кто-нибудь мы пять год совместно м.г ...</td>\n",
       "      <td>7_VERB 10_NPRO 4_NPRO 4_NUMR 3_NOUN 9_ADVB 3_N...</td>\n",
       "      <td>Поверит ли кто-нибудь , что нами за эти пять л...</td>\n",
       "    </tr>\n",
       "    <tr>\n",
       "      <th>4</th>\n",
       "      <td>Аверченко</td>\n",
       "      <td>8\\nАверченко А. Избранные рассказы. М., 1985. ...</td>\n",
       "      <td>8 Аверченко А Избранные рассказы М 1985 С 7 9 ...</td>\n",
       "      <td>8 аверченко а избранный рассказ м 1985 с 7 9 е...</td>\n",
       "      <td>1_None 9_NOUN 1_CONJ 9_ADJF 8_NOUN 1_NOUN 4_No...</td>\n",
       "      <td>8 Аверченко А. Избранные рассказы . М. , 1985 ...</td>\n",
       "    </tr>\n",
       "    <tr>\n",
       "      <th>5</th>\n",
       "      <td>Аверченко</td>\n",
       "      <td>— Помилуйте, такой праздник… Нужно, обязательн...</td>\n",
       "      <td>Помилуйте такой праздник Нужно обязательно поц...</td>\n",
       "      <td>помиловать праздник нужно обязательно поцелова...</td>\n",
       "      <td>9_VERB 8_NOUN 5_PRED 11_ADVB 12_INFN 1_PREP 7_...</td>\n",
       "      <td>— Помилуйте , такой праздник… Нужно , обязател...</td>\n",
       "    </tr>\n",
       "    <tr>\n",
       "      <th>6</th>\n",
       "      <td>Аверченко</td>\n",
       "      <td>— Разбудить его в половине шестнадцатого.\\n* *...</td>\n",
       "      <td>Разбудить его в половине шестнадцатого Закончи...</td>\n",
       "      <td>разбудить половина шестнадцатый закончить визи...</td>\n",
       "      <td>9_INFN 8_NOUN 13_ADJF 8_GRND 6_NOUN 7_NOUN 5_A...</td>\n",
       "      <td>— Разбудить его в половине шестнадцатого . * *...</td>\n",
       "    </tr>\n",
       "    <tr>\n",
       "      <th>7</th>\n",
       "      <td>Аверченко</td>\n",
       "      <td>Он встал, оделся, побрился и вышел на улицу.\\n...</td>\n",
       "      <td>Он встал оделся побрился и вышел на улицу На у...</td>\n",
       "      <td>он встать одеться побриться выйти улица на ули...</td>\n",
       "      <td>2_NPRO 5_VERB 6_VERB 8_VERB 5_VERB 5_NOUN 2_PR...</td>\n",
       "      <td>Он встал , оделся , побрился и вышел на улицу ...</td>\n",
       "    </tr>\n",
       "    <tr>\n",
       "      <th>8</th>\n",
       "      <td>Аверченко</td>\n",
       "      <td>Мозаика\\nI\\n— Я несчастный человек — вот что!\\...</td>\n",
       "      <td>Мозаика I Я несчастный человек вот что Что за ...</td>\n",
       "      <td>мозаика i я несчастный человек что вздор никог...</td>\n",
       "      <td>7_NOUN 1_None 1_NPRO 10_ADJF 7_NOUN 3_CONJ 5_N...</td>\n",
       "      <td>Мозаика I — Я несчастный человек — вот что ! —...</td>\n",
       "    </tr>\n",
       "    <tr>\n",
       "      <th>9</th>\n",
       "      <td>Аверченко</td>\n",
       "      <td>— Как записываешь?\\n— В записной книжке. Хочеш...</td>\n",
       "      <td>Как записываешь В записной книжке Хочешь У мен...</td>\n",
       "      <td>как записывать в записной книжка хотеть у мину...</td>\n",
       "      <td>3_CONJ 11_VERB 1_PREP 8_ADJF 6_NOUN 6_VERB 1_P...</td>\n",
       "      <td>— Как записываешь ? — В записной книжке . Хоче...</td>\n",
       "    </tr>\n",
       "  </tbody>\n",
       "</table>\n",
       "</div>"
      ],
      "text/plain": [
       "      author                                               text  \\\n",
       "0  Аверченко  Мы за пять лет. Материалы [к биографии]\\nКак б...   \n",
       "1  Аверченко  Сидел он за большим письменным столом перед де...   \n",
       "2  Аверченко  — Да уж, — качал головой сдержанный Ре-ми. — Н...   \n",
       "3  Аверченко  Поверит ли кто-нибудь, что нами за эти пять ле...   \n",
       "4  Аверченко  8\\nАверченко А. Избранные рассказы. М., 1985. ...   \n",
       "5  Аверченко  — Помилуйте, такой праздник… Нужно, обязательн...   \n",
       "6  Аверченко  — Разбудить его в половине шестнадцатого.\\n* *...   \n",
       "7  Аверченко  Он встал, оделся, побрился и вышел на улицу.\\n...   \n",
       "8  Аверченко  Мозаика\\nI\\n— Я несчастный человек — вот что!\\...   \n",
       "9  Аверченко  — Как записываешь?\\n— В записной книжке. Хочеш...   \n",
       "\n",
       "                                       text_no_punkt  \\\n",
       "0  Мы за пять лет Материалы к биографии Как будто...   \n",
       "1  Сидел он за большим письменным столом перед де...   \n",
       "2  Да уж качал головой сдержанный Ре-ми Нехорошо ...   \n",
       "3  Поверит ли кто-нибудь что нами за эти пять лет...   \n",
       "4  8 Аверченко А Избранные рассказы М 1985 С 7 9 ...   \n",
       "5  Помилуйте такой праздник Нужно обязательно поц...   \n",
       "6  Разбудить его в половине шестнадцатого Закончи...   \n",
       "7  Он встал оделся побрился и вышел на улицу На у...   \n",
       "8  Мозаика I Я несчастный человек вот что Что за ...   \n",
       "9  Как записываешь В записной книжке Хочешь У мен...   \n",
       "\n",
       "                                              lemmas  \\\n",
       "0  мы пять год материал биография как кроваво-кра...   \n",
       "1  сидеть больший письменный стол деревянный доск...   \n",
       "2  да качать голова сдержать ре-ми нехорошо нехор...   \n",
       "3  поверить кто-нибудь мы пять год совместно м.г ...   \n",
       "4  8 аверченко а избранный рассказ м 1985 с 7 9 е...   \n",
       "5  помиловать праздник нужно обязательно поцелова...   \n",
       "6  разбудить половина шестнадцатый закончить визи...   \n",
       "7  он встать одеться побриться выйти улица на ули...   \n",
       "8  мозаика i я несчастный человек что вздор никог...   \n",
       "9  как записывать в записной книжка хотеть у мину...   \n",
       "\n",
       "                                                tags  \\\n",
       "0  2_NPRO 4_NUMR 3_NOUN 9_NOUN 9_NOUN 3_CONJ 15_A...   \n",
       "1  5_VERB 7_ADJF 10_ADJF 6_NOUN 10_ADJF 6_NOUN 6_...   \n",
       "2  2_PRCL 5_VERB 7_NOUN 10_PRTF 5_None 8_ADVB 8_A...   \n",
       "3  7_VERB 10_NPRO 4_NPRO 4_NUMR 3_NOUN 9_ADVB 3_N...   \n",
       "4  1_None 9_NOUN 1_CONJ 9_ADJF 8_NOUN 1_NOUN 4_No...   \n",
       "5  9_VERB 8_NOUN 5_PRED 11_ADVB 12_INFN 1_PREP 7_...   \n",
       "6  9_INFN 8_NOUN 13_ADJF 8_GRND 6_NOUN 7_NOUN 5_A...   \n",
       "7  2_NPRO 5_VERB 6_VERB 8_VERB 5_VERB 5_NOUN 2_PR...   \n",
       "8  7_NOUN 1_None 1_NPRO 10_ADJF 7_NOUN 3_CONJ 5_N...   \n",
       "9  3_CONJ 11_VERB 1_PREP 8_ADJF 6_NOUN 6_VERB 1_P...   \n",
       "\n",
       "                                              tokens  \n",
       "0  Мы за пять лет . Материалы [ к биографии ] Как...  \n",
       "1  Сидел он за большим письменным столом перед де...  \n",
       "2  — Да уж , — качал головой сдержанный Ре-ми . —...  \n",
       "3  Поверит ли кто-нибудь , что нами за эти пять л...  \n",
       "4  8 Аверченко А. Избранные рассказы . М. , 1985 ...  \n",
       "5  — Помилуйте , такой праздник… Нужно , обязател...  \n",
       "6  — Разбудить его в половине шестнадцатого . * *...  \n",
       "7  Он встал , оделся , побрился и вышел на улицу ...  \n",
       "8  Мозаика I — Я несчастный человек — вот что ! —...  \n",
       "9  — Как записываешь ? — В записной книжке . Хоче...  "
      ]
     },
     "execution_count": 4,
     "metadata": {},
     "output_type": "execute_result"
    }
   ],
   "source": [
    "df.head(10)"
   ]
  },
  {
   "cell_type": "code",
   "execution_count": 90,
   "id": "d460d95b",
   "metadata": {},
   "outputs": [],
   "source": [
    "def get_document_vectorizer(frame, n_min=1, n=2, max_count=10000, column=\"lemmas\"):\n",
    "    texts_vector = frame[column]\n",
    "    vectorizer = TfidfVectorizer(ngram_range=(n_min,n), max_features=max_count, norm='l2')\n",
    "    vectorizer.fit(texts_vector)\n",
    "    return vectorizer\n",
    "\n",
    "def get_author_vectorizer(frame, n_min=1, n=2, max_count=10000, column=\"lemmas\"):\n",
    "    grouped_text = frame.groupby(\"author\", as_index = False)[column].agg({column: ' '.join})\n",
    "    vectorizer = TfidfVectorizer(ngram_range=(n_min,n), max_features=max_count, norm='l2')\n",
    "    texts_vector = frame[column]\n",
    "    vectorizer.fit(texts_vector)\n",
    "    return vectorizer"
   ]
  },
  {
   "cell_type": "code",
   "execution_count": 52,
   "id": "bf3d281c",
   "metadata": {},
   "outputs": [],
   "source": [
    "def get_encoder(frame, column=\"author\"):\n",
    "    encoder = LabelEncoder()\n",
    "    encoder.fit(frame[column])\n",
    "    return encoder"
   ]
  },
  {
   "cell_type": "markdown",
   "id": "4e4f4ad7",
   "metadata": {},
   "source": [
    "### Попробуем в лоб:\n",
    "возьмем лемматизированные отрезки текста, векторизируем их и попробуем предсказать"
   ]
  },
  {
   "cell_type": "code",
   "execution_count": 24,
   "id": "0a9aebe8",
   "metadata": {},
   "outputs": [],
   "source": [
    "label_encoder = get_encoder(frame=df)"
   ]
  },
  {
   "cell_type": "code",
   "execution_count": 64,
   "id": "4db92480",
   "metadata": {},
   "outputs": [],
   "source": [
    "y = label_encoder.transform(df[\"author\"])\n",
    "df_train, df_test, y_train, y_test = train_test_split(df, y, train_size=0.5)"
   ]
  },
  {
   "cell_type": "code",
   "execution_count": 77,
   "id": "7420aae1",
   "metadata": {},
   "outputs": [],
   "source": [
    "vectorizer = get_author_vectorizer(df_train, max_count=40000)\n",
    "x_train = vectorizer.transform(df_train[\"lemmas\"])\n",
    "x_test = vectorizer.transform(df_test[\"lemmas\"])"
   ]
  },
  {
   "cell_type": "code",
   "execution_count": 78,
   "id": "8aeb101f",
   "metadata": {},
   "outputs": [
    {
     "data": {
      "text/plain": [
       "LogisticRegression(class_weight='balanced', max_iter=500)"
      ]
     },
     "execution_count": 78,
     "metadata": {},
     "output_type": "execute_result"
    }
   ],
   "source": [
    "clf = LogisticRegression(class_weight=\"balanced\",\n",
    "                        max_iter=500)\n",
    "clf.fit(x_train, y_train)"
   ]
  },
  {
   "cell_type": "code",
   "execution_count": 79,
   "id": "68e33e9c",
   "metadata": {},
   "outputs": [
    {
     "data": {
      "text/plain": [
       "0.971622641509434"
      ]
     },
     "execution_count": 79,
     "metadata": {},
     "output_type": "execute_result"
    }
   ],
   "source": [
    "f1_score(clf.predict(x_test), y_test, average=\"micro\")"
   ]
  },
  {
   "cell_type": "markdown",
   "id": "67666aba",
   "metadata": {},
   "source": [
    "Если играться с параметрами, точность колеблется около 96-97%"
   ]
  },
  {
   "cell_type": "markdown",
   "id": "9eaf1865",
   "metadata": {},
   "source": [
    "### Попробуем на частях речи"
   ]
  },
  {
   "cell_type": "code",
   "execution_count": null,
   "id": "47d9b4c5",
   "metadata": {},
   "outputs": [],
   "source": [
    "label_encoder = get_encoder(frame=df)\n",
    "y = label_encoder.transform(df[\"author\"])\n",
    "df_train, df_test, y_train, y_test = train_test_split(df, y, train_size=0.5)"
   ]
  },
  {
   "cell_type": "code",
   "execution_count": 103,
   "id": "c6fd0294",
   "metadata": {},
   "outputs": [],
   "source": [
    "vectorizer = get_author_vectorizer(df_train, max_count=10000, column=\"tags\", n_min=1, n=3)\n",
    "x_train = vectorizer.transform(df_train[\"tags\"])\n",
    "x_test = vectorizer.transform(df_test[\"tags\"])"
   ]
  },
  {
   "cell_type": "code",
   "execution_count": 104,
   "id": "29f03d2d",
   "metadata": {},
   "outputs": [
    {
     "data": {
      "text/plain": [
       "LogisticRegression(class_weight='balanced', max_iter=500)"
      ]
     },
     "execution_count": 104,
     "metadata": {},
     "output_type": "execute_result"
    }
   ],
   "source": [
    "clf = LogisticRegression(class_weight=\"balanced\",\n",
    "                         warm_start=False,\n",
    "                         max_iter=500)\n",
    "clf.fit(x_train, y_train)"
   ]
  },
  {
   "cell_type": "code",
   "execution_count": 105,
   "id": "3b9afdd6",
   "metadata": {},
   "outputs": [
    {
     "data": {
      "text/plain": [
       "0.6599245283018867"
      ]
     },
     "execution_count": 105,
     "metadata": {},
     "output_type": "execute_result"
    }
   ],
   "source": [
    "f1_score(clf.predict(x_test), y_test, average=\"micro\")"
   ]
  },
  {
   "cell_type": "code",
   "execution_count": 106,
   "id": "8c6a2aba",
   "metadata": {},
   "outputs": [
    {
     "data": {
      "text/plain": [
       "0.8221618357487923"
      ]
     },
     "execution_count": 106,
     "metadata": {},
     "output_type": "execute_result"
    }
   ],
   "source": [
    "f1_score(clf.predict(x_train), y_train, average=\"micro\")"
   ]
  },
  {
   "cell_type": "markdown",
   "id": "3cc6915d",
   "metadata": {},
   "source": [
    "Через перебор n-gram и длины вектора точность на тесте не выше 0.66"
   ]
  },
  {
   "cell_type": "markdown",
   "id": "f4308165",
   "metadata": {},
   "source": [
    "### комбинируем"
   ]
  },
  {
   "cell_type": "code",
   "execution_count": 116,
   "id": "f6e362d0",
   "metadata": {},
   "outputs": [],
   "source": [
    "vectorizer1 = get_author_vectorizer(df_train, max_count=30000)\n",
    "vectorizer2 = get_author_vectorizer(df_train, max_count=5000, column=\"tags\", n_min=1, n=3)\n",
    "\n",
    "x_train1 = vectorizer1.transform(df_train[\"lemmas\"])\n",
    "x_train2 = vectorizer2.transform(df_train[\"tags\"])\n",
    "\n",
    "x_test1 = vectorizer1.transform(df_test[\"lemmas\"])\n",
    "x_test2 = vectorizer2.transform(df_test[\"tags\"])\n",
    "\n",
    "x_train = sp.sparse.hstack([x_train1, x_train2])\n",
    "x_test = sp.sparse.hstack([x_test1, x_test2])"
   ]
  },
  {
   "cell_type": "code",
   "execution_count": 117,
   "id": "6f1e1c7c",
   "metadata": {},
   "outputs": [
    {
     "data": {
      "text/plain": [
       "LogisticRegression(class_weight='balanced', max_iter=500)"
      ]
     },
     "execution_count": 117,
     "metadata": {},
     "output_type": "execute_result"
    }
   ],
   "source": [
    "clf = LogisticRegression(class_weight=\"balanced\",\n",
    "                         warm_start=False,\n",
    "                         max_iter=500)\n",
    "clf.fit(x_train, y_train)"
   ]
  },
  {
   "cell_type": "code",
   "execution_count": 118,
   "id": "d48dc3c2",
   "metadata": {},
   "outputs": [
    {
     "data": {
      "text/plain": [
       "0.9559245283018868"
      ]
     },
     "execution_count": 118,
     "metadata": {},
     "output_type": "execute_result"
    }
   ],
   "source": [
    "f1_score(clf.predict(x_test), y_test, average=\"micro\")"
   ]
  },
  {
   "cell_type": "markdown",
   "id": "75209b1d",
   "metadata": {},
   "source": [
    "комбинация ничего особо не дает. Не похоже на переобучение, при снижении количества параметров мы ничего особо не выигрываем"
   ]
  }
 ],
 "metadata": {
  "kernelspec": {
   "display_name": "py37",
   "language": "python",
   "name": "py37"
  },
  "language_info": {
   "codemirror_mode": {
    "name": "ipython",
    "version": 3
   },
   "file_extension": ".py",
   "mimetype": "text/x-python",
   "name": "python",
   "nbconvert_exporter": "python",
   "pygments_lexer": "ipython3",
   "version": "3.7.15"
  }
 },
 "nbformat": 4,
 "nbformat_minor": 5
}
