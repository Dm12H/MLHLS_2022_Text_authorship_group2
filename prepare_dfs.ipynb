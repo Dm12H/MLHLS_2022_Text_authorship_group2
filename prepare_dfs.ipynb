{
 "cells": [
  {
   "cell_type": "code",
   "execution_count": 43,
   "id": "c091bb50",
   "metadata": {},
   "outputs": [],
   "source": [
    "from StatsAggregation.common import paragraphs_limmited_by_symbols\n",
    "import sys\n",
    "import unicodedata\n",
    "import os\n",
    "import pandas as pd\n",
    "import nltk\n",
    "from nltk import word_tokenize\n",
    "from nltk.corpus import stopwords\n",
    "import pymorphy2"
   ]
  },
  {
   "cell_type": "code",
   "execution_count": 2,
   "id": "ceb7908a",
   "metadata": {},
   "outputs": [
    {
     "name": "stdout",
     "output_type": "stream",
     "text": [
      "C:\\Users\\annag\\Documents\\MLDS_writers\n"
     ]
    }
   ],
   "source": [
    "writers_dir = input()"
   ]
  },
  {
   "cell_type": "code",
   "execution_count": 14,
   "id": "520f683e",
   "metadata": {},
   "outputs": [],
   "source": [
    "data = {}\n",
    "for writer in os.listdir(writers_dir):\n",
    "    paras = paragraphs_limmited_by_symbols(writer, writers_dir, symbol_lim=3000)\n",
    "    texts = ['\\n'.join(para) for para in paras]\n",
    "    data[writer] = texts"
   ]
  },
  {
   "cell_type": "code",
   "execution_count": 15,
   "id": "c1f027f4",
   "metadata": {},
   "outputs": [
    {
     "name": "stdout",
     "output_type": "stream",
     "text": [
      "Аверченко: 1036\n",
      "Булгаков: 976\n",
      "Бунин: 1000\n",
      "Гоголь: 476\n",
      "Горький: 1754\n",
      "Достоевский: 3025\n",
      "Карамзин: 10\n",
      "Куприн: 993\n",
      "Лермонтов: 153\n",
      "Мордовцев: 556\n",
      "Пушкин: 473\n",
      "Салтыков-Щедрин: 917\n",
      "Толстой: 1375\n",
      "Тургенев: 243\n",
      "Чехов: 262\n"
     ]
    }
   ],
   "source": [
    "for k, v in data.items():\n",
    "    print(f'{k}: {len(v)}')"
   ]
  },
  {
   "cell_type": "code",
   "execution_count": 18,
   "id": "5ba71447",
   "metadata": {},
   "outputs": [],
   "source": [
    "pre_df = []\n",
    "for k in data:\n",
    "    for v in data[k]:\n",
    "        pre_df.append([k, v])\n",
    "df = pd.DataFrame(pre_df, columns=['author', 'text'])"
   ]
  },
  {
   "cell_type": "code",
   "execution_count": 19,
   "id": "c0c3b83d",
   "metadata": {},
   "outputs": [
    {
     "data": {
      "text/html": [
       "<div>\n",
       "<style scoped>\n",
       "    .dataframe tbody tr th:only-of-type {\n",
       "        vertical-align: middle;\n",
       "    }\n",
       "\n",
       "    .dataframe tbody tr th {\n",
       "        vertical-align: top;\n",
       "    }\n",
       "\n",
       "    .dataframe thead th {\n",
       "        text-align: right;\n",
       "    }\n",
       "</style>\n",
       "<table border=\"1\" class=\"dataframe\">\n",
       "  <thead>\n",
       "    <tr style=\"text-align: right;\">\n",
       "      <th></th>\n",
       "      <th>author</th>\n",
       "      <th>text</th>\n",
       "    </tr>\n",
       "  </thead>\n",
       "  <tbody>\n",
       "    <tr>\n",
       "      <th>0</th>\n",
       "      <td>Аверченко</td>\n",
       "      <td>Мы за пять лет. Материалы [к биографии]\\nКак б...</td>\n",
       "    </tr>\n",
       "    <tr>\n",
       "      <th>1</th>\n",
       "      <td>Аверченко</td>\n",
       "      <td>Сидел он за большим письменным столом перед де...</td>\n",
       "    </tr>\n",
       "    <tr>\n",
       "      <th>2</th>\n",
       "      <td>Аверченко</td>\n",
       "      <td>— Да уж, — качал головой сдержанный Ре-ми. — Н...</td>\n",
       "    </tr>\n",
       "    <tr>\n",
       "      <th>3</th>\n",
       "      <td>Аверченко</td>\n",
       "      <td>Поверит ли кто-нибудь, что нами за эти пять ле...</td>\n",
       "    </tr>\n",
       "    <tr>\n",
       "      <th>4</th>\n",
       "      <td>Аверченко</td>\n",
       "      <td>8\\nАверченко А. Избранные рассказы. М., 1985. ...</td>\n",
       "    </tr>\n",
       "  </tbody>\n",
       "</table>\n",
       "</div>"
      ],
      "text/plain": [
       "      author                                               text\n",
       "0  Аверченко  Мы за пять лет. Материалы [к биографии]\\nКак б...\n",
       "1  Аверченко  Сидел он за большим письменным столом перед де...\n",
       "2  Аверченко  — Да уж, — качал головой сдержанный Ре-ми. — Н...\n",
       "3  Аверченко  Поверит ли кто-нибудь, что нами за эти пять ле...\n",
       "4  Аверченко  8\\nАверченко А. Избранные рассказы. М., 1985. ..."
      ]
     },
     "execution_count": 19,
     "metadata": {},
     "output_type": "execute_result"
    }
   ],
   "source": [
    "df.head()"
   ]
  },
  {
   "cell_type": "code",
   "execution_count": 20,
   "id": "a55a1553",
   "metadata": {},
   "outputs": [],
   "source": [
    "df.to_csv('author_text.csv', index=False)"
   ]
  },
  {
   "cell_type": "code",
   "execution_count": 28,
   "id": "aa684253",
   "metadata": {},
   "outputs": [],
   "source": [
    "punkt = ''.join([chr(i) for i in range(sys.maxunicode) if unicodedata.category(chr(i)).startswith('P')])"
   ]
  },
  {
   "cell_type": "code",
   "execution_count": 25,
   "id": "162464b7",
   "metadata": {},
   "outputs": [
    {
     "name": "stderr",
     "output_type": "stream",
     "text": [
      "[nltk_data] Downloading package stopwords to\n",
      "[nltk_data]     C:\\Users\\annag\\AppData\\Roaming\\nltk_data...\n",
      "[nltk_data]   Unzipping corpora\\stopwords.zip.\n"
     ]
    },
    {
     "data": {
      "text/plain": [
       "True"
      ]
     },
     "execution_count": 25,
     "metadata": {},
     "output_type": "execute_result"
    }
   ],
   "source": [
    "nltk.download('stopwords')"
   ]
  },
  {
   "cell_type": "code",
   "execution_count": 30,
   "id": "fc5e987e",
   "metadata": {},
   "outputs": [],
   "source": [
    "def remove_punkt(text):\n",
    "    tokens = word_tokenize(text, language='russian')\n",
    "    tokens = [token.strip(punkt) for token in tokens]\n",
    "    return ' '.join([token for token in tokens if token])"
   ]
  },
  {
   "cell_type": "code",
   "execution_count": 55,
   "id": "d52e2bbf",
   "metadata": {},
   "outputs": [],
   "source": [
    "df_no_punkt = df.copy()\n",
    "\n",
    "df_no_punkt['text_no_punkt'] = df_no_punkt['text'].apply(remove_punkt)\n",
    "df_no_punkt.drop('text', axis=1, inplace=True)"
   ]
  },
  {
   "cell_type": "code",
   "execution_count": 66,
   "id": "8e2cecb1",
   "metadata": {},
   "outputs": [],
   "source": [
    "df_no_punkt.to_csv('author_text_no_punkt.csv', index=False)"
   ]
  },
  {
   "cell_type": "code",
   "execution_count": 47,
   "id": "e8a762e0",
   "metadata": {},
   "outputs": [],
   "source": [
    "def lemmatize_with_tags(text):\n",
    "    sw = set(stopwords.words('russian'))\n",
    "    morph = pymorphy2.MorphAnalyzer()\n",
    "    lemmas = []\n",
    "    tags = []\n",
    "    for w in text.split():\n",
    "        if w not in sw:\n",
    "            anls = morph.parse(w)[0]\n",
    "            lemmas.append(anls.normal_form)\n",
    "            tags.append(f'{len(w)}_{anls.tag.POS}')\n",
    "    return ' '.join(lemmas), ' '.join(tags)"
   ]
  },
  {
   "cell_type": "code",
   "execution_count": 48,
   "id": "a41df567",
   "metadata": {},
   "outputs": [],
   "source": [
    "lemmas_and_tags = list(map(lemmatize_with_tags, df_no_punkt['text']))"
   ]
  },
  {
   "cell_type": "code",
   "execution_count": 51,
   "id": "9de6ac44",
   "metadata": {},
   "outputs": [],
   "source": [
    "df_lemmas_and_tags = pd.DataFrame(lemmas_and_tags, columns=['lemmas', 'tags'])\n",
    "df_lemmas_and_tags['author'] = df['author']\n",
    "df_lemmas_and_tags = df_lemmas_and_tags[['author', 'lemmas', 'tags']]"
   ]
  },
  {
   "cell_type": "code",
   "execution_count": 52,
   "id": "1e8296d8",
   "metadata": {},
   "outputs": [
    {
     "data": {
      "text/html": [
       "<div>\n",
       "<style scoped>\n",
       "    .dataframe tbody tr th:only-of-type {\n",
       "        vertical-align: middle;\n",
       "    }\n",
       "\n",
       "    .dataframe tbody tr th {\n",
       "        vertical-align: top;\n",
       "    }\n",
       "\n",
       "    .dataframe thead th {\n",
       "        text-align: right;\n",
       "    }\n",
       "</style>\n",
       "<table border=\"1\" class=\"dataframe\">\n",
       "  <thead>\n",
       "    <tr style=\"text-align: right;\">\n",
       "      <th></th>\n",
       "      <th>author</th>\n",
       "      <th>lemmas</th>\n",
       "      <th>tags</th>\n",
       "    </tr>\n",
       "  </thead>\n",
       "  <tbody>\n",
       "    <tr>\n",
       "      <th>0</th>\n",
       "      <td>Аверченко</td>\n",
       "      <td>мы пять год материал биография как кроваво-кра...</td>\n",
       "      <td>2_NPRO 4_NUMR 3_NOUN 9_NOUN 9_NOUN 3_CONJ 15_A...</td>\n",
       "    </tr>\n",
       "    <tr>\n",
       "      <th>1</th>\n",
       "      <td>Аверченко</td>\n",
       "      <td>сидеть больший письменный стол деревянный доск...</td>\n",
       "      <td>5_VERB 7_ADJF 10_ADJF 6_NOUN 10_ADJF 6_NOUN 6_...</td>\n",
       "    </tr>\n",
       "    <tr>\n",
       "      <th>2</th>\n",
       "      <td>Аверченко</td>\n",
       "      <td>да качать голова сдержать ре-ми нехорошо нехор...</td>\n",
       "      <td>2_PRCL 5_VERB 7_NOUN 10_PRTF 5_None 8_ADVB 8_A...</td>\n",
       "    </tr>\n",
       "    <tr>\n",
       "      <th>3</th>\n",
       "      <td>Аверченко</td>\n",
       "      <td>поверить кто-нибудь мы пять год совместно м.г ...</td>\n",
       "      <td>7_VERB 10_NPRO 4_NPRO 4_NUMR 3_NOUN 9_ADVB 3_N...</td>\n",
       "    </tr>\n",
       "    <tr>\n",
       "      <th>4</th>\n",
       "      <td>Аверченко</td>\n",
       "      <td>8 аверченко а избранный рассказ м 1985 с 7 9 е...</td>\n",
       "      <td>1_None 9_NOUN 1_CONJ 9_ADJF 8_NOUN 1_NOUN 4_No...</td>\n",
       "    </tr>\n",
       "    <tr>\n",
       "      <th>...</th>\n",
       "      <td>...</td>\n",
       "      <td>...</td>\n",
       "      <td>...</td>\n",
       "    </tr>\n",
       "    <tr>\n",
       "      <th>13244</th>\n",
       "      <td>Чехов</td>\n",
       "      <td>vii быть восьмой час вечер из передний крыльцо...</td>\n",
       "      <td>3_None 3_VERB 7_ADJF 3_NOUN 6_NOUN 2_PREP 8_AD...</td>\n",
       "    </tr>\n",
       "    <tr>\n",
       "      <th>13245</th>\n",
       "      <td>Чехов</td>\n",
       "      <td>мы помолчать я мысленно сделать расчёт сказать...</td>\n",
       "      <td>2_NPRO 9_VERB 1_NPRO 8_ADVB 6_VERB 6_NOUN 6_VE...</td>\n",
       "    </tr>\n",
       "    <tr>\n",
       "      <th>13246</th>\n",
       "      <td>Чехов</td>\n",
       "      <td>1891 чехов а.п жена чехов а.п.—м да медиа 2015...</td>\n",
       "      <td>4_None 5_NOUN 3_None 4_NOUN 5_NOUN 6_NOUN 2_PR...</td>\n",
       "    </tr>\n",
       "    <tr>\n",
       "      <th>13247</th>\n",
       "      <td>Чехов</td>\n",
       "      <td>хрронический катар желудок зубрило студент шаг...</td>\n",
       "      <td>12_ADJF 5_NOUN 7_NOUN 6_NOUN 7_NOUN 5_GRND 4_N...</td>\n",
       "    </tr>\n",
       "    <tr>\n",
       "      <th>13248</th>\n",
       "      <td>Чехов</td>\n",
       "      <td>а ухо стучать дыра дыра дыра и слышаться выстр...</td>\n",
       "      <td>1_CONJ 4_NOUN 7_VERB 3_NOUN 3_NOUN 3_NOUN 1_CO...</td>\n",
       "    </tr>\n",
       "  </tbody>\n",
       "</table>\n",
       "<p>13249 rows × 3 columns</p>\n",
       "</div>"
      ],
      "text/plain": [
       "          author                                             lemmas  \\\n",
       "0      Аверченко  мы пять год материал биография как кроваво-кра...   \n",
       "1      Аверченко  сидеть больший письменный стол деревянный доск...   \n",
       "2      Аверченко  да качать голова сдержать ре-ми нехорошо нехор...   \n",
       "3      Аверченко  поверить кто-нибудь мы пять год совместно м.г ...   \n",
       "4      Аверченко  8 аверченко а избранный рассказ м 1985 с 7 9 е...   \n",
       "...          ...                                                ...   \n",
       "13244      Чехов  vii быть восьмой час вечер из передний крыльцо...   \n",
       "13245      Чехов  мы помолчать я мысленно сделать расчёт сказать...   \n",
       "13246      Чехов  1891 чехов а.п жена чехов а.п.—м да медиа 2015...   \n",
       "13247      Чехов  хрронический катар желудок зубрило студент шаг...   \n",
       "13248      Чехов  а ухо стучать дыра дыра дыра и слышаться выстр...   \n",
       "\n",
       "                                                    tags  \n",
       "0      2_NPRO 4_NUMR 3_NOUN 9_NOUN 9_NOUN 3_CONJ 15_A...  \n",
       "1      5_VERB 7_ADJF 10_ADJF 6_NOUN 10_ADJF 6_NOUN 6_...  \n",
       "2      2_PRCL 5_VERB 7_NOUN 10_PRTF 5_None 8_ADVB 8_A...  \n",
       "3      7_VERB 10_NPRO 4_NPRO 4_NUMR 3_NOUN 9_ADVB 3_N...  \n",
       "4      1_None 9_NOUN 1_CONJ 9_ADJF 8_NOUN 1_NOUN 4_No...  \n",
       "...                                                  ...  \n",
       "13244  3_None 3_VERB 7_ADJF 3_NOUN 6_NOUN 2_PREP 8_AD...  \n",
       "13245  2_NPRO 9_VERB 1_NPRO 8_ADVB 6_VERB 6_NOUN 6_VE...  \n",
       "13246  4_None 5_NOUN 3_None 4_NOUN 5_NOUN 6_NOUN 2_PR...  \n",
       "13247  12_ADJF 5_NOUN 7_NOUN 6_NOUN 7_NOUN 5_GRND 4_N...  \n",
       "13248  1_CONJ 4_NOUN 7_VERB 3_NOUN 3_NOUN 3_NOUN 1_CO...  \n",
       "\n",
       "[13249 rows x 3 columns]"
      ]
     },
     "execution_count": 52,
     "metadata": {},
     "output_type": "execute_result"
    }
   ],
   "source": [
    "df_lemmas_and_tags"
   ]
  },
  {
   "cell_type": "code",
   "execution_count": 54,
   "id": "3bf8a578",
   "metadata": {},
   "outputs": [],
   "source": [
    "df_lemmas_and_tags.to_csv('author_lemmas_tags.csv', index=False)"
   ]
  },
  {
   "cell_type": "code",
   "execution_count": 58,
   "id": "18f98b6c",
   "metadata": {},
   "outputs": [],
   "source": [
    "df_tokens = df.copy()\n",
    "\n",
    "df_tokens['tokens'] = [' '.join(word_tokenize(text, language='russian')) for text in df['text']]\n",
    "df_tokens.drop('text', axis=1, inplace=True)"
   ]
  },
  {
   "cell_type": "code",
   "execution_count": 60,
   "id": "0615453d",
   "metadata": {},
   "outputs": [],
   "source": [
    "df_tokens.to_csv('author_tokens.csv', index=False)"
   ]
  },
  {
   "cell_type": "code",
   "execution_count": 62,
   "id": "73673538",
   "metadata": {},
   "outputs": [],
   "source": [
    "aggregated_df = pd.concat([df[['author']]] + [x.iloc[:, 1:] for x in (df, df_no_punkt, df_lemmas_and_tags, df_tokens)], axis=1)"
   ]
  },
  {
   "cell_type": "code",
   "execution_count": 64,
   "id": "7f8fec93",
   "metadata": {},
   "outputs": [],
   "source": [
    "aggregated_df.to_csv('aggregated_df.csv', index=False)"
   ]
  }
 ],
 "metadata": {
  "kernelspec": {
   "display_name": "Python 3 (ipykernel)",
   "language": "python",
   "name": "python3"
  },
  "language_info": {
   "codemirror_mode": {
    "name": "ipython",
    "version": 3
   },
   "file_extension": ".py",
   "mimetype": "text/x-python",
   "name": "python",
   "nbconvert_exporter": "python",
   "pygments_lexer": "ipython3",
   "version": "3.9.7"
  }
 },
 "nbformat": 4,
 "nbformat_minor": 5
}
