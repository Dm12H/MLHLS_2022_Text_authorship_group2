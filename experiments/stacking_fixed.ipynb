{
 "cells": [
  {
   "cell_type": "code",
   "execution_count": 1,
   "id": "142bc2a4",
   "metadata": {},
   "outputs": [
    {
     "name": "stderr",
     "output_type": "stream",
     "text": [
      "[nltk_data] Downloading package stopwords to\n",
      "[nltk_data]     C:\\Users\\annag\\AppData\\Roaming\\nltk_data...\n",
      "[nltk_data]   Package stopwords is already up-to-date!\n"
     ]
    }
   ],
   "source": [
    "from text_authorship.ta_model.stacking import get_stacking\n",
    "from text_authorship.ta_model.data_preparation import get_encoder\n",
    "from text_authorship.ta_model.model_selection import train_test_split\n",
    "from text_authorship.ta_model.data_extraction import load_df\n",
    "import numpy as np\n",
    "import pandas as pd"
   ]
  },
  {
   "cell_type": "code",
   "execution_count": 2,
   "id": "e5248507",
   "metadata": {},
   "outputs": [],
   "source": [
    "df = load_df('transformed_df.csv')"
   ]
  },
  {
   "cell_type": "code",
   "execution_count": 3,
   "id": "49d8a683",
   "metadata": {},
   "outputs": [],
   "source": [
    "X_train, X_test, y_train, y_test = train_test_split(df)"
   ]
  },
  {
   "cell_type": "code",
   "execution_count": 4,
   "id": "b1d6bff7",
   "metadata": {},
   "outputs": [],
   "source": [
    "encoder = get_encoder(X_train)"
   ]
  },
  {
   "cell_type": "code",
   "execution_count": 5,
   "id": "44d63b7c",
   "metadata": {},
   "outputs": [],
   "source": [
    "y_train, y_test = encoder.transform(y_train), encoder.transform(y_test)"
   ]
  },
  {
   "cell_type": "code",
   "execution_count": 6,
   "id": "864c3b6f",
   "metadata": {},
   "outputs": [],
   "source": [
    "model = get_stacking()"
   ]
  },
  {
   "cell_type": "code",
   "execution_count": 7,
   "id": "2347224c",
   "metadata": {},
   "outputs": [
    {
     "data": {
      "text/html": [
       "<style>#sk-container-id-1 {color: black;background-color: white;}#sk-container-id-1 pre{padding: 0;}#sk-container-id-1 div.sk-toggleable {background-color: white;}#sk-container-id-1 label.sk-toggleable__label {cursor: pointer;display: block;width: 100%;margin-bottom: 0;padding: 0.3em;box-sizing: border-box;text-align: center;}#sk-container-id-1 label.sk-toggleable__label-arrow:before {content: \"▸\";float: left;margin-right: 0.25em;color: #696969;}#sk-container-id-1 label.sk-toggleable__label-arrow:hover:before {color: black;}#sk-container-id-1 div.sk-estimator:hover label.sk-toggleable__label-arrow:before {color: black;}#sk-container-id-1 div.sk-toggleable__content {max-height: 0;max-width: 0;overflow: hidden;text-align: left;background-color: #f0f8ff;}#sk-container-id-1 div.sk-toggleable__content pre {margin: 0.2em;color: black;border-radius: 0.25em;background-color: #f0f8ff;}#sk-container-id-1 input.sk-toggleable__control:checked~div.sk-toggleable__content {max-height: 200px;max-width: 100%;overflow: auto;}#sk-container-id-1 input.sk-toggleable__control:checked~label.sk-toggleable__label-arrow:before {content: \"▾\";}#sk-container-id-1 div.sk-estimator input.sk-toggleable__control:checked~label.sk-toggleable__label {background-color: #d4ebff;}#sk-container-id-1 div.sk-label input.sk-toggleable__control:checked~label.sk-toggleable__label {background-color: #d4ebff;}#sk-container-id-1 input.sk-hidden--visually {border: 0;clip: rect(1px 1px 1px 1px);clip: rect(1px, 1px, 1px, 1px);height: 1px;margin: -1px;overflow: hidden;padding: 0;position: absolute;width: 1px;}#sk-container-id-1 div.sk-estimator {font-family: monospace;background-color: #f0f8ff;border: 1px dotted black;border-radius: 0.25em;box-sizing: border-box;margin-bottom: 0.5em;}#sk-container-id-1 div.sk-estimator:hover {background-color: #d4ebff;}#sk-container-id-1 div.sk-parallel-item::after {content: \"\";width: 100%;border-bottom: 1px solid gray;flex-grow: 1;}#sk-container-id-1 div.sk-label:hover label.sk-toggleable__label {background-color: #d4ebff;}#sk-container-id-1 div.sk-serial::before {content: \"\";position: absolute;border-left: 1px solid gray;box-sizing: border-box;top: 0;bottom: 0;left: 50%;z-index: 0;}#sk-container-id-1 div.sk-serial {display: flex;flex-direction: column;align-items: center;background-color: white;padding-right: 0.2em;padding-left: 0.2em;position: relative;}#sk-container-id-1 div.sk-item {position: relative;z-index: 1;}#sk-container-id-1 div.sk-parallel {display: flex;align-items: stretch;justify-content: center;background-color: white;position: relative;}#sk-container-id-1 div.sk-item::before, #sk-container-id-1 div.sk-parallel-item::before {content: \"\";position: absolute;border-left: 1px solid gray;box-sizing: border-box;top: 0;bottom: 0;left: 50%;z-index: -1;}#sk-container-id-1 div.sk-parallel-item {display: flex;flex-direction: column;z-index: 1;position: relative;background-color: white;}#sk-container-id-1 div.sk-parallel-item:first-child::after {align-self: flex-end;width: 50%;}#sk-container-id-1 div.sk-parallel-item:last-child::after {align-self: flex-start;width: 50%;}#sk-container-id-1 div.sk-parallel-item:only-child::after {width: 0;}#sk-container-id-1 div.sk-dashed-wrapped {border: 1px dashed gray;margin: 0 0.4em 0.5em 0.4em;box-sizing: border-box;padding-bottom: 0.4em;background-color: white;}#sk-container-id-1 div.sk-label label {font-family: monospace;font-weight: bold;display: inline-block;line-height: 1.2em;}#sk-container-id-1 div.sk-label-container {text-align: center;}#sk-container-id-1 div.sk-container {/* jupyter's `normalize.less` sets `[hidden] { display: none; }` but bootstrap.min.css set `[hidden] { display: none !important; }` so we also need the `!important` here to be able to override the default hidden behavior on the sphinx rendered scikit-learn.org. See: https://github.com/scikit-learn/scikit-learn/issues/21755 */display: inline-block !important;position: relative;}#sk-container-id-1 div.sk-text-repr-fallback {display: none;}</style><div id=\"sk-container-id-1\" class=\"sk-top-container\"><div class=\"sk-text-repr-fallback\"><pre>TAStack(estimators=[(&#x27;text_no_punkt;lemmas&#x27;,\n",
       "                     Pipeline(steps=[(&#x27;vectorizer&#x27;,\n",
       "                                      &lt;text_authorship.ta_model.stacking.MultiTfidf object at 0x000001D2762F7EE0&gt;),\n",
       "                                     (&#x27;model&#x27;,\n",
       "                                      LogisticRegression(C=1000,\n",
       "                                                         class_weight=&#x27;balanced&#x27;,\n",
       "                                                         max_iter=500))])),\n",
       "                    (&#x27;text_no_punkt;tags&#x27;,\n",
       "                     Pipeline(steps=[(&#x27;vectorizer&#x27;,\n",
       "                                      &lt;text_authorship.ta_model.stacking.MultiTfidf object at 0x000001D2762F7550&gt;)...\n",
       "                                      gamma=None, gpu_id=None, grow_policy=None,\n",
       "                                      importance_type=None,\n",
       "                                      interaction_constraints=None,\n",
       "                                      learning_rate=None, max_bin=None,\n",
       "                                      max_cat_threshold=None,\n",
       "                                      max_cat_to_onehot=None,\n",
       "                                      max_delta_step=None, max_depth=None,\n",
       "                                      max_leaves=None, min_child_weight=None,\n",
       "                                      missing=nan, monotone_constraints=None,\n",
       "                                      n_estimators=100, n_jobs=None,\n",
       "                                      num_parallel_tree=None, predictor=None,\n",
       "                                      random_state=None, ...))</pre><b>In a Jupyter environment, please rerun this cell to show the HTML representation or trust the notebook. <br />On GitHub, the HTML representation is unable to render, please try loading this page with nbviewer.org.</b></div><div class=\"sk-container\" hidden><div class=\"sk-item sk-dashed-wrapped\"><div class=\"sk-label-container\"><div class=\"sk-label sk-toggleable\"><input class=\"sk-toggleable__control sk-hidden--visually\" id=\"sk-estimator-id-1\" type=\"checkbox\" ><label for=\"sk-estimator-id-1\" class=\"sk-toggleable__label sk-toggleable__label-arrow\">TAStack</label><div class=\"sk-toggleable__content\"><pre>TAStack(estimators=[(&#x27;text_no_punkt;lemmas&#x27;,\n",
       "                     Pipeline(steps=[(&#x27;vectorizer&#x27;,\n",
       "                                      &lt;text_authorship.ta_model.stacking.MultiTfidf object at 0x000001D2762F7EE0&gt;),\n",
       "                                     (&#x27;model&#x27;,\n",
       "                                      LogisticRegression(C=1000,\n",
       "                                                         class_weight=&#x27;balanced&#x27;,\n",
       "                                                         max_iter=500))])),\n",
       "                    (&#x27;text_no_punkt;tags&#x27;,\n",
       "                     Pipeline(steps=[(&#x27;vectorizer&#x27;,\n",
       "                                      &lt;text_authorship.ta_model.stacking.MultiTfidf object at 0x000001D2762F7550&gt;)...\n",
       "                                      gamma=None, gpu_id=None, grow_policy=None,\n",
       "                                      importance_type=None,\n",
       "                                      interaction_constraints=None,\n",
       "                                      learning_rate=None, max_bin=None,\n",
       "                                      max_cat_threshold=None,\n",
       "                                      max_cat_to_onehot=None,\n",
       "                                      max_delta_step=None, max_depth=None,\n",
       "                                      max_leaves=None, min_child_weight=None,\n",
       "                                      missing=nan, monotone_constraints=None,\n",
       "                                      n_estimators=100, n_jobs=None,\n",
       "                                      num_parallel_tree=None, predictor=None,\n",
       "                                      random_state=None, ...))</pre></div></div></div><div class=\"sk-parallel\"><div class=\"sk-parallel-item\"><div class=\"sk-item\"><div class=\"sk-label-container\"><div class=\"sk-label sk-toggleable\"><input class=\"sk-toggleable__control sk-hidden--visually\" id=\"sk-estimator-id-2\" type=\"checkbox\" ><label for=\"sk-estimator-id-2\" class=\"sk-toggleable__label sk-toggleable__label-arrow\">final_estimator: XGBClassifier</label><div class=\"sk-toggleable__content\"><pre>XGBClassifier(base_score=None, booster=None, callbacks=None,\n",
       "              colsample_bylevel=None, colsample_bynode=None,\n",
       "              colsample_bytree=None, early_stopping_rounds=None,\n",
       "              enable_categorical=False, eval_metric=None, feature_types=None,\n",
       "              gamma=None, gpu_id=None, grow_policy=None, importance_type=None,\n",
       "              interaction_constraints=None, learning_rate=None, max_bin=None,\n",
       "              max_cat_threshold=None, max_cat_to_onehot=None,\n",
       "              max_delta_step=None, max_depth=None, max_leaves=None,\n",
       "              min_child_weight=None, missing=nan, monotone_constraints=None,\n",
       "              n_estimators=100, n_jobs=None, num_parallel_tree=None,\n",
       "              predictor=None, random_state=None, ...)</pre></div></div></div><div class=\"sk-serial\"><div class=\"sk-item\"><div class=\"sk-estimator sk-toggleable\"><input class=\"sk-toggleable__control sk-hidden--visually\" id=\"sk-estimator-id-3\" type=\"checkbox\" ><label for=\"sk-estimator-id-3\" class=\"sk-toggleable__label sk-toggleable__label-arrow\">XGBClassifier</label><div class=\"sk-toggleable__content\"><pre>XGBClassifier(base_score=None, booster=None, callbacks=None,\n",
       "              colsample_bylevel=None, colsample_bynode=None,\n",
       "              colsample_bytree=None, early_stopping_rounds=None,\n",
       "              enable_categorical=False, eval_metric=None, feature_types=None,\n",
       "              gamma=None, gpu_id=None, grow_policy=None, importance_type=None,\n",
       "              interaction_constraints=None, learning_rate=None, max_bin=None,\n",
       "              max_cat_threshold=None, max_cat_to_onehot=None,\n",
       "              max_delta_step=None, max_depth=None, max_leaves=None,\n",
       "              min_child_weight=None, missing=nan, monotone_constraints=None,\n",
       "              n_estimators=100, n_jobs=None, num_parallel_tree=None,\n",
       "              predictor=None, random_state=None, ...)</pre></div></div></div></div></div></div></div></div></div></div>"
      ],
      "text/plain": [
       "TAStack(estimators=[('text_no_punkt;lemmas',\n",
       "                     Pipeline(steps=[('vectorizer',\n",
       "                                      <text_authorship.ta_model.stacking.MultiTfidf object at 0x000001D2762F7EE0>),\n",
       "                                     ('model',\n",
       "                                      LogisticRegression(C=1000,\n",
       "                                                         class_weight='balanced',\n",
       "                                                         max_iter=500))])),\n",
       "                    ('text_no_punkt;tags',\n",
       "                     Pipeline(steps=[('vectorizer',\n",
       "                                      <text_authorship.ta_model.stacking.MultiTfidf object at 0x000001D2762F7550>)...\n",
       "                                      gamma=None, gpu_id=None, grow_policy=None,\n",
       "                                      importance_type=None,\n",
       "                                      interaction_constraints=None,\n",
       "                                      learning_rate=None, max_bin=None,\n",
       "                                      max_cat_threshold=None,\n",
       "                                      max_cat_to_onehot=None,\n",
       "                                      max_delta_step=None, max_depth=None,\n",
       "                                      max_leaves=None, min_child_weight=None,\n",
       "                                      missing=nan, monotone_constraints=None,\n",
       "                                      n_estimators=100, n_jobs=None,\n",
       "                                      num_parallel_tree=None, predictor=None,\n",
       "                                      random_state=None, ...))"
      ]
     },
     "execution_count": 7,
     "metadata": {},
     "output_type": "execute_result"
    }
   ],
   "source": [
    "model.fit(X_train, y_train)"
   ]
  },
  {
   "cell_type": "code",
   "execution_count": 8,
   "id": "f0618509",
   "metadata": {},
   "outputs": [],
   "source": [
    "from sklearn.metrics import f1_score"
   ]
  },
  {
   "cell_type": "code",
   "execution_count": 9,
   "id": "088f4e0d",
   "metadata": {},
   "outputs": [],
   "source": [
    "y_pred = model.predict(X_test)"
   ]
  },
  {
   "cell_type": "code",
   "execution_count": 11,
   "id": "9a0491a0",
   "metadata": {},
   "outputs": [
    {
     "data": {
      "text/plain": [
       "0.7461513540313977"
      ]
     },
     "execution_count": 11,
     "metadata": {},
     "output_type": "execute_result"
    }
   ],
   "source": [
    "f1_score(y_test, y_pred, average='macro')"
   ]
  },
  {
   "cell_type": "code",
   "execution_count": 12,
   "id": "d7e7f70f",
   "metadata": {},
   "outputs": [
    {
     "data": {
      "text/plain": [
       "Достоевский        2208\n",
       "Толстой             981\n",
       "Булгаков            767\n",
       "Аверченко           740\n",
       "Салтыков-Щедрин     707\n",
       "Куприн              692\n",
       "Бунин               679\n",
       "Мордовцев           475\n",
       "Горький             420\n",
       "Пушкин              306\n",
       "Гоголь              265\n",
       "Тургенев            168\n",
       "Чехов               155\n",
       "Лермонтов            84\n",
       "Карамзин             26\n",
       "Name: author, dtype: int64"
      ]
     },
     "execution_count": 12,
     "metadata": {},
     "output_type": "execute_result"
    }
   ],
   "source": [
    "X_train['author'].value_counts()"
   ]
  },
  {
   "cell_type": "code",
   "execution_count": 13,
   "id": "3c71664f",
   "metadata": {},
   "outputs": [
    {
     "data": {
      "text/plain": [
       "Достоевский        1871\n",
       "Горький            1362\n",
       "Толстой            1287\n",
       "Булгаков            915\n",
       "Аверченко           820\n",
       "Куприн              775\n",
       "Бунин               751\n",
       "Салтыков-Щедрин     747\n",
       "Пушкин              306\n",
       "Мордовцев           300\n",
       "Гоголь              251\n",
       "Тургенев            184\n",
       "Чехов               144\n",
       "Лермонтов            86\n",
       "Карамзин             19\n",
       "Name: author, dtype: int64"
      ]
     },
     "execution_count": 13,
     "metadata": {},
     "output_type": "execute_result"
    }
   ],
   "source": [
    "X_test['author'].value_counts()"
   ]
  },
  {
   "cell_type": "code",
   "execution_count": null,
   "id": "a100534a",
   "metadata": {},
   "outputs": [],
   "source": [
    "model.get"
   ]
  }
 ],
 "metadata": {
  "kernelspec": {
   "display_name": "Python 3 (ipykernel)",
   "language": "python",
   "name": "python3"
  },
  "language_info": {
   "codemirror_mode": {
    "name": "ipython",
    "version": 3
   },
   "file_extension": ".py",
   "mimetype": "text/x-python",
   "name": "python",
   "nbconvert_exporter": "python",
   "pygments_lexer": "ipython3",
   "version": "3.9.7"
  }
 },
 "nbformat": 4,
 "nbformat_minor": 5
}
