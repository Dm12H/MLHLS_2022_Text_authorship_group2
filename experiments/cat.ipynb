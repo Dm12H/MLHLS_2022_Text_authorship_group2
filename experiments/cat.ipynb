{
 "cells": [
  {
   "cell_type": "code",
   "execution_count": 11,
   "id": "1d81b062",
   "metadata": {
    "id": "1d81b062"
   },
   "outputs": [],
   "source": [
    "import pandas as pd\n",
    "import numpy as np\n",
    "import scipy as sp\n",
    "import nltk\n",
    "\n",
    "from text_authorship.ta_model import load_df, train_test_split\n",
    "from text_authorship.ta_model.data_preparation import get_encoder"
   ]
  },
  {
   "cell_type": "code",
   "execution_count": 29,
   "id": "f3eeded4",
   "metadata": {
    "id": "f3eeded4",
    "scrolled": true
   },
   "outputs": [
    {
     "name": "stdout",
     "output_type": "stream",
     "text": [
      "/home/dm12h/authorship/temp/transformed_df.csv\n"
     ]
    }
   ],
   "source": [
    "df = load_df(input())"
   ]
  },
  {
   "cell_type": "code",
   "execution_count": 30,
   "id": "29aef5d5",
   "metadata": {
    "colab": {
     "base_uri": "https://localhost:8080/",
     "height": 913
    },
    "id": "29aef5d5",
    "outputId": "0d05cab9-6745-42c5-a46a-ce0c9db948ba",
    "scrolled": true
   },
   "outputs": [
    {
     "data": {
      "text/html": [
       "<div>\n",
       "<style scoped>\n",
       "    .dataframe tbody tr th:only-of-type {\n",
       "        vertical-align: middle;\n",
       "    }\n",
       "\n",
       "    .dataframe tbody tr th {\n",
       "        vertical-align: top;\n",
       "    }\n",
       "\n",
       "    .dataframe thead th {\n",
       "        text-align: right;\n",
       "    }\n",
       "</style>\n",
       "<table border=\"1\" class=\"dataframe\">\n",
       "  <thead>\n",
       "    <tr style=\"text-align: right;\">\n",
       "      <th></th>\n",
       "      <th>author</th>\n",
       "      <th>book</th>\n",
       "      <th>text</th>\n",
       "      <th>text_no_punkt</th>\n",
       "      <th>lemmas</th>\n",
       "      <th>tags</th>\n",
       "      <th>tokens</th>\n",
       "      <th>counts</th>\n",
       "      <th>probs</th>\n",
       "      <th>word_avg_length</th>\n",
       "      <th>words_per_sentence</th>\n",
       "      <th>exclamation_density</th>\n",
       "      <th>question_density</th>\n",
       "      <th>comma_density</th>\n",
       "      <th>dialogue_density</th>\n",
       "    </tr>\n",
       "  </thead>\n",
       "  <tbody>\n",
       "    <tr>\n",
       "      <th>0</th>\n",
       "      <td>Аверченко</td>\n",
       "      <td>Averchenko_A-T-Averchenko-Sobranie-sochineniy-...</td>\n",
       "      <td>аркадий тимофеевич аверченко\\nсобрание сочинен...</td>\n",
       "      <td>deleted deleted deleted собрание сочинений в ш...</td>\n",
       "      <td>deleted deleted deleted собрание сочинение шес...</td>\n",
       "      <td>deleted deleted deleted 8_NOUN 9_NOUN 5_NUMR 1...</td>\n",
       "      <td>deleted deleted deleted собрание сочинений в ш...</td>\n",
       "      <td>242</td>\n",
       "      <td>0.000043</td>\n",
       "      <td>4.617747</td>\n",
       "      <td>3.141199</td>\n",
       "      <td>0.052632</td>\n",
       "      <td>0.000000</td>\n",
       "      <td>0.000000</td>\n",
       "      <td>0.000000</td>\n",
       "    </tr>\n",
       "    <tr>\n",
       "      <th>1</th>\n",
       "      <td>Аверченко</td>\n",
       "      <td>Averchenko_A-T-Averchenko-Sobranie-sochineniy-...</td>\n",
       "      <td>стремясь вырваться из этой беспросветности, он...</td>\n",
       "      <td>стремясь вырваться из этой беспросветности он ...</td>\n",
       "      <td>стремиться вырваться беспросветность обращатьс...</td>\n",
       "      <td>8_GRND 9_INFN 15_NOUN 10_VERB 13_ADJF 5_NOUN d...</td>\n",
       "      <td>стремясь вырваться из этой беспросветности , о...</td>\n",
       "      <td>242</td>\n",
       "      <td>0.000043</td>\n",
       "      <td>4.468048</td>\n",
       "      <td>2.805954</td>\n",
       "      <td>0.028571</td>\n",
       "      <td>0.000000</td>\n",
       "      <td>0.000000</td>\n",
       "      <td>0.142857</td>\n",
       "    </tr>\n",
       "    <tr>\n",
       "      <th>2</th>\n",
       "      <td>Аверченко</td>\n",
       "      <td>Averchenko_A-T-Averchenko-Sobranie-sochineniy-...</td>\n",
       "      <td>— разрешите сесть или продолжать мне стоя? — ш...</td>\n",
       "      <td>разрешите сесть или продолжать мне стоя шутлив...</td>\n",
       "      <td>разрешить сесть продолжать стоя шутливо спроси...</td>\n",
       "      <td>9_VERB 5_INFN 10_INFN 4_ADVB 7_ADVB 7_VERB del...</td>\n",
       "      <td>— разрешите сесть или продолжать мне стоя ? — ...</td>\n",
       "      <td>242</td>\n",
       "      <td>0.000043</td>\n",
       "      <td>4.405085</td>\n",
       "      <td>2.508922</td>\n",
       "      <td>0.020833</td>\n",
       "      <td>0.020833</td>\n",
       "      <td>0.020833</td>\n",
       "      <td>0.166667</td>\n",
       "    </tr>\n",
       "    <tr>\n",
       "      <th>3</th>\n",
       "      <td>Аверченко</td>\n",
       "      <td>Averchenko_A-T-Averchenko-Sobranie-sochineniy-...</td>\n",
       "      <td>а в последнем номере не пропущена даже карикат...</td>\n",
       "      <td>а в последнем номере не пропущена даже карикат...</td>\n",
       "      <td>последний номер пропустить карикатура осмеиват...</td>\n",
       "      <td>9_ADJF 6_NOUN 9_PRTS 10_NOUN 11_PRTF 5_ADJF 5_...</td>\n",
       "      <td>а в последнем номере не пропущена даже карикат...</td>\n",
       "      <td>242</td>\n",
       "      <td>0.000043</td>\n",
       "      <td>4.867958</td>\n",
       "      <td>3.206627</td>\n",
       "      <td>0.000000</td>\n",
       "      <td>0.000000</td>\n",
       "      <td>0.000000</td>\n",
       "      <td>0.043478</td>\n",
       "    </tr>\n",
       "    <tr>\n",
       "      <th>4</th>\n",
       "      <td>Аверченко</td>\n",
       "      <td>Averchenko_A-T-Averchenko-Sobranie-sochineniy-...</td>\n",
       "      <td>помимо постоянных авторов «сатирикона» и «ново...</td>\n",
       "      <td>помимо постоянных авторов сатирикона и нового ...</td>\n",
       "      <td>помимо постоянный автор сатирикона новый сатир...</td>\n",
       "      <td>6_PREP 10_ADJF 7_NOUN 10_NOUN 6_ADJF 10_NOUN d...</td>\n",
       "      <td>помимо постоянных авторов « сатирикона » и « н...</td>\n",
       "      <td>242</td>\n",
       "      <td>0.000043</td>\n",
       "      <td>4.693370</td>\n",
       "      <td>2.947205</td>\n",
       "      <td>0.026316</td>\n",
       "      <td>0.052632</td>\n",
       "      <td>0.052632</td>\n",
       "      <td>0.105263</td>\n",
       "    </tr>\n",
       "  </tbody>\n",
       "</table>\n",
       "</div>"
      ],
      "text/plain": [
       "      author  ... dialogue_density\n",
       "0  Аверченко  ...         0.000000\n",
       "1  Аверченко  ...         0.142857\n",
       "2  Аверченко  ...         0.166667\n",
       "3  Аверченко  ...         0.043478\n",
       "4  Аверченко  ...         0.105263\n",
       "\n",
       "[5 rows x 15 columns]"
      ]
     },
     "execution_count": 30,
     "metadata": {},
     "output_type": "execute_result"
    }
   ],
   "source": [
    "df.head()"
   ]
  },
  {
   "cell_type": "markdown",
   "id": "ebdb1143",
   "metadata": {
    "id": "ebdb1143"
   },
   "source": [
    "## CATBOOST"
   ]
  },
  {
   "cell_type": "code",
   "execution_count": 4,
   "id": "37e26d19",
   "metadata": {
    "id": "37e26d19"
   },
   "outputs": [],
   "source": [
    "from catboost import Pool, CatBoostClassifier"
   ]
  },
  {
   "cell_type": "markdown",
   "id": "fa3a4239",
   "metadata": {},
   "source": [
    "Попробуем на всем  необработанном тексте, но уменьшим количество итераций и увеличим шаг для градиентного спуска"
   ]
  },
  {
   "cell_type": "code",
   "execution_count": 32,
   "id": "0fe6b72a",
   "metadata": {},
   "outputs": [],
   "source": [
    "scalar_features = [\"word_avg_length\", \"words_per_sentence\",\n",
    "                   \"exclamation_density\", \"question_density\",\n",
    "                   \"comma_density\", \"dialogue_density\"]"
   ]
  },
  {
   "cell_type": "code",
   "execution_count": 33,
   "id": "b7c370ca",
   "metadata": {
    "id": "b7c370ca"
   },
   "outputs": [],
   "source": [
    "df_train, df_test, y_train, y_test = train_test_split(df, share=0.5)\n",
    "encoder = get_encoder(df)\n",
    "\n",
    "df_train = df_train[scalar_features + [\"tokens\", \"lemmas\", \"tags\"]]\n",
    "df_test = df_test[scalar_features + [\"tokens\", \"lemmas\", \"tags\"]]\n",
    "\n",
    "y_train = encoder.transform(y_train)\n",
    "y_test = encoder.transform(y_test)"
   ]
  },
  {
   "cell_type": "code",
   "execution_count": 36,
   "id": "d136590f",
   "metadata": {
    "id": "d136590f"
   },
   "outputs": [],
   "source": [
    "train_pool = Pool(\n",
    "    df_train, \n",
    "    y_train, \n",
    "    text_features=[\"tokens\", \"lemmas\", \"tags\"],\n",
    "    \n",
    "   \n",
    ")\n",
    "valid_pool = Pool(\n",
    "    df_test, \n",
    "    y_test,\n",
    "    text_features=[\"tokens\", \"lemmas\", \"tags\"], \n",
    "   \n",
    ")\n",
    "\n",
    "catboost_params = {\n",
    "    'l2_leaf_reg': 10,\n",
    "    'depth': 4,\n",
    "    'iterations': 300,\n",
    "    'learning_rate': 0.01,\n",
    "    'eval_metric': 'Accuracy',\n",
    "    'task_type': 'CPU',\n",
    "    'early_stopping_rounds': 2000,\n",
    "    'use_best_model': True,\n",
    "    'verbose': 100\n",
    "}\n",
    "model = CatBoostClassifier(**catboost_params)"
   ]
  },
  {
   "cell_type": "code",
   "execution_count": null,
   "id": "3709be9c",
   "metadata": {
    "colab": {
     "base_uri": "https://localhost:8080/"
    },
    "id": "3709be9c",
    "outputId": "6d2b0682-689f-42d1-9018-9c794873f097"
   },
   "outputs": [
    {
     "name": "stdout",
     "output_type": "stream",
     "text": [
      "0:\tlearn: 0.6029056\ttest: 0.1640864\tbest: 0.1640864 (0)\ttotal: 368ms\tremaining: 1m 50s\n",
      "100:\tlearn: 0.8833160\ttest: 0.1904665\tbest: 0.3485435 (4)\ttotal: 43s\tremaining: 1m 24s\n"
     ]
    }
   ],
   "source": [
    "model.fit(train_pool, eval_set=valid_pool)"
   ]
  }
 ],
 "metadata": {
  "accelerator": "GPU",
  "colab": {
   "provenance": []
  },
  "gpuClass": "standard",
  "kernelspec": {
   "display_name": "Python 3 (ipykernel)",
   "language": "python",
   "name": "python3"
  },
  "language_info": {
   "codemirror_mode": {
    "name": "ipython",
    "version": 3
   },
   "file_extension": ".py",
   "mimetype": "text/x-python",
   "name": "python",
   "nbconvert_exporter": "python",
   "pygments_lexer": "ipython3",
   "version": "3.7.15"
  }
 },
 "nbformat": 4,
 "nbformat_minor": 5
}
