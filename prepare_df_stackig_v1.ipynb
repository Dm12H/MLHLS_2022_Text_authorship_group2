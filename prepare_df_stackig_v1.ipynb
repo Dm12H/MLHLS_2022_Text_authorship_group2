{
 "cells": [
  {
   "cell_type": "code",
   "execution_count": 1,
   "id": "3f5a0a05",
   "metadata": {},
   "outputs": [
    {
     "name": "stderr",
     "output_type": "stream",
     "text": [
      "[nltk_data] Downloading package stopwords to\n",
      "[nltk_data]     C:\\Users\\annag\\AppData\\Roaming\\nltk_data...\n",
      "[nltk_data]   Package stopwords is already up-to-date!\n"
     ]
    }
   ],
   "source": [
    "import pandas as pd\n",
    "from text_authorship.ta_model.data_extraction import extract_df\n",
    "from text_authorship.ta_model.data_preparation import TATransformer"
   ]
  },
  {
   "cell_type": "code",
   "execution_count": 2,
   "id": "79863be7",
   "metadata": {},
   "outputs": [
    {
     "name": "stdout",
     "output_type": "stream",
     "text": [
      "C:\\Users\\annag\\Documents\\MLDS_writers\n"
     ]
    }
   ],
   "source": [
    "writers_dir = input()"
   ]
  },
  {
   "cell_type": "code",
   "execution_count": 3,
   "id": "ecb215d4",
   "metadata": {},
   "outputs": [],
   "source": [
    "df = extract_df(writers_dir)"
   ]
  },
  {
   "cell_type": "code",
   "execution_count": 4,
   "id": "057c52c7",
   "metadata": {},
   "outputs": [
    {
     "data": {
      "text/plain": [
       "Достоевский        4079\n",
       "Толстой            2268\n",
       "Горький            1782\n",
       "Булгаков           1682\n",
       "Аверченко          1560\n",
       "Куприн             1467\n",
       "Салтыков-Щедрин    1454\n",
       "Бунин              1430\n",
       "Мордовцев           775\n",
       "Пушкин              612\n",
       "Гоголь              516\n",
       "Тургенев            352\n",
       "Чехов               299\n",
       "Лермонтов           170\n",
       "Карамзин             45\n",
       "Name: author, dtype: int64"
      ]
     },
     "execution_count": 4,
     "metadata": {},
     "output_type": "execute_result"
    }
   ],
   "source": [
    "df['author'].value_counts()"
   ]
  },
  {
   "cell_type": "code",
   "execution_count": 5,
   "id": "53c114f4",
   "metadata": {},
   "outputs": [],
   "source": [
    "transformer = TATransformer().fit(df)"
   ]
  },
  {
   "cell_type": "code",
   "execution_count": 6,
   "id": "dae46a12",
   "metadata": {},
   "outputs": [],
   "source": [
    "df = transformer.transform(df)"
   ]
  }
 ],
 "metadata": {
  "kernelspec": {
   "display_name": "Python 3 (ipykernel)",
   "language": "python",
   "name": "python3"
  },
  "language_info": {
   "codemirror_mode": {
    "name": "ipython",
    "version": 3
   },
   "file_extension": ".py",
   "mimetype": "text/x-python",
   "name": "python",
   "nbconvert_exporter": "python",
   "pygments_lexer": "ipython3",
   "version": "3.9.7"
  }
 },
 "nbformat": 4,
 "nbformat_minor": 5
}
