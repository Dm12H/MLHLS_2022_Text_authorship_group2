{
 "cells": [
  {
   "cell_type": "code",
   "execution_count": 1,
   "id": "1d81b062",
   "metadata": {
    "id": "1d81b062"
   },
   "outputs": [],
   "source": [
    "import pandas as pd\n",
    "import numpy as np\n",
    "import scipy as sp\n",
    "from sklearn.feature_extraction.text import TfidfVectorizer\n",
    "from sklearn.model_selection import train_test_split\n",
    "from sklearn.preprocessing import LabelEncoder\n",
    "from sklearn.linear_model import LogisticRegression\n",
    "from sklearn.metrics import f1_score"
   ]
  },
  {
   "cell_type": "code",
   "execution_count": 4,
   "id": "JqZ1ERBxNhWv",
   "metadata": {
    "colab": {
     "base_uri": "https://localhost:8080/"
    },
    "id": "JqZ1ERBxNhWv",
    "outputId": "fefc2087-92a3-473d-c6ed-bd594f5b65ba"
   },
   "outputs": [
    {
     "name": "stdout",
     "output_type": "stream",
     "text": [
      "Drive already mounted at /content/drive; to attempt to forcibly remount, call drive.mount(\"/content/drive\", force_remount=True).\n"
     ]
    }
   ],
   "source": [
    "from google.colab import drive\n",
    "drive.mount('/content/drive')"
   ]
  },
  {
   "cell_type": "code",
   "execution_count": 5,
   "id": "125ac726",
   "metadata": {
    "id": "125ac726"
   },
   "outputs": [],
   "source": [
    "DFRAME_PATH=\"/content/drive/MyDrive/Colab Notebooks/aggregated_df.csv\""
   ]
  },
  {
   "cell_type": "code",
   "execution_count": 6,
   "id": "f3eeded4",
   "metadata": {
    "id": "f3eeded4",
    "scrolled": true
   },
   "outputs": [],
   "source": [
    "df = pd.read_csv(DFRAME_PATH)"
   ]
  },
  {
   "cell_type": "code",
   "execution_count": 7,
   "id": "29aef5d5",
   "metadata": {
    "colab": {
     "base_uri": "https://localhost:8080/",
     "height": 913
    },
    "id": "29aef5d5",
    "outputId": "dff31ebe-61fd-4d4a-8c83-c89c331e5fdc",
    "scrolled": true
   },
   "outputs": [
    {
     "data": {
      "text/html": [
       "\n",
       "  <div id=\"df-d980ce39-df2b-47a8-9667-1bd933d9e947\">\n",
       "    <div class=\"colab-df-container\">\n",
       "      <div>\n",
       "<style scoped>\n",
       "    .dataframe tbody tr th:only-of-type {\n",
       "        vertical-align: middle;\n",
       "    }\n",
       "\n",
       "    .dataframe tbody tr th {\n",
       "        vertical-align: top;\n",
       "    }\n",
       "\n",
       "    .dataframe thead th {\n",
       "        text-align: right;\n",
       "    }\n",
       "</style>\n",
       "<table border=\"1\" class=\"dataframe\">\n",
       "  <thead>\n",
       "    <tr style=\"text-align: right;\">\n",
       "      <th></th>\n",
       "      <th>author</th>\n",
       "      <th>book</th>\n",
       "      <th>text</th>\n",
       "      <th>text_no_punkt</th>\n",
       "      <th>lemmas</th>\n",
       "      <th>tags</th>\n",
       "      <th>tokens</th>\n",
       "    </tr>\n",
       "  </thead>\n",
       "  <tbody>\n",
       "    <tr>\n",
       "      <th>0</th>\n",
       "      <td>Аверченко</td>\n",
       "      <td>Averchenko_A-T-Averchenko-Sobranie-sochineniy-...</td>\n",
       "      <td>Мы за пять лет. Материалы [к биографии]\\nКак б...</td>\n",
       "      <td>Мы за пять лет Материалы к биографии Как будто...</td>\n",
       "      <td>пять год материал биография кроваво-красный ра...</td>\n",
       "      <td>4_NUMR 3_NOUN 9_NOUN 9_NOUN 15_ADJF 6_NOUN 8_V...</td>\n",
       "      <td>Мы за пять лет . Материалы [ к биографии ] Как...</td>\n",
       "    </tr>\n",
       "    <tr>\n",
       "      <th>1</th>\n",
       "      <td>Аверченко</td>\n",
       "      <td>Averchenko_A-T-Averchenko-Sobranie-sochineniy-...</td>\n",
       "      <td>Сидел он за большим письменным столом перед де...</td>\n",
       "      <td>Сидел он за большим письменным столом перед де...</td>\n",
       "      <td>сидеть больший письменный стол деревянный доск...</td>\n",
       "      <td>5_VERB 7_ADJF 10_ADJF 6_NOUN 10_ADJF 6_NOUN 6_...</td>\n",
       "      <td>Сидел он за большим письменным столом перед де...</td>\n",
       "    </tr>\n",
       "    <tr>\n",
       "      <th>2</th>\n",
       "      <td>Аверченко</td>\n",
       "      <td>Averchenko_A-T-Averchenko-Sobranie-sochineniy-...</td>\n",
       "      <td>— Да уж, — качал головой сдержанный Ре-ми. — Н...</td>\n",
       "      <td>Да уж качал головой сдержанный Ре-ми Нехорошо ...</td>\n",
       "      <td>качать голова сдержать ре-ми нехорошо нехорошо...</td>\n",
       "      <td>5_VERB 7_NOUN 10_PRTF 5_None 8_ADVB 8_ADVB 4_A...</td>\n",
       "      <td>— Да уж , — качал головой сдержанный Ре-ми . —...</td>\n",
       "    </tr>\n",
       "    <tr>\n",
       "      <th>3</th>\n",
       "      <td>Аверченко</td>\n",
       "      <td>Averchenko_A-T-Averchenko-Sobranie-sochineniy-...</td>\n",
       "      <td>Поверит ли кто-нибудь, что нами за эти пять ле...</td>\n",
       "      <td>Поверит ли кто-нибудь что нами за эти пять лет...</td>\n",
       "      <td>поверить кто-нибудь пять год совместно м.г кор...</td>\n",
       "      <td>7_VERB 10_NPRO 4_NUMR 3_NOUN 9_ADVB 3_None 11_...</td>\n",
       "      <td>Поверит ли кто-нибудь , что нами за эти пять л...</td>\n",
       "    </tr>\n",
       "    <tr>\n",
       "      <th>4</th>\n",
       "      <td>Аверченко</td>\n",
       "      <td>Averchenko_A-T-Averchenko-Sobranie-sochineniy-...</td>\n",
       "      <td>8\\nАверченко А. Избранные рассказы. М., 1985. ...</td>\n",
       "      <td>8 Аверченко А Избранные рассказы М 1985 С 7 9 ...</td>\n",
       "      <td>8 избранный рассказ м 1985 7 9 ежегодник 156 1...</td>\n",
       "      <td>1_None 9_ADJF 8_NOUN 1_NOUN 4_None 1_None 1_No...</td>\n",
       "      <td>8 Аверченко А. Избранные рассказы . М. , 1985 ...</td>\n",
       "    </tr>\n",
       "    <tr>\n",
       "      <th>5</th>\n",
       "      <td>Аверченко</td>\n",
       "      <td>Averchenko_A-T-Averchenko-Sobranie-sochineniy-...</td>\n",
       "      <td>— Помилуйте, такой праздник… Нужно, обязательн...</td>\n",
       "      <td>Помилуйте такой праздник Нужно обязательно поц...</td>\n",
       "      <td>помиловать праздник нужно обязательно поцелова...</td>\n",
       "      <td>9_VERB 8_NOUN 5_PRED 11_ADVB 12_INFN 7_NOUN 10...</td>\n",
       "      <td>— Помилуйте , такой праздник… Нужно , обязател...</td>\n",
       "    </tr>\n",
       "    <tr>\n",
       "      <th>6</th>\n",
       "      <td>Аверченко</td>\n",
       "      <td>Averchenko_A-T-Averchenko-Sobranie-sochineniy-...</td>\n",
       "      <td>— Разбудить его в половине шестнадцатого.\\n* *...</td>\n",
       "      <td>Разбудить его в половине шестнадцатого Закончи...</td>\n",
       "      <td>разбудить половина шестнадцатый закончить всё ...</td>\n",
       "      <td>9_INFN 8_NOUN 13_ADJF 8_GRND 3_PRCL 6_NOUN 7_N...</td>\n",
       "      <td>— Разбудить его в половине шестнадцатого . * *...</td>\n",
       "    </tr>\n",
       "    <tr>\n",
       "      <th>7</th>\n",
       "      <td>Аверченко</td>\n",
       "      <td>Averchenko_A-T-Averchenko-Sobranie-sochineniy-...</td>\n",
       "      <td>Он встал, оделся, побрился и вышел на улицу.\\n...</td>\n",
       "      <td>Он встал оделся побрился и вышел на улицу На у...</td>\n",
       "      <td>встать одеться побриться выйти улица улица сто...</td>\n",
       "      <td>5_VERB 6_VERB 8_VERB 5_VERB 5_NOUN 5_NOUN 11_V...</td>\n",
       "      <td>Он встал , оделся , побрился и вышел на улицу ...</td>\n",
       "    </tr>\n",
       "    <tr>\n",
       "      <th>8</th>\n",
       "      <td>Аверченко</td>\n",
       "      <td>Averchenko_A-T-Averchenko-Sobranie-sochineniy-...</td>\n",
       "      <td>Мозаика\\nI\\n— Я несчастный человек — вот что!\\...</td>\n",
       "      <td>Мозаика I Я несчастный человек вот что Что за ...</td>\n",
       "      <td>мозаика i несчастный человек вздор поверить ув...</td>\n",
       "      <td>7_NOUN 1_None 10_ADJF 7_NOUN 5_NOUN 6_VERB 6_V...</td>\n",
       "      <td>Мозаика I — Я несчастный человек — вот что ! —...</td>\n",
       "    </tr>\n",
       "    <tr>\n",
       "      <th>9</th>\n",
       "      <td>Аверченко</td>\n",
       "      <td>Averchenko_A-T-Averchenko-Sobranie-sochineniy-...</td>\n",
       "      <td>— Как записываешь?\\n— В записной книжке. Хочеш...</td>\n",
       "      <td>Как записываешь В записной книжке Хочешь У мен...</td>\n",
       "      <td>записывать записной книжка хотеть минута откро...</td>\n",
       "      <td>11_VERB 8_ADJF 6_NOUN 6_VERB 6_NOUN 13_NOUN 6_...</td>\n",
       "      <td>— Как записываешь ? — В записной книжке . Хоче...</td>\n",
       "    </tr>\n",
       "  </tbody>\n",
       "</table>\n",
       "</div>\n",
       "      <button class=\"colab-df-convert\" onclick=\"convertToInteractive('df-d980ce39-df2b-47a8-9667-1bd933d9e947')\"\n",
       "              title=\"Convert this dataframe to an interactive table.\"\n",
       "              style=\"display:none;\">\n",
       "        \n",
       "  <svg xmlns=\"http://www.w3.org/2000/svg\" height=\"24px\"viewBox=\"0 0 24 24\"\n",
       "       width=\"24px\">\n",
       "    <path d=\"M0 0h24v24H0V0z\" fill=\"none\"/>\n",
       "    <path d=\"M18.56 5.44l.94 2.06.94-2.06 2.06-.94-2.06-.94-.94-2.06-.94 2.06-2.06.94zm-11 1L8.5 8.5l.94-2.06 2.06-.94-2.06-.94L8.5 2.5l-.94 2.06-2.06.94zm10 10l.94 2.06.94-2.06 2.06-.94-2.06-.94-.94-2.06-.94 2.06-2.06.94z\"/><path d=\"M17.41 7.96l-1.37-1.37c-.4-.4-.92-.59-1.43-.59-.52 0-1.04.2-1.43.59L10.3 9.45l-7.72 7.72c-.78.78-.78 2.05 0 2.83L4 21.41c.39.39.9.59 1.41.59.51 0 1.02-.2 1.41-.59l7.78-7.78 2.81-2.81c.8-.78.8-2.07 0-2.86zM5.41 20L4 18.59l7.72-7.72 1.47 1.35L5.41 20z\"/>\n",
       "  </svg>\n",
       "      </button>\n",
       "      \n",
       "  <style>\n",
       "    .colab-df-container {\n",
       "      display:flex;\n",
       "      flex-wrap:wrap;\n",
       "      gap: 12px;\n",
       "    }\n",
       "\n",
       "    .colab-df-convert {\n",
       "      background-color: #E8F0FE;\n",
       "      border: none;\n",
       "      border-radius: 50%;\n",
       "      cursor: pointer;\n",
       "      display: none;\n",
       "      fill: #1967D2;\n",
       "      height: 32px;\n",
       "      padding: 0 0 0 0;\n",
       "      width: 32px;\n",
       "    }\n",
       "\n",
       "    .colab-df-convert:hover {\n",
       "      background-color: #E2EBFA;\n",
       "      box-shadow: 0px 1px 2px rgba(60, 64, 67, 0.3), 0px 1px 3px 1px rgba(60, 64, 67, 0.15);\n",
       "      fill: #174EA6;\n",
       "    }\n",
       "\n",
       "    [theme=dark] .colab-df-convert {\n",
       "      background-color: #3B4455;\n",
       "      fill: #D2E3FC;\n",
       "    }\n",
       "\n",
       "    [theme=dark] .colab-df-convert:hover {\n",
       "      background-color: #434B5C;\n",
       "      box-shadow: 0px 1px 3px 1px rgba(0, 0, 0, 0.15);\n",
       "      filter: drop-shadow(0px 1px 2px rgba(0, 0, 0, 0.3));\n",
       "      fill: #FFFFFF;\n",
       "    }\n",
       "  </style>\n",
       "\n",
       "      <script>\n",
       "        const buttonEl =\n",
       "          document.querySelector('#df-d980ce39-df2b-47a8-9667-1bd933d9e947 button.colab-df-convert');\n",
       "        buttonEl.style.display =\n",
       "          google.colab.kernel.accessAllowed ? 'block' : 'none';\n",
       "\n",
       "        async function convertToInteractive(key) {\n",
       "          const element = document.querySelector('#df-d980ce39-df2b-47a8-9667-1bd933d9e947');\n",
       "          const dataTable =\n",
       "            await google.colab.kernel.invokeFunction('convertToInteractive',\n",
       "                                                     [key], {});\n",
       "          if (!dataTable) return;\n",
       "\n",
       "          const docLinkHtml = 'Like what you see? Visit the ' +\n",
       "            '<a target=\"_blank\" href=https://colab.research.google.com/notebooks/data_table.ipynb>data table notebook</a>'\n",
       "            + ' to learn more about interactive tables.';\n",
       "          element.innerHTML = '';\n",
       "          dataTable['output_type'] = 'display_data';\n",
       "          await google.colab.output.renderOutput(dataTable, element);\n",
       "          const docLink = document.createElement('div');\n",
       "          docLink.innerHTML = docLinkHtml;\n",
       "          element.appendChild(docLink);\n",
       "        }\n",
       "      </script>\n",
       "    </div>\n",
       "  </div>\n",
       "  "
      ],
      "text/plain": [
       "      author                                               book  \\\n",
       "0  Аверченко  Averchenko_A-T-Averchenko-Sobranie-sochineniy-...   \n",
       "1  Аверченко  Averchenko_A-T-Averchenko-Sobranie-sochineniy-...   \n",
       "2  Аверченко  Averchenko_A-T-Averchenko-Sobranie-sochineniy-...   \n",
       "3  Аверченко  Averchenko_A-T-Averchenko-Sobranie-sochineniy-...   \n",
       "4  Аверченко  Averchenko_A-T-Averchenko-Sobranie-sochineniy-...   \n",
       "5  Аверченко  Averchenko_A-T-Averchenko-Sobranie-sochineniy-...   \n",
       "6  Аверченко  Averchenko_A-T-Averchenko-Sobranie-sochineniy-...   \n",
       "7  Аверченко  Averchenko_A-T-Averchenko-Sobranie-sochineniy-...   \n",
       "8  Аверченко  Averchenko_A-T-Averchenko-Sobranie-sochineniy-...   \n",
       "9  Аверченко  Averchenko_A-T-Averchenko-Sobranie-sochineniy-...   \n",
       "\n",
       "                                                text  \\\n",
       "0  Мы за пять лет. Материалы [к биографии]\\nКак б...   \n",
       "1  Сидел он за большим письменным столом перед де...   \n",
       "2  — Да уж, — качал головой сдержанный Ре-ми. — Н...   \n",
       "3  Поверит ли кто-нибудь, что нами за эти пять ле...   \n",
       "4  8\\nАверченко А. Избранные рассказы. М., 1985. ...   \n",
       "5  — Помилуйте, такой праздник… Нужно, обязательн...   \n",
       "6  — Разбудить его в половине шестнадцатого.\\n* *...   \n",
       "7  Он встал, оделся, побрился и вышел на улицу.\\n...   \n",
       "8  Мозаика\\nI\\n— Я несчастный человек — вот что!\\...   \n",
       "9  — Как записываешь?\\n— В записной книжке. Хочеш...   \n",
       "\n",
       "                                       text_no_punkt  \\\n",
       "0  Мы за пять лет Материалы к биографии Как будто...   \n",
       "1  Сидел он за большим письменным столом перед де...   \n",
       "2  Да уж качал головой сдержанный Ре-ми Нехорошо ...   \n",
       "3  Поверит ли кто-нибудь что нами за эти пять лет...   \n",
       "4  8 Аверченко А Избранные рассказы М 1985 С 7 9 ...   \n",
       "5  Помилуйте такой праздник Нужно обязательно поц...   \n",
       "6  Разбудить его в половине шестнадцатого Закончи...   \n",
       "7  Он встал оделся побрился и вышел на улицу На у...   \n",
       "8  Мозаика I Я несчастный человек вот что Что за ...   \n",
       "9  Как записываешь В записной книжке Хочешь У мен...   \n",
       "\n",
       "                                              lemmas  \\\n",
       "0  пять год материал биография кроваво-красный ра...   \n",
       "1  сидеть больший письменный стол деревянный доск...   \n",
       "2  качать голова сдержать ре-ми нехорошо нехорошо...   \n",
       "3  поверить кто-нибудь пять год совместно м.г кор...   \n",
       "4  8 избранный рассказ м 1985 7 9 ежегодник 156 1...   \n",
       "5  помиловать праздник нужно обязательно поцелова...   \n",
       "6  разбудить половина шестнадцатый закончить всё ...   \n",
       "7  встать одеться побриться выйти улица улица сто...   \n",
       "8  мозаика i несчастный человек вздор поверить ув...   \n",
       "9  записывать записной книжка хотеть минута откро...   \n",
       "\n",
       "                                                tags  \\\n",
       "0  4_NUMR 3_NOUN 9_NOUN 9_NOUN 15_ADJF 6_NOUN 8_V...   \n",
       "1  5_VERB 7_ADJF 10_ADJF 6_NOUN 10_ADJF 6_NOUN 6_...   \n",
       "2  5_VERB 7_NOUN 10_PRTF 5_None 8_ADVB 8_ADVB 4_A...   \n",
       "3  7_VERB 10_NPRO 4_NUMR 3_NOUN 9_ADVB 3_None 11_...   \n",
       "4  1_None 9_ADJF 8_NOUN 1_NOUN 4_None 1_None 1_No...   \n",
       "5  9_VERB 8_NOUN 5_PRED 11_ADVB 12_INFN 7_NOUN 10...   \n",
       "6  9_INFN 8_NOUN 13_ADJF 8_GRND 3_PRCL 6_NOUN 7_N...   \n",
       "7  5_VERB 6_VERB 8_VERB 5_VERB 5_NOUN 5_NOUN 11_V...   \n",
       "8  7_NOUN 1_None 10_ADJF 7_NOUN 5_NOUN 6_VERB 6_V...   \n",
       "9  11_VERB 8_ADJF 6_NOUN 6_VERB 6_NOUN 13_NOUN 6_...   \n",
       "\n",
       "                                              tokens  \n",
       "0  Мы за пять лет . Материалы [ к биографии ] Как...  \n",
       "1  Сидел он за большим письменным столом перед де...  \n",
       "2  — Да уж , — качал головой сдержанный Ре-ми . —...  \n",
       "3  Поверит ли кто-нибудь , что нами за эти пять л...  \n",
       "4  8 Аверченко А. Избранные рассказы . М. , 1985 ...  \n",
       "5  — Помилуйте , такой праздник… Нужно , обязател...  \n",
       "6  — Разбудить его в половине шестнадцатого . * *...  \n",
       "7  Он встал , оделся , побрился и вышел на улицу ...  \n",
       "8  Мозаика I — Я несчастный человек — вот что ! —...  \n",
       "9  — Как записываешь ? — В записной книжке . Хоче...  "
      ]
     },
     "execution_count": 7,
     "metadata": {},
     "output_type": "execute_result"
    }
   ],
   "source": [
    "df.head(10)"
   ]
  },
  {
   "cell_type": "code",
   "execution_count": 8,
   "id": "d460d95b",
   "metadata": {
    "id": "d460d95b"
   },
   "outputs": [],
   "source": [
    "def get_document_vectorizer(frame, n_min=1, n=2, max_count=10000, column=\"lemmas\"):\n",
    "    texts_vector = frame[column]\n",
    "    vectorizer = TfidfVectorizer(ngram_range=(n_min,n), max_features=max_count, norm='l2')\n",
    "    vectorizer.fit(texts_vector)\n",
    "    return vectorizer\n",
    "\n",
    "def get_author_vectorizer(frame, n_min=1, n=2, max_count=10000, column=\"lemmas\"):\n",
    "    grouped_text = frame.groupby(\"author\", as_index = False)[column].agg({column: ' '.join})\n",
    "    vectorizer = TfidfVectorizer(ngram_range=(n_min,n), max_features=max_count, norm='l2')\n",
    "    texts_vector = frame[column]\n",
    "    vectorizer.fit(texts_vector)\n",
    "    return vectorizer"
   ]
  },
  {
   "cell_type": "code",
   "execution_count": 9,
   "id": "bf3d281c",
   "metadata": {
    "id": "bf3d281c"
   },
   "outputs": [],
   "source": [
    "def get_encoder(frame, column=\"author\"):\n",
    "    encoder = LabelEncoder()\n",
    "    encoder.fit(frame[column])\n",
    "    return encoder"
   ]
  },
  {
   "cell_type": "markdown",
   "id": "4e4f4ad7",
   "metadata": {
    "id": "4e4f4ad7"
   },
   "source": [
    "\n",
    "Возьмем лемматизированные отрезки текста, векторизируем их и попробуем предсказать"
   ]
  },
  {
   "cell_type": "code",
   "execution_count": 10,
   "id": "0a9aebe8",
   "metadata": {
    "id": "0a9aebe8"
   },
   "outputs": [],
   "source": [
    "label_encoder = get_encoder(frame=df)"
   ]
  },
  {
   "cell_type": "code",
   "execution_count": 11,
   "id": "4db92480",
   "metadata": {
    "id": "4db92480"
   },
   "outputs": [],
   "source": [
    "y = label_encoder.transform(df[\"author\"])\n",
    "df_train, df_test, y_train, y_test = train_test_split(df, y, train_size=0.5)"
   ]
  },
  {
   "cell_type": "code",
   "execution_count": 12,
   "id": "7420aae1",
   "metadata": {
    "id": "7420aae1"
   },
   "outputs": [],
   "source": [
    "vectorizer = get_author_vectorizer(df_train, max_count=40000)\n",
    "x_train = vectorizer.transform(df_train[\"lemmas\"])\n",
    "x_test = vectorizer.transform(df_test[\"lemmas\"])"
   ]
  },
  {
   "cell_type": "markdown",
   "id": "ebdb1143",
   "metadata": {
    "id": "ebdb1143"
   },
   "source": [
    "## CATBOOST"
   ]
  },
  {
   "cell_type": "code",
   "execution_count": 13,
   "id": "16a86d82",
   "metadata": {
    "colab": {
     "base_uri": "https://localhost:8080/"
    },
    "id": "16a86d82",
    "outputId": "fd88c4e0-0733-4be9-e336-db7bff68c292",
    "scrolled": true
   },
   "outputs": [
    {
     "name": "stdout",
     "output_type": "stream",
     "text": [
      "Looking in indexes: https://pypi.org/simple, https://us-python.pkg.dev/colab-wheels/public/simple/\n",
      "Collecting catboost\n",
      "  Downloading catboost-1.1.1-cp38-none-manylinux1_x86_64.whl (76.6 MB)\n",
      "\u001b[K     |████████████████████████████████| 76.6 MB 1.1 MB/s \n",
      "\u001b[?25hRequirement already satisfied: numpy>=1.16.0 in /usr/local/lib/python3.8/dist-packages (from catboost) (1.21.6)\n",
      "Requirement already satisfied: pandas>=0.24.0 in /usr/local/lib/python3.8/dist-packages (from catboost) (1.3.5)\n",
      "Requirement already satisfied: matplotlib in /usr/local/lib/python3.8/dist-packages (from catboost) (3.2.2)\n",
      "Requirement already satisfied: scipy in /usr/local/lib/python3.8/dist-packages (from catboost) (1.7.3)\n",
      "Requirement already satisfied: plotly in /usr/local/lib/python3.8/dist-packages (from catboost) (5.5.0)\n",
      "Requirement already satisfied: graphviz in /usr/local/lib/python3.8/dist-packages (from catboost) (0.10.1)\n",
      "Requirement already satisfied: six in /usr/local/lib/python3.8/dist-packages (from catboost) (1.15.0)\n",
      "Requirement already satisfied: pytz>=2017.3 in /usr/local/lib/python3.8/dist-packages (from pandas>=0.24.0->catboost) (2022.6)\n",
      "Requirement already satisfied: python-dateutil>=2.7.3 in /usr/local/lib/python3.8/dist-packages (from pandas>=0.24.0->catboost) (2.8.2)\n",
      "Requirement already satisfied: kiwisolver>=1.0.1 in /usr/local/lib/python3.8/dist-packages (from matplotlib->catboost) (1.4.4)\n",
      "Requirement already satisfied: cycler>=0.10 in /usr/local/lib/python3.8/dist-packages (from matplotlib->catboost) (0.11.0)\n",
      "Requirement already satisfied: pyparsing!=2.0.4,!=2.1.2,!=2.1.6,>=2.0.1 in /usr/local/lib/python3.8/dist-packages (from matplotlib->catboost) (3.0.9)\n",
      "Requirement already satisfied: tenacity>=6.2.0 in /usr/local/lib/python3.8/dist-packages (from plotly->catboost) (8.1.0)\n",
      "Installing collected packages: catboost\n",
      "Successfully installed catboost-1.1.1\n"
     ]
    }
   ],
   "source": [
    "!pip install catboost # делал в коллабе, поэтому устанавливал каждый раз"
   ]
  },
  {
   "cell_type": "code",
   "execution_count": 14,
   "id": "37e26d19",
   "metadata": {
    "id": "37e26d19"
   },
   "outputs": [],
   "source": [
    "from catboost import Pool, CatBoostClassifier"
   ]
  },
  {
   "cell_type": "code",
   "execution_count": 15,
   "id": "229c1e50",
   "metadata": {
    "id": "229c1e50"
   },
   "outputs": [],
   "source": [
    "df = df[[\"lemmas\"]]\n"
   ]
  },
  {
   "cell_type": "code",
   "execution_count": 16,
   "id": "b7c370ca",
   "metadata": {
    "id": "b7c370ca"
   },
   "outputs": [],
   "source": [
    "df_train, df_test, y_train, y_test = train_test_split(df, y, train_size=0.5)"
   ]
  },
  {
   "cell_type": "code",
   "execution_count": 23,
   "id": "d136590f",
   "metadata": {
    "id": "d136590f"
   },
   "outputs": [],
   "source": [
    "train_pool = Pool(\n",
    "    df_train, \n",
    "    y_train, \n",
    "    text_features=[\"lemmas\"],\n",
    "    \n",
    "   \n",
    ")\n",
    "valid_pool = Pool(\n",
    "    df_test, \n",
    "    y_test,\n",
    "    text_features=[\"lemmas\"], \n",
    "   \n",
    ")\n",
    "\n",
    "catboost_params = {\n",
    "    'iterations': 15000,\n",
    "    'learning_rate': 0.01,\n",
    "    'eval_metric': 'Accuracy',\n",
    "    'task_type': 'GPU',\n",
    "    'early_stopping_rounds': 2000,\n",
    "    'use_best_model': True,\n",
    "    'verbose': 1000\n",
    "}\n",
    "model = CatBoostClassifier(**catboost_params)"
   ]
  },
  {
   "cell_type": "code",
   "execution_count": 24,
   "id": "3709be9c",
   "metadata": {
    "colab": {
     "base_uri": "https://localhost:8080/"
    },
    "id": "3709be9c",
    "outputId": "2301585a-f71d-40a7-ca52-5e11f27f52f9"
   },
   "outputs": [
    {
     "name": "stdout",
     "output_type": "stream",
     "text": [
      "0:\tlearn: 0.7303789\ttest: 0.7557510\tbest: 0.7557510 (0)\ttotal: 33.7ms\tremaining: 8m 25s\n",
      "1000:\tlearn: 0.9371899\ttest: 0.9622237\tbest: 0.9622237 (977)\ttotal: 22.4s\tremaining: 5m 13s\n",
      "2000:\tlearn: 0.9498196\ttest: 0.9648173\tbest: 0.9649301 (1876)\ttotal: 42.5s\tremaining: 4m 35s\n",
      "3000:\tlearn: 0.9592918\ttest: 0.9663960\tbest: 0.9666216 (2878)\ttotal: 1m 7s\tremaining: 4m 30s\n",
      "4000:\tlearn: 0.9660577\ttest: 0.9679747\tbest: 0.9679747 (3875)\ttotal: 1m 27s\tremaining: 4m\n",
      "5000:\tlearn: 0.9728236\ttest: 0.9695535\tbest: 0.9695535 (4943)\ttotal: 1m 47s\tremaining: 3m 34s\n",
      "6000:\tlearn: 0.9781236\ttest: 0.9701173\tbest: 0.9702300 (5996)\ttotal: 2m 7s\tremaining: 3m 10s\n",
      "7000:\tlearn: 0.9829725\ttest: 0.9702300\tbest: 0.9703428 (6240)\ttotal: 2m 26s\tremaining: 2m 47s\n",
      "8000:\tlearn: 0.9860171\ttest: 0.9711322\tbest: 0.9712449 (7947)\ttotal: 2m 46s\tremaining: 2m 25s\n",
      "9000:\tlearn: 0.9884980\ttest: 0.9716960\tbest: 0.9718088 (8689)\ttotal: 3m 6s\tremaining: 2m 4s\n",
      "10000:\tlearn: 0.9909788\ttest: 0.9720343\tbest: 0.9720343 (9817)\ttotal: 3m 26s\tremaining: 1m 42s\n",
      "11000:\tlearn: 0.9934596\ttest: 0.9722598\tbest: 0.9724853 (10813)\ttotal: 3m 45s\tremaining: 1m 21s\n",
      "12000:\tlearn: 0.9952639\ttest: 0.9730492\tbest: 0.9730492 (11976)\ttotal: 4m 5s\tremaining: 1m 1s\n",
      "13000:\tlearn: 0.9961660\ttest: 0.9732747\tbest: 0.9733875 (12273)\ttotal: 4m 30s\tremaining: 41.6s\n",
      "14000:\tlearn: 0.9974064\ttest: 0.9733875\tbest: 0.9733875 (12273)\ttotal: 4m 49s\tremaining: 20.7s\n",
      "14999:\tlearn: 0.9981958\ttest: 0.9736130\tbest: 0.9736130 (14966)\ttotal: 5m 9s\tremaining: 0us\n",
      "bestTest = 0.9736129905\n",
      "bestIteration = 14966\n",
      "Shrink model to first 14967 iterations.\n"
     ]
    },
    {
     "data": {
      "text/plain": [
       "<catboost.core.CatBoostClassifier at 0x7f6b4825efa0>"
      ]
     },
     "execution_count": 24,
     "metadata": {},
     "output_type": "execute_result"
    }
   ],
   "source": [
    "model.fit(train_pool, eval_set=valid_pool)"
   ]
  }
 ],
 "metadata": {
  "accelerator": "GPU",
  "colab": {
   "provenance": []
  },
  "gpuClass": "standard",
  "kernelspec": {
   "display_name": "Python 3 (ipykernel)",
   "language": "python",
   "name": "python3"
  },
  "language_info": {
   "codemirror_mode": {
    "name": "ipython",
    "version": 3
   },
   "file_extension": ".py",
   "mimetype": "text/x-python",
   "name": "python",
   "nbconvert_exporter": "python",
   "pygments_lexer": "ipython3",
   "version": "3.9.12"
  }
 },
 "nbformat": 4,
 "nbformat_minor": 5
}
