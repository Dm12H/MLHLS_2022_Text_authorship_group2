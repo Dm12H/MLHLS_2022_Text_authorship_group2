{
 "cells": [
  {
   "cell_type": "code",
   "execution_count": 1,
   "id": "855b825a",
   "metadata": {},
   "outputs": [],
   "source": [
    "import optuna\n",
    "from sklearn.linear_model import LogisticRegression\n",
    "from sklearn.exceptions import ConvergenceWarning\n",
    "from sklearn.metrics import f1_score\n",
    "import pandas as pd\n",
    "import numpy as np\n",
    "import warnings\n",
    "from functools import partial"
   ]
  },
  {
   "cell_type": "code",
   "execution_count": 2,
   "id": "9eb450f3",
   "metadata": {},
   "outputs": [
    {
     "name": "stderr",
     "output_type": "stream",
     "text": [
      "[nltk_data] Downloading package stopwords to /home/dm12h/nltk_data...\n",
      "[nltk_data]   Package stopwords is already up-to-date!\n"
     ]
    }
   ],
   "source": [
    "from text_authorship.ta_model import load_df, train_crossval_twofold, get_encoders, train_test_split"
   ]
  },
  {
   "cell_type": "code",
   "execution_count": 3,
   "id": "125ac726",
   "metadata": {},
   "outputs": [],
   "source": [
    "DFRAME_PATH=input()"
   ]
  },
  {
   "cell_type": "code",
   "execution_count": 5,
   "id": "f3eeded4",
   "metadata": {
    "scrolled": true
   },
   "outputs": [],
   "source": [
    "df = load_df(DFRAME_PATH)"
   ]
  },
  {
   "cell_type": "code",
   "execution_count": 6,
   "id": "17f0b942",
   "metadata": {
    "scrolled": true
   },
   "outputs": [
    {
     "data": {
      "text/plain": "          author                                               book  \\\n0      Аверченко  Averchenko_A-T-Averchenko-Sobranie-sochineniy-...   \n1      Аверченко  Averchenko_A-T-Averchenko-Sobranie-sochineniy-...   \n2      Аверченко  Averchenko_A-T-Averchenko-Sobranie-sochineniy-...   \n3      Аверченко  Averchenko_A-T-Averchenko-Sobranie-sochineniy-...   \n4      Аверченко  Averchenko_A-T-Averchenko-Sobranie-sochineniy-...   \n...          ...                                                ...   \n18486      Чехов                                  zhivoi-tovar.epub   \n18487      Чехов                                  zhivoi-tovar.epub   \n18488      Чехов                                  zhivoi-tovar.epub   \n18489      Чехов                                  zhivoi-tovar.epub   \n18490      Чехов                                  zhivoi-tovar.epub   \n\n                                                    text  \\\n0      аркадий тимофеевич аверченко\\nсобрание сочинен...   \n1      стремясь вырваться из этой беспросветности, он...   \n2      — разрешите сесть или продолжать мне стоя? — ш...   \n3      а в последнем номере не пропущена даже карикат...   \n4      помимо постоянных авторов «сатирикона» и «ново...   \n...                                                  ...   \n18486  — это ужасно, григорий васильич! — заговорил б...   \n18487  грохольский жил всё в той же даче… надежды и ж...   \n18488  бугров держал лизу за талию и говорил ей:\\n— м...   \n18489  — тебе скучно, лизочка? — заговорил он после н...   \n18490  минут через пять в залу вошел грохольский, зас...   \n\n                                           text_no_punkt  \\\n0      deleted deleted deleted собрание сочинений в ш...   \n1      стремясь вырваться из этой беспросветности он ...   \n2      разрешите сесть или продолжать мне стоя шутлив...   \n3      а в последнем номере не пропущена даже карикат...   \n4      помимо постоянных авторов сатирикона и нового ...   \n...                                                  ...   \n18486  это ужасно deleted deleted заговорил deleted у...   \n18487  грохольский жил всё в той же даче надежды и же...   \n18488  deleted держал deleted за талию и говорил ей м...   \n18489  тебе скучно лизочка заговорил он после непродо...   \n18490  минут через пять в залу вошел грохольский засп...   \n\n                                                  lemmas  \\\n0      deleted deleted deleted собрание сочинение шес...   \n1      стремиться вырваться беспросветность обращатьс...   \n2      разрешить сесть продолжать стоя шутливо спроси...   \n3      последний номер пропустить карикатура осмеиват...   \n4      помимо постоянный автор сатирикона новый сатир...   \n...                                                  ...   \n18486  это ужасно deleted deleted заговорить deleted ...   \n18487  грохольский жить всё дача надежда желание мале...   \n18488  deleted держать deleted талия говорить милый д...   \n18489  скучно лизочко заговорить непродолжительный мо...   \n18490  минута пять зала войти грохольский заспанный н...   \n\n                                                    tags  \\\n0      deleted deleted deleted 8_NOUN 9_NOUN 5_NUMR 1...   \n1      8_GRND 9_INFN 15_NOUN 10_VERB 13_ADJF 5_NOUN d...   \n2      9_VERB 5_INFN 10_INFN 4_ADVB 7_ADVB 7_VERB del...   \n3      9_ADJF 6_NOUN 9_PRTS 10_NOUN 11_PRTF 5_ADJF 5_...   \n4      6_PREP 10_ADJF 7_NOUN 10_NOUN 6_ADJF 10_NOUN d...   \n...                                                  ...   \n18486  3_PRCL 6_ADVB deleted deleted 9_VERB deleted 6...   \n18487  11_ADJF 3_VERB 3_PRCL 4_NOUN 7_NOUN 7_NOUN 9_A...   \n18488  deleted 6_VERB deleted 5_NOUN 7_VERB 5_ADJF 6_...   \n18489  6_ADVB 7_NOUN 9_VERB 18_ADJF 8_NOUN 8_VERB 6_A...   \n18490  5_NOUN 4_NUMR 4_NOUN 5_VERB 11_ADJF 9_ADJF 9_A...   \n\n                                                  tokens  counts     probs  \\\n0      deleted deleted deleted собрание сочинений в ш...     242  0.000043   \n1      стремясь вырваться из этой беспросветности , о...     242  0.000043   \n2      — разрешите сесть или продолжать мне стоя ? — ...     242  0.000043   \n3      а в последнем номере не пропущена даже карикат...     242  0.000043   \n4      помимо постоянных авторов « сатирикона » и « н...     242  0.000043   \n...                                                  ...     ...       ...   \n18486  — это ужасно , deleted deleted ! — заговорил d...      20  0.000223   \n18487  грохольский жил всё в той же даче… надежды и ж...      20  0.000223   \n18488  deleted держал deleted за талию и говорил ей :...      20  0.000223   \n18489  — тебе скучно , лизочка ? — заговорил он после...      20  0.000223   \n18490  минут через пять в залу вошел грохольский , за...      20  0.000223   \n\n       word_avg_length  words_per_sentence  exclamation_density  \\\n0             4.617747            3.141199             0.052632   \n1             4.468048            2.805954             0.028571   \n2             4.405085            2.508922             0.020833   \n3             4.867958            3.206627             0.000000   \n4             4.693370            2.947205             0.026316   \n...                ...                 ...                  ...   \n18486         4.146580            2.449703             0.358491   \n18487         4.396352            2.846569             0.142857   \n18488         4.001538            2.382628             0.483333   \n18489         4.079268            2.359026             0.161290   \n18490         4.045908            2.478936             0.404762   \n\n       question_density  comma_density  dialogue_density  \n0              0.000000       0.000000          0.000000  \n1              0.000000       0.000000          0.142857  \n2              0.020833       0.020833          0.166667  \n3              0.000000       0.000000          0.043478  \n4              0.052632       0.052632          0.105263  \n...                 ...            ...               ...  \n18486          0.188679       0.188679          0.301887  \n18487          0.028571       0.028571          0.000000  \n18488          0.200000       0.200000          0.233333  \n18489          0.145161       0.145161          0.306452  \n18490          0.214286       0.214286          0.214286  \n\n[18491 rows x 15 columns]",
      "text/html": "<div>\n<style scoped>\n    .dataframe tbody tr th:only-of-type {\n        vertical-align: middle;\n    }\n\n    .dataframe tbody tr th {\n        vertical-align: top;\n    }\n\n    .dataframe thead th {\n        text-align: right;\n    }\n</style>\n<table border=\"1\" class=\"dataframe\">\n  <thead>\n    <tr style=\"text-align: right;\">\n      <th></th>\n      <th>author</th>\n      <th>book</th>\n      <th>text</th>\n      <th>text_no_punkt</th>\n      <th>lemmas</th>\n      <th>tags</th>\n      <th>tokens</th>\n      <th>counts</th>\n      <th>probs</th>\n      <th>word_avg_length</th>\n      <th>words_per_sentence</th>\n      <th>exclamation_density</th>\n      <th>question_density</th>\n      <th>comma_density</th>\n      <th>dialogue_density</th>\n    </tr>\n  </thead>\n  <tbody>\n    <tr>\n      <th>0</th>\n      <td>Аверченко</td>\n      <td>Averchenko_A-T-Averchenko-Sobranie-sochineniy-...</td>\n      <td>аркадий тимофеевич аверченко\\nсобрание сочинен...</td>\n      <td>deleted deleted deleted собрание сочинений в ш...</td>\n      <td>deleted deleted deleted собрание сочинение шес...</td>\n      <td>deleted deleted deleted 8_NOUN 9_NOUN 5_NUMR 1...</td>\n      <td>deleted deleted deleted собрание сочинений в ш...</td>\n      <td>242</td>\n      <td>0.000043</td>\n      <td>4.617747</td>\n      <td>3.141199</td>\n      <td>0.052632</td>\n      <td>0.000000</td>\n      <td>0.000000</td>\n      <td>0.000000</td>\n    </tr>\n    <tr>\n      <th>1</th>\n      <td>Аверченко</td>\n      <td>Averchenko_A-T-Averchenko-Sobranie-sochineniy-...</td>\n      <td>стремясь вырваться из этой беспросветности, он...</td>\n      <td>стремясь вырваться из этой беспросветности он ...</td>\n      <td>стремиться вырваться беспросветность обращатьс...</td>\n      <td>8_GRND 9_INFN 15_NOUN 10_VERB 13_ADJF 5_NOUN d...</td>\n      <td>стремясь вырваться из этой беспросветности , о...</td>\n      <td>242</td>\n      <td>0.000043</td>\n      <td>4.468048</td>\n      <td>2.805954</td>\n      <td>0.028571</td>\n      <td>0.000000</td>\n      <td>0.000000</td>\n      <td>0.142857</td>\n    </tr>\n    <tr>\n      <th>2</th>\n      <td>Аверченко</td>\n      <td>Averchenko_A-T-Averchenko-Sobranie-sochineniy-...</td>\n      <td>— разрешите сесть или продолжать мне стоя? — ш...</td>\n      <td>разрешите сесть или продолжать мне стоя шутлив...</td>\n      <td>разрешить сесть продолжать стоя шутливо спроси...</td>\n      <td>9_VERB 5_INFN 10_INFN 4_ADVB 7_ADVB 7_VERB del...</td>\n      <td>— разрешите сесть или продолжать мне стоя ? — ...</td>\n      <td>242</td>\n      <td>0.000043</td>\n      <td>4.405085</td>\n      <td>2.508922</td>\n      <td>0.020833</td>\n      <td>0.020833</td>\n      <td>0.020833</td>\n      <td>0.166667</td>\n    </tr>\n    <tr>\n      <th>3</th>\n      <td>Аверченко</td>\n      <td>Averchenko_A-T-Averchenko-Sobranie-sochineniy-...</td>\n      <td>а в последнем номере не пропущена даже карикат...</td>\n      <td>а в последнем номере не пропущена даже карикат...</td>\n      <td>последний номер пропустить карикатура осмеиват...</td>\n      <td>9_ADJF 6_NOUN 9_PRTS 10_NOUN 11_PRTF 5_ADJF 5_...</td>\n      <td>а в последнем номере не пропущена даже карикат...</td>\n      <td>242</td>\n      <td>0.000043</td>\n      <td>4.867958</td>\n      <td>3.206627</td>\n      <td>0.000000</td>\n      <td>0.000000</td>\n      <td>0.000000</td>\n      <td>0.043478</td>\n    </tr>\n    <tr>\n      <th>4</th>\n      <td>Аверченко</td>\n      <td>Averchenko_A-T-Averchenko-Sobranie-sochineniy-...</td>\n      <td>помимо постоянных авторов «сатирикона» и «ново...</td>\n      <td>помимо постоянных авторов сатирикона и нового ...</td>\n      <td>помимо постоянный автор сатирикона новый сатир...</td>\n      <td>6_PREP 10_ADJF 7_NOUN 10_NOUN 6_ADJF 10_NOUN d...</td>\n      <td>помимо постоянных авторов « сатирикона » и « н...</td>\n      <td>242</td>\n      <td>0.000043</td>\n      <td>4.693370</td>\n      <td>2.947205</td>\n      <td>0.026316</td>\n      <td>0.052632</td>\n      <td>0.052632</td>\n      <td>0.105263</td>\n    </tr>\n    <tr>\n      <th>...</th>\n      <td>...</td>\n      <td>...</td>\n      <td>...</td>\n      <td>...</td>\n      <td>...</td>\n      <td>...</td>\n      <td>...</td>\n      <td>...</td>\n      <td>...</td>\n      <td>...</td>\n      <td>...</td>\n      <td>...</td>\n      <td>...</td>\n      <td>...</td>\n      <td>...</td>\n    </tr>\n    <tr>\n      <th>18486</th>\n      <td>Чехов</td>\n      <td>zhivoi-tovar.epub</td>\n      <td>— это ужасно, григорий васильич! — заговорил б...</td>\n      <td>это ужасно deleted deleted заговорил deleted у...</td>\n      <td>это ужасно deleted deleted заговорить deleted ...</td>\n      <td>3_PRCL 6_ADVB deleted deleted 9_VERB deleted 6...</td>\n      <td>— это ужасно , deleted deleted ! — заговорил d...</td>\n      <td>20</td>\n      <td>0.000223</td>\n      <td>4.146580</td>\n      <td>2.449703</td>\n      <td>0.358491</td>\n      <td>0.188679</td>\n      <td>0.188679</td>\n      <td>0.301887</td>\n    </tr>\n    <tr>\n      <th>18487</th>\n      <td>Чехов</td>\n      <td>zhivoi-tovar.epub</td>\n      <td>грохольский жил всё в той же даче… надежды и ж...</td>\n      <td>грохольский жил всё в той же даче надежды и же...</td>\n      <td>грохольский жить всё дача надежда желание мале...</td>\n      <td>11_ADJF 3_VERB 3_PRCL 4_NOUN 7_NOUN 7_NOUN 9_A...</td>\n      <td>грохольский жил всё в той же даче… надежды и ж...</td>\n      <td>20</td>\n      <td>0.000223</td>\n      <td>4.396352</td>\n      <td>2.846569</td>\n      <td>0.142857</td>\n      <td>0.028571</td>\n      <td>0.028571</td>\n      <td>0.000000</td>\n    </tr>\n    <tr>\n      <th>18488</th>\n      <td>Чехов</td>\n      <td>zhivoi-tovar.epub</td>\n      <td>бугров держал лизу за талию и говорил ей:\\n— м...</td>\n      <td>deleted держал deleted за талию и говорил ей м...</td>\n      <td>deleted держать deleted талия говорить милый д...</td>\n      <td>deleted 6_VERB deleted 5_NOUN 7_VERB 5_ADJF 6_...</td>\n      <td>deleted держал deleted за талию и говорил ей :...</td>\n      <td>20</td>\n      <td>0.000223</td>\n      <td>4.001538</td>\n      <td>2.382628</td>\n      <td>0.483333</td>\n      <td>0.200000</td>\n      <td>0.200000</td>\n      <td>0.233333</td>\n    </tr>\n    <tr>\n      <th>18489</th>\n      <td>Чехов</td>\n      <td>zhivoi-tovar.epub</td>\n      <td>— тебе скучно, лизочка? — заговорил он после н...</td>\n      <td>тебе скучно лизочка заговорил он после непродо...</td>\n      <td>скучно лизочко заговорить непродолжительный мо...</td>\n      <td>6_ADVB 7_NOUN 9_VERB 18_ADJF 8_NOUN 8_VERB 6_A...</td>\n      <td>— тебе скучно , лизочка ? — заговорил он после...</td>\n      <td>20</td>\n      <td>0.000223</td>\n      <td>4.079268</td>\n      <td>2.359026</td>\n      <td>0.161290</td>\n      <td>0.145161</td>\n      <td>0.145161</td>\n      <td>0.306452</td>\n    </tr>\n    <tr>\n      <th>18490</th>\n      <td>Чехов</td>\n      <td>zhivoi-tovar.epub</td>\n      <td>минут через пять в залу вошел грохольский, зас...</td>\n      <td>минут через пять в залу вошел грохольский засп...</td>\n      <td>минута пять зала войти грохольский заспанный н...</td>\n      <td>5_NOUN 4_NUMR 4_NOUN 5_VERB 11_ADJF 9_ADJF 9_A...</td>\n      <td>минут через пять в залу вошел грохольский , за...</td>\n      <td>20</td>\n      <td>0.000223</td>\n      <td>4.045908</td>\n      <td>2.478936</td>\n      <td>0.404762</td>\n      <td>0.214286</td>\n      <td>0.214286</td>\n      <td>0.214286</td>\n    </tr>\n  </tbody>\n</table>\n<p>18491 rows × 15 columns</p>\n</div>"
     },
     "execution_count": 6,
     "metadata": {},
     "output_type": "execute_result"
    }
   ],
   "source": [
    "df"
   ]
  },
  {
   "cell_type": "code",
   "execution_count": 7,
   "id": "c7d88f6a",
   "metadata": {},
   "outputs": [],
   "source": [
    "def get_top_features(label_enc, data_enc, clf, n):\n",
    "    names = label_enc.classes_\n",
    "    coeffs = clf.coef_\n",
    "    author_dict = dict()\n",
    "    for i, author in enumerate(names):\n",
    "        args_sorted = list(reversed(np.argsort(coeffs[i])[-n:]))\n",
    "        features = [data_enc.find_idx(idx) for idx in args_sorted]\n",
    "        author_dict[author] = features\n",
    "    df = pd.DataFrame(author_dict)\n",
    "    return df"
   ]
  },
  {
   "cell_type": "markdown",
   "id": "4e4f4ad7",
   "metadata": {},
   "source": [
    "### Попробуем простую регрессию по 1 колонке:\n",
    "С помощью optuna подберем параметр регуляризации, длину векторизированного представления текста, и лучшую колонку"
   ]
  },
  {
   "cell_type": "code",
   "execution_count": 8,
   "id": "31381997",
   "metadata": {
    "scrolled": true
   },
   "outputs": [
    {
     "name": "stderr",
     "output_type": "stream",
     "text": [
      "\u001B[32m[I 2023-03-01 08:53:43,999]\u001B[0m A new study created in memory with name: no-name-4c0f6410-f8bd-4d5a-a372-8d9ff0fa6913\u001B[0m\n",
      "\u001B[32m[I 2023-03-01 08:59:04,196]\u001B[0m Trial 0 finished with value: 0.745787192514221 and parameters: {'lambda': 181.472021666141, 'multiplier': 3, 'col': 'tokens', 'n_top': 4}. Best is trial 0 with value: 0.745787192514221.\u001B[0m\n",
      "\u001B[32m[I 2023-03-01 09:03:01,933]\u001B[0m Trial 1 finished with value: 0.45770500740581943 and parameters: {'lambda': 312.56257840368045, 'multiplier': 3, 'col': 'tags', 'n_top': 3}. Best is trial 0 with value: 0.745787192514221.\u001B[0m\n",
      "\u001B[32m[I 2023-03-01 09:06:46,680]\u001B[0m Trial 2 finished with value: 0.7299144599542262 and parameters: {'lambda': 245.25764240084405, 'multiplier': 1, 'col': 'lemmas', 'n_top': 4}. Best is trial 0 with value: 0.745787192514221.\u001B[0m\n",
      "\u001B[32m[I 2023-03-01 09:10:25,511]\u001B[0m Trial 3 finished with value: 0.7168364878821846 and parameters: {'lambda': 84.48894684069208, 'multiplier': 9, 'col': 'lemmas', 'n_top': 3}. Best is trial 0 with value: 0.745787192514221.\u001B[0m\n",
      "\u001B[32m[I 2023-03-01 09:15:32,999]\u001B[0m Trial 4 finished with value: 0.4548099184276565 and parameters: {'lambda': 725.077695396968, 'multiplier': 6, 'col': 'tags', 'n_top': 4}. Best is trial 0 with value: 0.745787192514221.\u001B[0m\n",
      "\u001B[32m[I 2023-03-01 09:19:00,283]\u001B[0m Trial 5 finished with value: 0.46325770264622423 and parameters: {'lambda': 554.6337844304799, 'multiplier': 2, 'col': 'tags', 'n_top': 2}. Best is trial 0 with value: 0.745787192514221.\u001B[0m\n",
      "\u001B[32m[I 2023-03-01 09:23:59,830]\u001B[0m Trial 6 finished with value: 0.45799385238754575 and parameters: {'lambda': 501.1007745684485, 'multiplier': 5, 'col': 'tags', 'n_top': 4}. Best is trial 0 with value: 0.745787192514221.\u001B[0m\n",
      "\u001B[32m[I 2023-03-01 09:29:22,049]\u001B[0m Trial 7 finished with value: 0.7367206361291396 and parameters: {'lambda': 260.15666791892943, 'multiplier': 9, 'col': 'tokens', 'n_top': 3}. Best is trial 0 with value: 0.745787192514221.\u001B[0m\n",
      "\u001B[32m[I 2023-03-01 09:32:00,797]\u001B[0m Trial 8 finished with value: 0.7286833606047507 and parameters: {'lambda': 107.71116810633028, 'multiplier': 3, 'col': 'lemmas', 'n_top': 2}. Best is trial 0 with value: 0.745787192514221.\u001B[0m\n",
      "\u001B[32m[I 2023-03-01 09:35:42,699]\u001B[0m Trial 9 finished with value: 0.7341878218635552 and parameters: {'lambda': 761.8261785606712, 'multiplier': 3, 'col': 'lemmas', 'n_top': 3}. Best is trial 0 with value: 0.745787192514221.\u001B[0m\n"
     ]
    }
   ],
   "source": [
    "def objective(trial: optuna.Trial):\n",
    "    regularization = trial.suggest_float(\"lambda\", low=0.001, high=1000)\n",
    "    vector_size = trial.suggest_int(\"multiplier\", low=1,  high=10)\n",
    "    target_column = trial.suggest_categorical(\"col\", [\"tokens\", \"lemmas\", \"tags\"])\n",
    "    n_grams = trial.suggest_int(\"n_top\", low=1, high=4)\n",
    "    param_dict = {\n",
    "        target_column: {\n",
    "            \"max_count\": 5000*vector_size,\n",
    "            \"n_min\":1,\n",
    "            \"n\":n_grams\n",
    "        }\n",
    "    }\n",
    "    clf = LogisticRegression(class_weight=\"balanced\",\n",
    "                             C=regularization,\n",
    "                             warm_start=False,\n",
    "                             max_iter=500)\n",
    "    with warnings.catch_warnings():\n",
    "        warnings.filterwarnings(\"ignore\", category=ConvergenceWarning)\n",
    "        scores = train_crossval_twofold(df, clf, target_column, vectorizer_dict=param_dict, avg=\"macro\")\n",
    "        return np.mean(scores)\n",
    "\n",
    "study = optuna.create_study(direction=\"maximize\")\n",
    "study.optimize(objective, n_trials=10)"
   ]
  },
  {
   "cell_type": "code",
   "execution_count": 12,
   "id": "bbd831ed",
   "metadata": {},
   "outputs": [
    {
     "data": {
      "text/plain": [
       "{'lambda': 181.472021666141, 'multiplier': 3, 'col': 'tokens', 'n_top': 4}"
      ]
     },
     "execution_count": 12,
     "metadata": {},
     "output_type": "execute_result"
    }
   ],
   "source": [
    "best_params = study.best_params\n",
    "best_params"
   ]
  },
  {
   "cell_type": "code",
   "execution_count": 17,
   "id": "6b997feb",
   "metadata": {},
   "outputs": [
    {
     "data": {
      "text/plain": [
       "OrderedDict([('col', 0.748094065529188),\n",
       "             ('lambda', 0.22047536779173826),\n",
       "             ('n_top', 0.0312922270635871),\n",
       "             ('multiplier', 0.0001383396154866577)])"
      ]
     },
     "execution_count": 17,
     "metadata": {},
     "output_type": "execute_result"
    }
   ],
   "source": [
    "optuna.importance.get_param_importances(study)"
   ]
  },
  {
   "cell_type": "markdown",
   "id": "9eaf1865",
   "metadata": {},
   "source": [
    "### Добавим 2ю колонку:\n",
    "Несмотря на дублирование данных, добавление дополнительной информации позволяет увеличить score. Из многочисленных запусков видно, что оптимальное С для регуляризации находится где-то около 600, а к размеру ngramm и длине вектора результаты не очень чувствительны"
   ]
  },
  {
   "cell_type": "code",
   "execution_count": 16,
   "id": "47d9b4c5",
   "metadata": {},
   "outputs": [
    {
     "name": "stderr",
     "output_type": "stream",
     "text": [
      "\u001B[32m[I 2023-03-01 09:42:37,997]\u001B[0m A new study created in memory with name: no-name-f2ce7a66-729d-4d5a-9cb7-430e961fbff7\u001B[0m\n",
      "\u001B[32m[I 2023-03-01 09:50:01,819]\u001B[0m Trial 0 finished with value: 0.77608039660908 and parameters: {'second_col': 'lemmas', 'multiplier': 2, 'lambda': 676.984734794044, 'n_top': 3}. Best is trial 0 with value: 0.77608039660908.\u001B[0m\n",
      "\u001B[32m[I 2023-03-01 09:58:52,038]\u001B[0m Trial 1 finished with value: 0.7483338242131993 and parameters: {'second_col': 'tags', 'multiplier': 4, 'lambda': 690.2034773130847, 'n_top': 4}. Best is trial 0 with value: 0.77608039660908.\u001B[0m\n",
      "\u001B[32m[I 2023-03-01 10:06:12,642]\u001B[0m Trial 2 finished with value: 0.7635275955113148 and parameters: {'second_col': 'lemmas', 'multiplier': 4, 'lambda': 68.4748810680112, 'n_top': 4}. Best is trial 0 with value: 0.77608039660908.\u001B[0m\n",
      "\u001B[32m[I 2023-03-01 10:13:47,746]\u001B[0m Trial 3 finished with value: 0.7853255534280614 and parameters: {'second_col': 'lemmas', 'multiplier': 10, 'lambda': 603.6571448583995, 'n_top': 1}. Best is trial 3 with value: 0.7853255534280614.\u001B[0m\n",
      "\u001B[32m[I 2023-03-01 10:21:40,846]\u001B[0m Trial 4 finished with value: 0.7764742547359484 and parameters: {'second_col': 'lemmas', 'multiplier': 1, 'lambda': 412.32254400604575, 'n_top': 4}. Best is trial 3 with value: 0.7853255534280614.\u001B[0m\n",
      "\u001B[32m[I 2023-03-01 10:29:28,428]\u001B[0m Trial 5 finished with value: 0.7663079260367317 and parameters: {'second_col': 'lemmas', 'multiplier': 9, 'lambda': 165.30715950490583, 'n_top': 3}. Best is trial 3 with value: 0.7853255534280614.\u001B[0m\n",
      "\u001B[32m[I 2023-03-01 10:35:26,966]\u001B[0m Trial 6 finished with value: 0.7577272017583827 and parameters: {'second_col': 'tags', 'multiplier': 10, 'lambda': 745.3863090519465, 'n_top': 1}. Best is trial 3 with value: 0.7853255534280614.\u001B[0m\n",
      "\u001B[32m[I 2023-03-01 10:46:21,291]\u001B[0m Trial 7 finished with value: 0.7480794943008042 and parameters: {'second_col': 'tags', 'multiplier': 10, 'lambda': 872.1125766582322, 'n_top': 3}. Best is trial 3 with value: 0.7853255534280614.\u001B[0m\n",
      "\u001B[32m[I 2023-03-01 10:55:05,476]\u001B[0m Trial 8 finished with value: 0.7722282841407203 and parameters: {'second_col': 'lemmas', 'multiplier': 6, 'lambda': 654.3708414474139, 'n_top': 4}. Best is trial 3 with value: 0.7853255534280614.\u001B[0m\n",
      "\u001B[32m[I 2023-03-01 11:02:18,173]\u001B[0m Trial 9 finished with value: 0.7731061960856287 and parameters: {'second_col': 'lemmas', 'multiplier': 6, 'lambda': 549.0481973506953, 'n_top': 2}. Best is trial 3 with value: 0.7853255534280614.\u001B[0m\n"
     ]
    }
   ],
   "source": [
    "def optimize_doubles(trial, prev_params):\n",
    "    main_col = prev_params[\"col\"]\n",
    "    candidates = {\"tokens\", \"lemmas\", \"tags\"}\n",
    "    candidates.discard(main_col)\n",
    "\n",
    "    second_col = trial.suggest_categorical(\"second_col\", list(candidates))\n",
    "    vector_size = trial.suggest_int(\"multiplier\", low=1,  high=10)\n",
    "    regularization = trial.suggest_float(\"lambda\", low=0.001, high=1000)\n",
    "    n_grams = trial.suggest_int(\"n_top\", low=1, high=4)\n",
    "\n",
    "    clf = LogisticRegression(\n",
    "                            C=regularization,\n",
    "                            class_weight=\"balanced\",\n",
    "                            warm_start=False,\n",
    "                            max_iter=500)\n",
    "    param_dict = {\n",
    "        main_col: {\n",
    "            \"max_count\": 5000*prev_params[\"multiplier\"],\n",
    "            \"n_min\":1,\n",
    "            \"n\":prev_params[\"n_top\"]\n",
    "        },\n",
    "        second_col: {\n",
    "            \"max_count\": 5000*vector_size,\n",
    "            \"n_min\":1,\n",
    "            \"n\": n_grams\n",
    "        }\n",
    "    }\n",
    "    with warnings.catch_warnings():\n",
    "        warnings.filterwarnings(\"ignore\", category=ConvergenceWarning)\n",
    "        scores = train_crossval_twofold(df, clf, main_col,second_col, vectorizer_dict=param_dict, avg=\"macro\")\n",
    "        return np.mean(scores)\n",
    "\n",
    "follow_up_study = optuna.create_study(direction=\"maximize\")\n",
    "follow_up_study.optimize(partial(optimize_doubles, prev_params=best_params), n_trials=10)"
   ]
  },
  {
   "cell_type": "code",
   "execution_count": 18,
   "id": "f2a84af6",
   "metadata": {},
   "outputs": [
    {
     "data": {
      "text/plain": [
       "OrderedDict([('second_col', 0.5629371015989246),\n",
       "             ('lambda', 0.34812037515215233),\n",
       "             ('n_top', 0.06016824071808018),\n",
       "             ('multiplier', 0.028774282530842927)])"
      ]
     },
     "execution_count": 18,
     "metadata": {},
     "output_type": "execute_result"
    }
   ],
   "source": [
    "optuna.importance.get_param_importances(follow_up_study)"
   ]
  },
  {
   "cell_type": "markdown",
   "id": "b59b79cd",
   "metadata": {},
   "source": [
    "### Добавим численные признаки\n",
    "\n",
    "Будем использовать полученные ранее параметры для подбора лучшей модели"
   ]
  },
  {
   "cell_type": "code",
   "execution_count": 7,
   "id": "e73d545e",
   "metadata": {},
   "outputs": [
    {
     "name": "stderr",
     "output_type": "stream",
     "text": [
      "\u001B[32m[I 2023-03-01 14:10:21,096]\u001B[0m A new study created in memory with name: no-name-e72a1be4-f285-43ca-9e96-607de7d2d684\u001B[0m\n",
      "\u001B[32m[I 2023-03-01 14:16:51,496]\u001B[0m Trial 0 finished with value: 0.7305064630138566 and parameters: {'count_main': 12339, 'count_second': 12816, 'n_top_main': 2, 'n_top_second': 3}. Best is trial 0 with value: 0.7305064630138566.\u001B[0m\n",
      "\u001B[32m[I 2023-03-01 14:23:53,082]\u001B[0m Trial 1 finished with value: 0.7335515246099853 and parameters: {'count_main': 6423, 'count_second': 18287, 'n_top_main': 3, 'n_top_second': 2}. Best is trial 1 with value: 0.7335515246099853.\u001B[0m\n",
      "\u001B[32m[I 2023-03-01 14:30:28,004]\u001B[0m Trial 2 finished with value: 0.7416893275377844 and parameters: {'count_main': 9039, 'count_second': 22300, 'n_top_main': 3, 'n_top_second': 1}. Best is trial 2 with value: 0.7416893275377844.\u001B[0m\n",
      "\u001B[32m[I 2023-03-01 14:37:46,931]\u001B[0m Trial 3 finished with value: 0.7354374052720114 and parameters: {'count_main': 13826, 'count_second': 24009, 'n_top_main': 3, 'n_top_second': 2}. Best is trial 2 with value: 0.7416893275377844.\u001B[0m\n",
      "\u001B[32m[I 2023-03-01 14:45:32,478]\u001B[0m Trial 4 finished with value: 0.7314566407807612 and parameters: {'count_main': 19426, 'count_second': 24381, 'n_top_main': 3, 'n_top_second': 2}. Best is trial 2 with value: 0.7416893275377844.\u001B[0m\n",
      "\u001B[32m[I 2023-03-01 14:52:34,103]\u001B[0m Trial 5 finished with value: 0.739985553739877 and parameters: {'count_main': 12039, 'count_second': 15016, 'n_top_main': 2, 'n_top_second': 4}. Best is trial 2 with value: 0.7416893275377844.\u001B[0m\n",
      "\u001B[32m[I 2023-03-01 14:59:35,136]\u001B[0m Trial 6 finished with value: 0.7390005469446458 and parameters: {'count_main': 22231, 'count_second': 6402, 'n_top_main': 2, 'n_top_second': 4}. Best is trial 2 with value: 0.7416893275377844.\u001B[0m\n",
      "\u001B[32m[I 2023-03-01 15:03:55,789]\u001B[0m Trial 7 finished with value: 0.7312432656353081 and parameters: {'count_main': 16387, 'count_second': 9148, 'n_top_main': 1, 'n_top_second': 1}. Best is trial 2 with value: 0.7416893275377844.\u001B[0m\n",
      "\u001B[32m[I 2023-03-01 15:09:02,013]\u001B[0m Trial 8 finished with value: 0.7410588329166159 and parameters: {'count_main': 19400, 'count_second': 6523, 'n_top_main': 2, 'n_top_second': 1}. Best is trial 2 with value: 0.7416893275377844.\u001B[0m\n",
      "\u001B[32m[I 2023-03-01 15:13:56,008]\u001B[0m Trial 9 finished with value: 0.7313530698113215 and parameters: {'count_main': 6744, 'count_second': 22771, 'n_top_main': 1, 'n_top_second': 2}. Best is trial 2 with value: 0.7416893275377844.\u001B[0m\n"
     ]
    }
   ],
   "source": [
    "scalar_features = [\"word_avg_length\", \"words_per_sentence\",\n",
    "                   \"exclamation_density\", \"question_density\",\n",
    "                   \"comma_density\", \"dialogue_density\"]\n",
    "\n",
    "def final_obj(trial):\n",
    "    clf = LogisticRegression(\n",
    "                            C=600,\n",
    "                            class_weight=\"balanced\",\n",
    "                            warm_start=False,\n",
    "                            max_iter=500)\n",
    "\n",
    "    main_col_count = trial.suggest_int(\"count_main\", low=5000,  high=25000)\n",
    "    second_col_count = trial.suggest_int(\"count_second\", low=5000,  high=25000)\n",
    "    main_col_n = trial.suggest_int(\"n_top_main\", low=1, high=4)\n",
    "    second_col_n = trial.suggest_int(\"n_top_second\", low=1, high=4)\n",
    "\n",
    "    param_dict = {\n",
    "        \"tokens\": {\n",
    "            \"max_count\": main_col_count,\n",
    "            \"n_min\":1,\n",
    "            \"n\":main_col_n,\n",
    "        },\n",
    "        \"lemmas\": {\n",
    "            \"max_count\": second_col_count,\n",
    "            \"n_min\":1,\n",
    "            \"n\": second_col_n\n",
    "        }\n",
    "    }\n",
    "    with warnings.catch_warnings():\n",
    "        warnings.filterwarnings(\"ignore\", category=ConvergenceWarning)\n",
    "        scores = train_crossval_twofold(df, clf, \"tokens\", \"lemmas\", scalar_features, vectorizer_dict=param_dict, avg=\"macro\")\n",
    "        return np.mean(scores)\n",
    "\n",
    "follow_up_study = optuna.create_study(direction=\"maximize\")\n",
    "follow_up_study.optimize(final_obj, n_trials=10)"
   ]
  },
  {
   "cell_type": "markdown",
   "source": [
    "К сожалению, добавление чиленных признаков не позволило добиться нового максимума в результатах. Остановимся на численно лучших параметрах и проанализируем полученную с ними модель"
   ],
   "metadata": {
    "collapsed": false
   }
  },
  {
   "cell_type": "markdown",
   "id": "c5b7864c",
   "metadata": {},
   "source": [
    "### Лучший вариант"
   ]
  },
  {
   "cell_type": "markdown",
   "id": "304256fb",
   "metadata": {},
   "source": [
    "Чтобы визуализировать модель, мы не пользуемся кросс-валидацией, а берем обычное разбиение.\n",
    "Добавим к частям речи и тегам рассчитанные ранее скалярные параметры. они несущественно увеличивают число признаков, но могут быть полезными, так как вектор слов может не покрывать отдельные отрезки\n"
   ]
  },
  {
   "cell_type": "code",
   "execution_count": 8,
   "id": "ccf1e2e5",
   "metadata": {},
   "outputs": [
    {
     "data": {
      "text/plain": "LogisticRegression(C=603, class_weight='balanced', max_iter=1000,\n                   random_state=10)"
     },
     "execution_count": 8,
     "metadata": {},
     "output_type": "execute_result"
    }
   ],
   "source": [
    "param_dict = {\n",
    "    \"tokens\": {\n",
    "        \"max_count\": 15000,\n",
    "        \"n_min\":1,\n",
    "        \"n\":4,\n",
    "    },\n",
    "    \"lemmas\": {\n",
    "        \"max_count\": 50000,\n",
    "        \"n_min\":1,\n",
    "        \"n\": 1\n",
    "    }\n",
    "}\n",
    "\n",
    "df_train, df_test, y_train, y_test = train_test_split(df, share=0.7)\n",
    "data_enc, label_enc = get_encoders(df, df_train, param_dict.keys(), param_dict)\n",
    "\n",
    "x_train = data_enc.fit_transform(df_train)\n",
    "x_test = data_enc.transform(df_test)\n",
    "y_train = label_enc.transform(y_train)\n",
    "y_test = label_enc.transform(y_test)\n",
    "\n",
    "clf = LogisticRegression(penalty=\"l2\",\n",
    "                         random_state=10,\n",
    "                         C=603,\n",
    "                         class_weight=\"balanced\",\n",
    "                         max_iter=1000)\n",
    "clf.fit(x_train, y_train)"
   ]
  },
  {
   "cell_type": "code",
   "execution_count": 9,
   "id": "affcf483",
   "metadata": {},
   "outputs": [
    {
     "data": {
      "text/plain": "0.8519774675454916"
     },
     "execution_count": 9,
     "metadata": {},
     "output_type": "execute_result"
    }
   ],
   "source": [
    "f1_score(clf.predict(x_test), y_test, average=\"macro\")"
   ]
  },
  {
   "cell_type": "markdown",
   "id": "1a9e6564",
   "metadata": {},
   "source": [
    "Посмотрим на наиболее весомые фичи для каждого класса"
   ]
  },
  {
   "cell_type": "code",
   "execution_count": 10,
   "id": "73522b3b",
   "metadata": {
    "scrolled": false
   },
   "outputs": [
    {
     "data": {
      "text/plain": "     Аверченко    Булгаков        Бунин           Гоголь    Горький  \\\n0       сейчас      мастер        возле  deleted deleted    человек   \n1           вы       пьеса        возле              уже  самгинуть   \n2   сатирикона    ответить        жизнь             1841       тоже   \n3       король   советский       писать            чтобы    рабочий   \n4         чего     ответил     например   сказал deleted    самгину   \n5      deleted  прокуратор        опять            какой        ещё   \n6       крысак         тут          все       костанжочь        всё   \n7         если    квартира     ответить          парубок         её   \n8           ты        года  подгаевский             весь    варавка   \n9        новый       гудок     например               бы       жить   \n10    писатель   оказаться       смерть          сказать       пред   \n11    крысаков      понтия        среди            нужно         её   \n12     меценат       батум       поэзия          увидеть      снова   \n13       когда       театр        среди           бричка     дронов   \n14       потом   гражданин        порог        запорожец   говорить   \n\n     Достоевский         Карамзин        Куприн        Лермонтов Мордовцев  \\\n0            всё             1792         точно             1837      1880   \n1          вдруг           сердце         точно           казбич        да   \n2       смотреть           актеон          царь         отвечать  талицкий   \n3            всё             свой        нежный           куршуд  государь   \n4           даже  древнегреческий           все               уж   deleted   \n5         теперь             мочь         вдруг           княжна   девушка   \n6   верховенский            герой        ранний         кавказец   девочка   \n7             то               ах        сейчас          капитан    словно   \n8          роман              для     гамбринус          повесть    словно   \n9      подросток           хотеть         голос           минута  государь   \n10         князь          который            47             гора        то   \n11          весь               ах  подпрапорщик             чтоб   мерзляк   \n12       наконец             мать            47  азербайджанский  отвечать   \n13      арестант             глаз      поединок            кериб      улан   \n14          чтоб            роман        каждый          отвечал  казаться   \n\n         Пушкин Салтыков-Щедрин      Толстой      Тургенев        Чехов  \n0    дубровский        салтыков      который         рудин  грохольский  \n1        яицкий          салтык         кить     лаврецкий         граф  \n2     михельсон          однако       сказал    промолвить          всё  \n3          1827      владимирыч      сказать     лаврецкий      глядеть  \n4      отвечать          словно        ежели  гедеоновский  грохольский  \n5      крепость            даже         кити         рудин    поглядеть  \n6         казак         иудушка  воскресение  пандалевский  следователь  \n7         маиор    крутогорский        чтобы           ней          сад  \n8           его          однако         было         пигас        монах  \n9            её            чтоб         граф            да       раббек  \n10      отвечал       горехваст        нынче     возразить           за  \n11  пугачёвский       ангелочек       то что           мум         жена  \n12   дубровский           время    мигурский           мне          или  \n13           их      потому что          том       пигасов        когда  \n14     оставить           ежели        ежели            по      лобытко  ",
      "text/html": "<div>\n<style scoped>\n    .dataframe tbody tr th:only-of-type {\n        vertical-align: middle;\n    }\n\n    .dataframe tbody tr th {\n        vertical-align: top;\n    }\n\n    .dataframe thead th {\n        text-align: right;\n    }\n</style>\n<table border=\"1\" class=\"dataframe\">\n  <thead>\n    <tr style=\"text-align: right;\">\n      <th></th>\n      <th>Аверченко</th>\n      <th>Булгаков</th>\n      <th>Бунин</th>\n      <th>Гоголь</th>\n      <th>Горький</th>\n      <th>Достоевский</th>\n      <th>Карамзин</th>\n      <th>Куприн</th>\n      <th>Лермонтов</th>\n      <th>Мордовцев</th>\n      <th>Пушкин</th>\n      <th>Салтыков-Щедрин</th>\n      <th>Толстой</th>\n      <th>Тургенев</th>\n      <th>Чехов</th>\n    </tr>\n  </thead>\n  <tbody>\n    <tr>\n      <th>0</th>\n      <td>сейчас</td>\n      <td>мастер</td>\n      <td>возле</td>\n      <td>deleted deleted</td>\n      <td>человек</td>\n      <td>всё</td>\n      <td>1792</td>\n      <td>точно</td>\n      <td>1837</td>\n      <td>1880</td>\n      <td>дубровский</td>\n      <td>салтыков</td>\n      <td>который</td>\n      <td>рудин</td>\n      <td>грохольский</td>\n    </tr>\n    <tr>\n      <th>1</th>\n      <td>вы</td>\n      <td>пьеса</td>\n      <td>возле</td>\n      <td>уже</td>\n      <td>самгинуть</td>\n      <td>вдруг</td>\n      <td>сердце</td>\n      <td>точно</td>\n      <td>казбич</td>\n      <td>да</td>\n      <td>яицкий</td>\n      <td>салтык</td>\n      <td>кить</td>\n      <td>лаврецкий</td>\n      <td>граф</td>\n    </tr>\n    <tr>\n      <th>2</th>\n      <td>сатирикона</td>\n      <td>ответить</td>\n      <td>жизнь</td>\n      <td>1841</td>\n      <td>тоже</td>\n      <td>смотреть</td>\n      <td>актеон</td>\n      <td>царь</td>\n      <td>отвечать</td>\n      <td>талицкий</td>\n      <td>михельсон</td>\n      <td>однако</td>\n      <td>сказал</td>\n      <td>промолвить</td>\n      <td>всё</td>\n    </tr>\n    <tr>\n      <th>3</th>\n      <td>король</td>\n      <td>советский</td>\n      <td>писать</td>\n      <td>чтобы</td>\n      <td>рабочий</td>\n      <td>всё</td>\n      <td>свой</td>\n      <td>нежный</td>\n      <td>куршуд</td>\n      <td>государь</td>\n      <td>1827</td>\n      <td>владимирыч</td>\n      <td>сказать</td>\n      <td>лаврецкий</td>\n      <td>глядеть</td>\n    </tr>\n    <tr>\n      <th>4</th>\n      <td>чего</td>\n      <td>ответил</td>\n      <td>например</td>\n      <td>сказал deleted</td>\n      <td>самгину</td>\n      <td>даже</td>\n      <td>древнегреческий</td>\n      <td>все</td>\n      <td>уж</td>\n      <td>deleted</td>\n      <td>отвечать</td>\n      <td>словно</td>\n      <td>ежели</td>\n      <td>гедеоновский</td>\n      <td>грохольский</td>\n    </tr>\n    <tr>\n      <th>5</th>\n      <td>deleted</td>\n      <td>прокуратор</td>\n      <td>опять</td>\n      <td>какой</td>\n      <td>ещё</td>\n      <td>теперь</td>\n      <td>мочь</td>\n      <td>вдруг</td>\n      <td>княжна</td>\n      <td>девушка</td>\n      <td>крепость</td>\n      <td>даже</td>\n      <td>кити</td>\n      <td>рудин</td>\n      <td>поглядеть</td>\n    </tr>\n    <tr>\n      <th>6</th>\n      <td>крысак</td>\n      <td>тут</td>\n      <td>все</td>\n      <td>костанжочь</td>\n      <td>всё</td>\n      <td>верховенский</td>\n      <td>герой</td>\n      <td>ранний</td>\n      <td>кавказец</td>\n      <td>девочка</td>\n      <td>казак</td>\n      <td>иудушка</td>\n      <td>воскресение</td>\n      <td>пандалевский</td>\n      <td>следователь</td>\n    </tr>\n    <tr>\n      <th>7</th>\n      <td>если</td>\n      <td>квартира</td>\n      <td>ответить</td>\n      <td>парубок</td>\n      <td>её</td>\n      <td>то</td>\n      <td>ах</td>\n      <td>сейчас</td>\n      <td>капитан</td>\n      <td>словно</td>\n      <td>маиор</td>\n      <td>крутогорский</td>\n      <td>чтобы</td>\n      <td>ней</td>\n      <td>сад</td>\n    </tr>\n    <tr>\n      <th>8</th>\n      <td>ты</td>\n      <td>года</td>\n      <td>подгаевский</td>\n      <td>весь</td>\n      <td>варавка</td>\n      <td>роман</td>\n      <td>для</td>\n      <td>гамбринус</td>\n      <td>повесть</td>\n      <td>словно</td>\n      <td>его</td>\n      <td>однако</td>\n      <td>было</td>\n      <td>пигас</td>\n      <td>монах</td>\n    </tr>\n    <tr>\n      <th>9</th>\n      <td>новый</td>\n      <td>гудок</td>\n      <td>например</td>\n      <td>бы</td>\n      <td>жить</td>\n      <td>подросток</td>\n      <td>хотеть</td>\n      <td>голос</td>\n      <td>минута</td>\n      <td>государь</td>\n      <td>её</td>\n      <td>чтоб</td>\n      <td>граф</td>\n      <td>да</td>\n      <td>раббек</td>\n    </tr>\n    <tr>\n      <th>10</th>\n      <td>писатель</td>\n      <td>оказаться</td>\n      <td>смерть</td>\n      <td>сказать</td>\n      <td>пред</td>\n      <td>князь</td>\n      <td>который</td>\n      <td>47</td>\n      <td>гора</td>\n      <td>то</td>\n      <td>отвечал</td>\n      <td>горехваст</td>\n      <td>нынче</td>\n      <td>возразить</td>\n      <td>за</td>\n    </tr>\n    <tr>\n      <th>11</th>\n      <td>крысаков</td>\n      <td>понтия</td>\n      <td>среди</td>\n      <td>нужно</td>\n      <td>её</td>\n      <td>весь</td>\n      <td>ах</td>\n      <td>подпрапорщик</td>\n      <td>чтоб</td>\n      <td>мерзляк</td>\n      <td>пугачёвский</td>\n      <td>ангелочек</td>\n      <td>то что</td>\n      <td>мум</td>\n      <td>жена</td>\n    </tr>\n    <tr>\n      <th>12</th>\n      <td>меценат</td>\n      <td>батум</td>\n      <td>поэзия</td>\n      <td>увидеть</td>\n      <td>снова</td>\n      <td>наконец</td>\n      <td>мать</td>\n      <td>47</td>\n      <td>азербайджанский</td>\n      <td>отвечать</td>\n      <td>дубровский</td>\n      <td>время</td>\n      <td>мигурский</td>\n      <td>мне</td>\n      <td>или</td>\n    </tr>\n    <tr>\n      <th>13</th>\n      <td>когда</td>\n      <td>театр</td>\n      <td>среди</td>\n      <td>бричка</td>\n      <td>дронов</td>\n      <td>арестант</td>\n      <td>глаз</td>\n      <td>поединок</td>\n      <td>кериб</td>\n      <td>улан</td>\n      <td>их</td>\n      <td>потому что</td>\n      <td>том</td>\n      <td>пигасов</td>\n      <td>когда</td>\n    </tr>\n    <tr>\n      <th>14</th>\n      <td>потом</td>\n      <td>гражданин</td>\n      <td>порог</td>\n      <td>запорожец</td>\n      <td>говорить</td>\n      <td>чтоб</td>\n      <td>роман</td>\n      <td>каждый</td>\n      <td>отвечал</td>\n      <td>казаться</td>\n      <td>оставить</td>\n      <td>ежели</td>\n      <td>ежели</td>\n      <td>по</td>\n      <td>лобытко</td>\n    </tr>\n  </tbody>\n</table>\n</div>"
     },
     "execution_count": 10,
     "metadata": {},
     "output_type": "execute_result"
    }
   ],
   "source": [
    "get_top_features(label_enc, data_enc, clf, n=15)"
   ]
  },
  {
   "cell_type": "code",
   "execution_count": 32,
   "id": "11aab6e2",
   "metadata": {},
   "outputs": [
    {
     "data": {
      "image/png": "[encoded data removed]",
      "text/plain": [
       "<Figure size 640x480 with 1 Axes>"
      ]
     },
     "metadata": {},
     "output_type": "display_data"
    }
   ],
   "source": [
    "scores_graph = [0.699, 0.727, 0.725, 0.785]\n",
    "x_ = list(range(4))\n",
    "import matplotlib.pyplot as plt\n",
    "plt.plot(x_, scores_graph)\n",
    "plt.ylabel(\"scores\")\n",
    "xtick_labels = [\"lemmas\", \"tokens+lemmas\", \"tokens+lemmas+scalar\", \"t+l+s+opt\"]\n",
    "plt.xticks(x_, xtick_labels, rotation='vertical')\n",
    "plt.show()"
   ]
  }
 ],
 "metadata": {
  "kernelspec": {
   "display_name": "py37",
   "language": "python",
   "name": "py37"
  },
  "language_info": {
   "codemirror_mode": {
    "name": "ipython",
    "version": 3
   },
   "file_extension": ".py",
   "mimetype": "text/x-python",
   "name": "python",
   "nbconvert_exporter": "python",
   "pygments_lexer": "ipython3",
   "version": "3.7.15"
  }
 },
 "nbformat": 4,
 "nbformat_minor": 5
}
